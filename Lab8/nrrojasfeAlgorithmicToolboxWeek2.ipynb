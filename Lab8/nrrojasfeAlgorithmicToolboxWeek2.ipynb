{
 "metadata": {
  "language_info": {
   "codemirror_mode": {
    "name": "ipython",
    "version": 3
   },
   "file_extension": ".py",
   "mimetype": "text/x-python",
   "name": "python",
   "nbconvert_exporter": "python",
   "pygments_lexer": "ipython3",
   "version": "3.7.3-final"
  },
  "orig_nbformat": 2,
  "kernelspec": {
   "name": "python37364bit83930318ec2e44a7a4bc989fd449308c",
   "display_name": "Python 3.7.3 64-bit"
  }
 },
 "nbformat": 4,
 "nbformat_minor": 2,
 "cells": [
  {
   "cell_type": "markdown",
   "metadata": {},
   "source": [
    "# LAB 8 Algorithmic Toolbox – Week 2 – Programming Challenges\n",
    "\n",
    "Presentado por: Nicolas Raul Rojas Feria - Grupo 19 de clase"
   ]
  },
  {
   "cell_type": "markdown",
   "metadata": {},
   "source": []
  },
  {
   "cell_type": "markdown",
   "metadata": {},
   "source": [
    "## Programming Assignment 1: Fibonacci Number\n",
    "\n",
    "![coursera_week2](https://i.ibb.co/T2H87L9/Captura-de-pantalla-rea-de-selecci-n-20210713191810.png)\n",
    "\n",
    "- Task. Given an integer 𝑛,find the last digit of the 𝑛thFibonacci number 𝐹𝑛(that is, 𝐹𝑛mod 10). \\\\\n",
    "- Input Format. The input consists of a single integer 𝑛.\n",
    "- Constraints. 0≤𝑛≤107.\n",
    "- Output Format. Output the last digit of 𝐹𝑛.\n",
    "\n",
    "\n",
    "Codigo subido a coursera:"
   ]
  },
  {
   "cell_type": "code",
   "execution_count": null,
   "metadata": {},
   "outputs": [],
   "source": [
    "def fibonacci(n, computado = {0: 0, 1: 1}):\n",
    "    if n not in computado:\n",
    "        computado[n] = fibonacci(n-1, computado) + fibonacci(n-2, computado)\n",
    "    return computado[n]\n",
    "\n",
    "if __name__== '__main__':\n",
    "    n= int(input())\n",
    "    print(fibonacci(n))"
   ]
  },
  {
   "cell_type": "markdown",
   "metadata": {},
   "source": [
    "## Programming Assignment 3: Greatest Common Divisor\n",
    "- Task. Given two integers 𝑎and 𝑏,find their greatest common divisor.\n",
    "- Input Format. The two integers 𝑎,𝑏are given in the same line separated by space.\n",
    "- Constraints. 1≤𝑎,𝑏≤2·109.\n",
    "- Output Format. Output GCD(𝑎,𝑏)\n",
    "\n",
    "Codigo subido a coursera:\n",
    "\n",
    "\n"
   ]
  },
  {
   "cell_type": "code",
   "execution_count": null,
   "metadata": {},
   "outputs": [],
   "source": [
    "def mcd (a,b):\n",
    "    minimo = min(a,b)\n",
    "    maximo = max(a,b)\n",
    "\n",
    "    if (minimo==0):\n",
    "        return maximo \n",
    "    elif (minimo == 1):\n",
    "        return 1 \n",
    "    else:\n",
    "        return mcd(minimo, maximo%minimo) \n",
    "\n",
    "\n",
    "if __name__== '__main__':\n",
    "    a,b = map(int, input().split()) \n",
    "    print(mcd(a,b))"
   ]
  },
  {
   "cell_type": "markdown",
   "metadata": {},
   "source": [
    "## Programming Assignment 4: Least Common Multiple\n",
    "\n",
    "- Task. Given two integers 𝑎and 𝑏,find their least common multiple.\n",
    "- Input Format. The two integers 𝑎and 𝑏are given in the same line separated by space.\n",
    "- Constraints. 1≤𝑎,𝑏≤107.Output Format. \n",
    "- Output the least common multiple of 𝑎and 𝑏\n",
    "\n",
    "Codigo subido a coursera: \n",
    "\n",
    "\n"
   ]
  },
  {
   "cell_type": "code",
   "execution_count": null,
   "metadata": {},
   "outputs": [],
   "source": [
    "# least common multiple is a*b/gcd(a,b)\n",
    "\n",
    "def mcd (a,b):\n",
    "    minimo = min(a,b)\n",
    "    maximo = max(a,b)\n",
    "\n",
    "    if (minimo==0):\n",
    "        return maximo \n",
    "    elif (minimo == 1):\n",
    "        return 1 \n",
    "    else:\n",
    "        return mcd(minimo, maximo%minimo) \n",
    "\n",
    "\n",
    "if __name__== '__main__':\n",
    "    a,b = map(int, input().split()) \n",
    "    print(int((a*b)/mcd(a,b)))"
   ]
  },
  {
   "cell_type": "markdown",
   "metadata": {},
   "source": [
    "## Programming Assignment 6: Last Digit of the sum of Fibonacci Numbers \n",
    "\n",
    "- Task. Given an integer 𝑛,find the last digit of the sum 𝐹0+ 𝐹1+· · ·+ 𝐹𝑛.\n",
    "- Input Format. The input consists of a single integer 𝑛.\n",
    "- Constraints. 0≤𝑛≤1014.\n",
    "- Output Format. Output the last digit of 𝐹0+ 𝐹1+· · ·+ 𝐹𝑛.\n",
    "\n",
    "Codigo subido a coursera:\n"
   ]
  },
  {
   "cell_type": "code",
   "execution_count": 5,
   "metadata": {
    "tags": []
   },
   "outputs": [
    {
     "output_type": "stream",
     "name": "stdout",
     "text": "5\n"
    }
   ],
   "source": [
    "def fibonacci_sum(n):\n",
    "\n",
    "    pisano = 60\n",
    "\n",
    "    if n < 2: return n\n",
    "\n",
    "    n %= pisano\n",
    "\n",
    "    fib_arr = [1,1]\n",
    "    for _ in range(n):\n",
    "        fib_arr.append((fib_arr[-1] + fib_arr[-2]) % 10)\n",
    "\n",
    "    return (fib_arr[-1] - 1) % 10 \n",
    "\n",
    "n=int(input())\n",
    "print(fibonacci_sum(n))"
   ]
  }
 ]
}