{
  "nbformat": 4,
  "nbformat_minor": 0,
  "metadata": {
    "kernelspec": {
      "name": "python3",
      "display_name": "Python 3"
    },
    "colab": {
      "name": "nrrojasfelecture1.ipynb",
      "provenance": []
    }
  },
  "cells": [
    {
      "cell_type": "markdown",
      "metadata": {
        "id": "6St8cJ7LqeoD"
      },
      "source": [
        "#Introduction to the Research Environment\n",
        "\n",
        "The research environment is powered by IPython notebooks, which allow one to perform a great deal of data analysis and statistical validation. We'll demonstrate a few simple techniques here."
      ]
    },
    {
      "cell_type": "markdown",
      "metadata": {
        "id": "G3Ziq8VrqeoI"
      },
      "source": [
        "##Code Cells vs. Text Cells\n",
        "\n",
        "As you can see, each cell can be either code or text. To select between them, choose from the 'Cell Type' dropdown menu on the top left."
      ]
    },
    {
      "cell_type": "markdown",
      "metadata": {
        "id": "zgjfYsaYqeoJ"
      },
      "source": [
        "##Executing a Command\n",
        "\n",
        "A code cell will be evaluated when you press play, or when you press the shortcut, shift-enter. Evaluating a cell evaluates each line of code in sequence, and prints the results of the last line below the cell."
      ]
    },
    {
      "cell_type": "code",
      "metadata": {
        "id": "0U2T5yurqeoK",
        "colab": {
          "base_uri": "https://localhost:8080/"
        },
        "outputId": "2b2e61d6-3d05-41bd-fe6e-c9a001f15780"
      },
      "source": [
        "2**2"
      ],
      "execution_count": 8,
      "outputs": [
        {
          "output_type": "execute_result",
          "data": {
            "text/plain": [
              "4"
            ]
          },
          "metadata": {
            "tags": []
          },
          "execution_count": 8
        }
      ]
    },
    {
      "cell_type": "markdown",
      "metadata": {
        "id": "uN03AKoiqeoK"
      },
      "source": [
        "Sometimes there is no result to be printed, as is the case with assignment."
      ]
    },
    {
      "cell_type": "code",
      "metadata": {
        "collapsed": true,
        "id": "jjx4A-IzqeoL"
      },
      "source": [
        "X = 2"
      ],
      "execution_count": 4,
      "outputs": []
    },
    {
      "cell_type": "markdown",
      "metadata": {
        "id": "LGaQKbd8qeoL"
      },
      "source": [
        "Remember that only the result from the last line is printed."
      ]
    },
    {
      "cell_type": "code",
      "metadata": {
        "id": "0TGXtX_7qeoL",
        "colab": {
          "base_uri": "https://localhost:8080/"
        },
        "outputId": "04fbf0b0-58c9-4580-d7b9-e6460cd24be6"
      },
      "source": [
        "2 + 2\n",
        "3 + 3"
      ],
      "execution_count": 6,
      "outputs": [
        {
          "output_type": "execute_result",
          "data": {
            "text/plain": [
              "6"
            ]
          },
          "metadata": {
            "tags": []
          },
          "execution_count": 6
        }
      ]
    },
    {
      "cell_type": "markdown",
      "metadata": {
        "id": "vGtPrjJlqeoL"
      },
      "source": [
        "However, you can print whichever lines you want using the `print` statement."
      ]
    },
    {
      "cell_type": "code",
      "metadata": {
        "id": "o5xCIqxAqeoM",
        "colab": {
          "base_uri": "https://localhost:8080/"
        },
        "outputId": "719bf435-b85d-4f19-83d4-5c0ca7fb5b5d"
      },
      "source": [
        "print(2+2)\n",
        "3 + 3"
      ],
      "execution_count": 7,
      "outputs": [
        {
          "output_type": "stream",
          "text": [
            "4\n"
          ],
          "name": "stdout"
        },
        {
          "output_type": "execute_result",
          "data": {
            "text/plain": [
              "6"
            ]
          },
          "metadata": {
            "tags": []
          },
          "execution_count": 7
        }
      ]
    },
    {
      "cell_type": "markdown",
      "metadata": {
        "id": "XBWBLuCIqeoM"
      },
      "source": [
        "##Knowing When a Cell is Running\n",
        "\n",
        "While a cell is running, a `[*]` will display on the left. When a cell has yet to be executed, `[ ]` will display. When it has been run, a number will display indicating the order in which it was run during the execution of the notebook `[5]`. Try on this cell and note it happening."
      ]
    },
    {
      "cell_type": "code",
      "metadata": {
        "id": "XrZqDvI4qeoM",
        "colab": {
          "base_uri": "https://localhost:8080/"
        },
        "outputId": "6ce90653-b281-4163-be4d-df648d267e26"
      },
      "source": [
        "#Take some time to run something\n",
        "c = 0\n",
        "for i in range(10000000):\n",
        "    c = c + i\n",
        "c"
      ],
      "execution_count": 9,
      "outputs": [
        {
          "output_type": "execute_result",
          "data": {
            "text/plain": [
              "49999995000000"
            ]
          },
          "metadata": {
            "tags": []
          },
          "execution_count": 9
        }
      ]
    },
    {
      "cell_type": "markdown",
      "metadata": {
        "id": "0WQAdhd1qeoN"
      },
      "source": [
        "##Importing Libraries\n",
        "\n",
        "The vast majority of the time, you'll want to use functions from pre-built libraries. You can't import every library on Quantopian due to security issues, but you can import most of the common scientific ones. Here I import numpy and pandas, the two most common and useful libraries in quant finance. I recommend copying this import statement to every new notebook.\n",
        "\n",
        "Notice that you can rename libraries to whatever you want after importing. The `as` statement allows this. Here we use `np` and `pd` as aliases for `numpy` and `pandas`. This is a very common aliasing and will be found in most code snippets around the web. The point behind this is to allow you to type fewer characters when you are frequently accessing these libraries."
      ]
    },
    {
      "cell_type": "code",
      "metadata": {
        "collapsed": true,
        "id": "9Ca_0gXrqeoO"
      },
      "source": [
        "import numpy as np\n",
        "import pandas as pd\n",
        "\n",
        "# This is a plotting library for pretty pictures.\n",
        "import matplotlib.pyplot as plt"
      ],
      "execution_count": 10,
      "outputs": []
    },
    {
      "cell_type": "markdown",
      "metadata": {
        "id": "absoBdqsqeoP"
      },
      "source": [
        "##Tab Autocomplete\n",
        "\n",
        "Pressing tab will give you a list of IPython's best guesses for what you might want to type next. This is incredibly valuable and will save you a lot of time. If there is only one possible option for what you could type next, IPython will fill that in for you. Try pressing tab very frequently, it will seldom fill in anything you don't want, as if there is ambiguity a list will be shown. This is a great way to see what functions are available in a library.\n",
        "\n",
        "Try placing your cursor after the `.` and pressing tab."
      ]
    },
    {
      "cell_type": "code",
      "metadata": {
        "id": "0X8Sn6kUqeoQ"
      },
      "source": [
        "np.random.gamma"
      ],
      "execution_count": null,
      "outputs": []
    },
    {
      "cell_type": "markdown",
      "metadata": {
        "id": "daysfSJ_qeoQ"
      },
      "source": [
        "##Getting Documentation Help\n",
        "\n",
        "Placing a question mark after a function and executing that line of code will give you the documentation IPython has for that function. It's often best to do this in a new cell, as you avoid re-executing other code and running into bugs."
      ]
    },
    {
      "cell_type": "code",
      "metadata": {
        "collapsed": true,
        "id": "EXrXLWGzqeoR"
      },
      "source": [
        "np.random.normal?"
      ],
      "execution_count": 11,
      "outputs": []
    },
    {
      "cell_type": "markdown",
      "metadata": {
        "id": "fOB-yiELqeoR"
      },
      "source": [
        "##Sampling\n",
        "\n",
        "We'll sample some random data using a function from `numpy`."
      ]
    },
    {
      "cell_type": "code",
      "metadata": {
        "id": "k76xIGoyqeoR",
        "colab": {
          "base_uri": "https://localhost:8080/"
        },
        "outputId": "4aa6a4bb-ca68-4432-a906-125326dd478f"
      },
      "source": [
        "# Sample 100 points with a mean of 0 and an std of 1. This is a standard normal distribution.\n",
        "X = np.random.normal(0, 1, 100)\n",
        "print(np.std(np.round(X)))\n",
        "np.mean(np.round(X))"
      ],
      "execution_count": 26,
      "outputs": [
        {
          "output_type": "stream",
          "text": [
            "0.9262289133902052\n"
          ],
          "name": "stdout"
        },
        {
          "output_type": "execute_result",
          "data": {
            "text/plain": [
              "-0.11"
            ]
          },
          "metadata": {
            "tags": []
          },
          "execution_count": 26
        }
      ]
    },
    {
      "cell_type": "markdown",
      "metadata": {
        "id": "oOu81pBOqeoS"
      },
      "source": [
        "##Plotting\n",
        "\n",
        "We can use the plotting library we imported as follows."
      ]
    },
    {
      "cell_type": "code",
      "metadata": {
        "id": "fQIQ49OPqeoS",
        "colab": {
          "base_uri": "https://localhost:8080/",
          "height": 283
        },
        "outputId": "0c406c29-b8d6-4827-ff2c-c436d66efc96"
      },
      "source": [
        "plt.plot(X)"
      ],
      "execution_count": 27,
      "outputs": [
        {
          "output_type": "execute_result",
          "data": {
            "text/plain": [
              "[<matplotlib.lines.Line2D at 0x7fe57dd6d790>]"
            ]
          },
          "metadata": {
            "tags": []
          },
          "execution_count": 27
        },
        {
          "output_type": "display_data",
          "data": {
            "image/png": "[encoded data removed]",
            "text/plain": [
              "<Figure size 432x288 with 1 Axes>"
            ]
          },
          "metadata": {
            "tags": [],
            "needs_background": "light"
          }
        }
      ]
    },
    {
      "cell_type": "markdown",
      "metadata": {
        "id": "xL8_qZlbqeoS"
      },
      "source": [
        "###Squelching Line Output\n",
        "\n",
        "You might have noticed the annoying line of the form `[<matplotlib.lines.Line2D at 0x7f72fdbc1710>]` before the plots. This is because the `.plot` function actually produces output. Sometimes we wish not to display output, we can accomplish this with the semi-colon as follows."
      ]
    },
    {
      "cell_type": "code",
      "metadata": {
        "id": "Bh6isJmbqeoS",
        "colab": {
          "base_uri": "https://localhost:8080/",
          "height": 265
        },
        "outputId": "e2774360-f3e7-4a9c-9cdc-2852fd019359"
      },
      "source": [
        "plt.plot(X);"
      ],
      "execution_count": 30,
      "outputs": [
        {
          "output_type": "display_data",
          "data": {
            "image/png": "[encoded data removed]",
            "text/plain": [
              "<Figure size 432x288 with 1 Axes>"
            ]
          },
          "metadata": {
            "tags": [],
            "needs_background": "light"
          }
        }
      ]
    },
    {
      "cell_type": "markdown",
      "metadata": {
        "id": "WAYxq4eGqeoT"
      },
      "source": [
        "###Adding Axis Labels\n",
        "\n",
        "No self-respecting quant leaves a graph without labeled axes. Here are some commands to help with that."
      ]
    },
    {
      "cell_type": "code",
      "metadata": {
        "id": "tg7lq-HhqeoT",
        "colab": {
          "base_uri": "https://localhost:8080/",
          "height": 279
        },
        "outputId": "703bf458-a264-4e2b-d281-5d77f162e9d1"
      },
      "source": [
        "X = np.random.normal(0, 1, 100)\n",
        "X2 = np.random.normal(0, 1, 100)\n",
        "\n",
        "plt.plot(X);\n",
        "plt.plot(X2);\n",
        "plt.xlabel('Time') # The data we generated is unitless, but don't forget units in general.\n",
        "plt.ylabel('Returns')\n",
        "plt.legend(['X', 'X2']);"
      ],
      "execution_count": 31,
      "outputs": [
        {
          "output_type": "display_data",
          "data": {
            "image/png": "[encoded data removed]",
            "text/plain": [
              "<Figure size 432x288 with 1 Axes>"
            ]
          },
          "metadata": {
            "tags": [],
            "needs_background": "light"
          }
        }
      ]
    },
    {
      "cell_type": "markdown",
      "metadata": {
        "id": "m6Fs6JmSqeoT"
      },
      "source": [
        "##Generating Statistics\n",
        "\n",
        "Let's use `numpy` to take some simple statistics."
      ]
    },
    {
      "cell_type": "code",
      "metadata": {
        "id": "uTAuQd2IqeoT",
        "colab": {
          "base_uri": "https://localhost:8080/"
        },
        "outputId": "bf7f6f65-e046-4bdd-8f74-7db95929e961"
      },
      "source": [
        "np.mean(X)"
      ],
      "execution_count": 32,
      "outputs": [
        {
          "output_type": "execute_result",
          "data": {
            "text/plain": [
              "-0.09993807431010023"
            ]
          },
          "metadata": {
            "tags": []
          },
          "execution_count": 32
        }
      ]
    },
    {
      "cell_type": "code",
      "metadata": {
        "id": "rgMpyey_qeoU",
        "colab": {
          "base_uri": "https://localhost:8080/"
        },
        "outputId": "7ceba2ba-9c71-4c40-f426-baccb6182ccd"
      },
      "source": [
        "np.std(X)"
      ],
      "execution_count": 33,
      "outputs": [
        {
          "output_type": "execute_result",
          "data": {
            "text/plain": [
              "0.9938658133704501"
            ]
          },
          "metadata": {
            "tags": []
          },
          "execution_count": 33
        }
      ]
    },
    {
      "cell_type": "markdown",
      "metadata": {
        "id": "gqp5P7gSqeoU"
      },
      "source": [
        "##Getting Real Pricing Data\n",
        "\n",
        "Randomly sampled data can be great for testing ideas, but let's get some real data. We can use `get_pricing` to do that. You can use the `?` syntax as discussed above to get more information on `get_pricing`'s arguments."
      ]
    },
    {
      "cell_type": "code",
      "metadata": {
        "id": "sJn9yozlqeoU"
      },
      "source": [
        "#data = get_pricing('MSFT', start_date='2012-1-1', end_date='2015-6-1')\n",
        "import pandas_datareader as pdr\n",
        "import datetime \n",
        "data = pdr.get_data_yahoo('MSFT', start= datetime.datetime(2018,1,1), end= datetime.datetime(2019,1,1))"
      ],
      "execution_count": 37,
      "outputs": []
    },
    {
      "cell_type": "markdown",
      "metadata": {
        "id": "5JaCyRsZqeoU"
      },
      "source": [
        "Our data is now a dataframe. You can see the datetime index and the colums with different pricing data."
      ]
    },
    {
      "cell_type": "code",
      "metadata": {
        "id": "rayma9rqqeoV",
        "colab": {
          "base_uri": "https://localhost:8080/",
          "height": 450
        },
        "outputId": "939c5473-4d79-4609-9141-c87c9765306d"
      },
      "source": [
        "data"
      ],
      "execution_count": 38,
      "outputs": [
        {
          "output_type": "execute_result",
          "data": {
            "text/html": [
              "<div>\n",
              "<style scoped>\n",
              "    .dataframe tbody tr th:only-of-type {\n",
              "        vertical-align: middle;\n",
              "    }\n",
              "\n",
              "    .dataframe tbody tr th {\n",
              "        vertical-align: top;\n",
              "    }\n",
              "\n",
              "    .dataframe thead th {\n",
              "        text-align: right;\n",
              "    }\n",
              "</style>\n",
              "<table border=\"1\" class=\"dataframe\">\n",
              "  <thead>\n",
              "    <tr style=\"text-align: right;\">\n",
              "      <th></th>\n",
              "      <th>High</th>\n",
              "      <th>Low</th>\n",
              "      <th>Open</th>\n",
              "      <th>Close</th>\n",
              "      <th>Volume</th>\n",
              "      <th>Adj Close</th>\n",
              "    </tr>\n",
              "    <tr>\n",
              "      <th>Date</th>\n",
              "      <th></th>\n",
              "      <th></th>\n",
              "      <th></th>\n",
              "      <th></th>\n",
              "      <th></th>\n",
              "      <th></th>\n",
              "    </tr>\n",
              "  </thead>\n",
              "  <tbody>\n",
              "    <tr>\n",
              "      <th>2018-01-02</th>\n",
              "      <td>86.309998</td>\n",
              "      <td>85.500000</td>\n",
              "      <td>86.129997</td>\n",
              "      <td>85.949997</td>\n",
              "      <td>22483800.0</td>\n",
              "      <td>82.194328</td>\n",
              "    </tr>\n",
              "    <tr>\n",
              "      <th>2018-01-03</th>\n",
              "      <td>86.510002</td>\n",
              "      <td>85.970001</td>\n",
              "      <td>86.059998</td>\n",
              "      <td>86.349998</td>\n",
              "      <td>26061400.0</td>\n",
              "      <td>82.576843</td>\n",
              "    </tr>\n",
              "    <tr>\n",
              "      <th>2018-01-04</th>\n",
              "      <td>87.660004</td>\n",
              "      <td>86.570000</td>\n",
              "      <td>86.589996</td>\n",
              "      <td>87.110001</td>\n",
              "      <td>21912000.0</td>\n",
              "      <td>83.303658</td>\n",
              "    </tr>\n",
              "    <tr>\n",
              "      <th>2018-01-05</th>\n",
              "      <td>88.410004</td>\n",
              "      <td>87.430000</td>\n",
              "      <td>87.660004</td>\n",
              "      <td>88.190002</td>\n",
              "      <td>23407100.0</td>\n",
              "      <td>84.336464</td>\n",
              "    </tr>\n",
              "    <tr>\n",
              "      <th>2018-01-08</th>\n",
              "      <td>88.580002</td>\n",
              "      <td>87.599998</td>\n",
              "      <td>88.199997</td>\n",
              "      <td>88.279999</td>\n",
              "      <td>22113000.0</td>\n",
              "      <td>84.422516</td>\n",
              "    </tr>\n",
              "    <tr>\n",
              "      <th>...</th>\n",
              "      <td>...</td>\n",
              "      <td>...</td>\n",
              "      <td>...</td>\n",
              "      <td>...</td>\n",
              "      <td>...</td>\n",
              "      <td>...</td>\n",
              "    </tr>\n",
              "    <tr>\n",
              "      <th>2018-12-24</th>\n",
              "      <td>97.970001</td>\n",
              "      <td>93.980003</td>\n",
              "      <td>97.680000</td>\n",
              "      <td>94.129997</td>\n",
              "      <td>43935200.0</td>\n",
              "      <td>91.575211</td>\n",
              "    </tr>\n",
              "    <tr>\n",
              "      <th>2018-12-26</th>\n",
              "      <td>100.690002</td>\n",
              "      <td>93.959999</td>\n",
              "      <td>95.139999</td>\n",
              "      <td>100.559998</td>\n",
              "      <td>51634800.0</td>\n",
              "      <td>97.830696</td>\n",
              "    </tr>\n",
              "    <tr>\n",
              "      <th>2018-12-27</th>\n",
              "      <td>101.190002</td>\n",
              "      <td>96.400002</td>\n",
              "      <td>99.300003</td>\n",
              "      <td>101.180000</td>\n",
              "      <td>49498500.0</td>\n",
              "      <td>98.433876</td>\n",
              "    </tr>\n",
              "    <tr>\n",
              "      <th>2018-12-28</th>\n",
              "      <td>102.410004</td>\n",
              "      <td>99.519997</td>\n",
              "      <td>102.089996</td>\n",
              "      <td>100.389999</td>\n",
              "      <td>38196300.0</td>\n",
              "      <td>97.665306</td>\n",
              "    </tr>\n",
              "    <tr>\n",
              "      <th>2018-12-31</th>\n",
              "      <td>102.400002</td>\n",
              "      <td>100.440002</td>\n",
              "      <td>101.290001</td>\n",
              "      <td>101.570000</td>\n",
              "      <td>33173800.0</td>\n",
              "      <td>98.813278</td>\n",
              "    </tr>\n",
              "  </tbody>\n",
              "</table>\n",
              "<p>251 rows × 6 columns</p>\n",
              "</div>"
            ],
            "text/plain": [
              "                  High         Low  ...      Volume  Adj Close\n",
              "Date                                ...                       \n",
              "2018-01-02   86.309998   85.500000  ...  22483800.0  82.194328\n",
              "2018-01-03   86.510002   85.970001  ...  26061400.0  82.576843\n",
              "2018-01-04   87.660004   86.570000  ...  21912000.0  83.303658\n",
              "2018-01-05   88.410004   87.430000  ...  23407100.0  84.336464\n",
              "2018-01-08   88.580002   87.599998  ...  22113000.0  84.422516\n",
              "...                ...         ...  ...         ...        ...\n",
              "2018-12-24   97.970001   93.980003  ...  43935200.0  91.575211\n",
              "2018-12-26  100.690002   93.959999  ...  51634800.0  97.830696\n",
              "2018-12-27  101.190002   96.400002  ...  49498500.0  98.433876\n",
              "2018-12-28  102.410004   99.519997  ...  38196300.0  97.665306\n",
              "2018-12-31  102.400002  100.440002  ...  33173800.0  98.813278\n",
              "\n",
              "[251 rows x 6 columns]"
            ]
          },
          "metadata": {
            "tags": []
          },
          "execution_count": 38
        }
      ]
    },
    {
      "cell_type": "markdown",
      "metadata": {
        "id": "ZvY0G0psqeoV"
      },
      "source": [
        "This is a pandas dataframe, so we can index in to just get price like this. For more info on pandas, please [click here](http://pandas.pydata.org/pandas-docs/stable/10min.html)."
      ]
    },
    {
      "cell_type": "code",
      "metadata": {
        "id": "U18BoGssqeoV"
      },
      "source": [
        "X = data['High']"
      ],
      "execution_count": 40,
      "outputs": []
    },
    {
      "cell_type": "code",
      "metadata": {
        "colab": {
          "base_uri": "https://localhost:8080/"
        },
        "id": "P__RLswQxYm3",
        "outputId": "2ddd7397-3f7d-49d3-cd80-9f7fb0564d3b"
      },
      "source": [
        "X.index"
      ],
      "execution_count": 42,
      "outputs": [
        {
          "output_type": "execute_result",
          "data": {
            "text/plain": [
              "DatetimeIndex(['2018-01-02', '2018-01-03', '2018-01-04', '2018-01-05',\n",
              "               '2018-01-08', '2018-01-09', '2018-01-10', '2018-01-11',\n",
              "               '2018-01-12', '2018-01-16',\n",
              "               ...\n",
              "               '2018-12-17', '2018-12-18', '2018-12-19', '2018-12-20',\n",
              "               '2018-12-21', '2018-12-24', '2018-12-26', '2018-12-27',\n",
              "               '2018-12-28', '2018-12-31'],\n",
              "              dtype='datetime64[ns]', name='Date', length=251, freq=None)"
            ]
          },
          "metadata": {
            "tags": []
          },
          "execution_count": 42
        }
      ]
    },
    {
      "cell_type": "code",
      "metadata": {
        "colab": {
          "base_uri": "https://localhost:8080/"
        },
        "id": "rHxy8_caxdKV",
        "outputId": "d0e75b36-9656-495d-97f4-93f92d0353e7"
      },
      "source": [
        "X.values"
      ],
      "execution_count": 43,
      "outputs": [
        {
          "output_type": "execute_result",
          "data": {
            "text/plain": [
              "array([ 86.30999756,  86.51000214,  87.66000366,  88.41000366,\n",
              "        88.58000183,  88.73000336,  88.19000244,  88.12999725,\n",
              "        89.77999878,  90.79000092,  90.27999878,  90.66999817,\n",
              "        90.61000061,  91.62000275,  92.30000305,  93.43000031,\n",
              "        93.23999786,  94.05999756,  95.44999695,  93.66000366,\n",
              "        95.40000153,  96.06999969,  93.97000122,  93.23999786,\n",
              "        91.48000336,  91.76999664,  89.87999725,  88.93000031,\n",
              "        89.77999878,  90.        ,  90.98999786,  92.72000122,\n",
              "        93.5       ,  93.05999756,  93.36000061,  92.73000336,\n",
              "        94.06999969,  95.44999695,  95.83999634,  95.70999908,\n",
              "        94.56999969,  93.15000153,  94.26999664,  94.48999786,\n",
              "        93.94000244,  95.09999847,  96.54000092,  97.20999908,\n",
              "        97.23999786,  95.41000366,  94.58000183,  95.37999725,\n",
              "        93.90000153,  93.76999664,  94.05000305,  91.75      ,\n",
              "        90.45999908,  94.        ,  95.13999939,  91.23000336,\n",
              "        92.29000092,  90.87999725,  90.05000305,  92.76000214,\n",
              "        93.06999969,  92.45999908,  93.16999817,  93.27999878,\n",
              "        93.29000092,  94.16000366,  94.18000031,  94.66000366,\n",
              "        96.54000092,  96.72000122,  97.06999969,  96.11000061,\n",
              "        96.29000092,  96.47000122,  93.30000305,  95.15000153,\n",
              "        97.90000153,  96.40000153,  95.29000092,  95.16999817,\n",
              "        94.93000031,  95.37000275,  96.70999908,  96.16000366,\n",
              "        96.97000122,  97.94999695,  97.87000275,  98.69000244,\n",
              "        97.84999847,  97.40000153,  97.54000092,  96.93000031,\n",
              "        98.01000214,  98.16999817,  98.73000336,  98.94000244,\n",
              "        98.98000336,  98.87999725,  99.25      ,  99.98999786,\n",
              "       100.86000061, 101.86000061, 102.33000183, 102.59999847,\n",
              "       102.69000244, 101.94999695, 101.58999634, 101.44999695,\n",
              "       102.01000214, 102.02999878, 101.52999878, 101.11000061,\n",
              "       101.        , 102.51999664, 102.45999908, 100.76999664,\n",
              "       100.11000061, 100.08000183, 100.01999664,  99.11000061,\n",
              "        99.91000366, 100.05999756, 100.62999725,  99.91999817,\n",
              "       101.43000031, 102.25      , 102.51000214, 102.33999634,\n",
              "       104.41000366, 105.59999847, 105.81999969, 106.5       ,\n",
              "       106.05000305, 105.30999756, 108.19999695, 108.13999939,\n",
              "       108.81999969, 111.15000153, 111.        , 110.18000031,\n",
              "       107.52999878, 106.72000122, 106.44999695, 108.08999634,\n",
              "       108.05000305, 108.41999817, 109.09999847, 109.75      ,\n",
              "       110.16000366, 109.69000244, 109.58000183, 109.75      ,\n",
              "       108.98999786, 108.86000061, 107.90000153, 107.90000153,\n",
              "       107.34999847, 107.33999634, 108.18000031, 108.55999756,\n",
              "       109.63999939, 110.5       , 112.02999878, 112.61000061,\n",
              "       112.77999878, 111.95999908, 111.41999817, 108.98999786,\n",
              "       108.72000122, 109.63999939, 111.58999634, 111.84999847,\n",
              "       113.73000336, 113.73000336, 113.69999695, 113.69999695,\n",
              "       113.31999969, 113.80000305, 115.29000092, 114.90000153,\n",
              "       115.09999847, 115.05999756, 114.91000366, 114.56999969,\n",
              "       115.68000031, 115.83999634, 116.18000031, 114.76000214,\n",
              "       113.16999817, 112.02999878, 113.08000183, 111.5       ,\n",
              "       108.93000031, 111.23999786, 109.48000336, 111.41000366,\n",
              "       111.80999756, 110.52999878, 110.86000061, 110.54000092,\n",
              "       108.97000122, 108.48999786, 109.26999664, 108.75      ,\n",
              "       108.69999695, 104.37999725, 108.13999939, 107.31999969,\n",
              "       107.31999969, 107.73999786, 108.83999634, 112.23999786,\n",
              "       112.20999908, 111.44999695, 109.95999908, 108.73999786,\n",
              "       108.26000214, 107.80000305, 108.87999725, 108.55999756,\n",
              "       102.97000122, 104.43000031, 103.80999756, 106.62999725,\n",
              "       107.33000183, 111.33000183, 111.12000275, 110.97000122,\n",
              "       113.41999817, 112.63999939, 109.23999786, 109.44999695,\n",
              "       107.98000336, 110.94999695, 111.26999664, 110.87000275,\n",
              "       109.26000214, 105.80000305, 104.51000214, 106.87999725,\n",
              "       104.30999756, 103.        ,  97.97000122, 100.69000244,\n",
              "       101.19000244, 102.41000366, 102.40000153])"
            ]
          },
          "metadata": {
            "tags": []
          },
          "execution_count": 43
        }
      ]
    },
    {
      "cell_type": "markdown",
      "metadata": {
        "id": "XIxLG-IbqeoV"
      },
      "source": [
        "Because there is now also date information in our data, we provide two series to `.plot`. `X.index` gives us the datetime index, and `X.values` gives us the pricing values. These are used as the X and Y coordinates to make a graph."
      ]
    },
    {
      "cell_type": "code",
      "metadata": {
        "id": "SJllRbKDqeoW",
        "colab": {
          "base_uri": "https://localhost:8080/",
          "height": 265
        },
        "outputId": "75fdb0b4-0cfb-4836-cd62-cf08ee7ac348"
      },
      "source": [
        "plt.plot(X.index, X.values)\n",
        "plt.ylabel('Price')\n",
        "plt.legend(['MSFT']);"
      ],
      "execution_count": 44,
      "outputs": [
        {
          "output_type": "display_data",
          "data": {
            "image/png": "[encoded data removed]",
            "text/plain": [
              "<Figure size 432x288 with 1 Axes>"
            ]
          },
          "metadata": {
            "tags": [],
            "needs_background": "light"
          }
        }
      ]
    },
    {
      "cell_type": "markdown",
      "metadata": {
        "id": "Y0SfcvxEqeoW"
      },
      "source": [
        "We can get statistics again on real data."
      ]
    },
    {
      "cell_type": "code",
      "metadata": {
        "id": "eRIwmgpMqeoW",
        "colab": {
          "base_uri": "https://localhost:8080/"
        },
        "outputId": "b05f559b-d69f-4b54-fbf8-d530bf873b78"
      },
      "source": [
        "np.mean(X)"
      ],
      "execution_count": 45,
      "outputs": [
        {
          "output_type": "execute_result",
          "data": {
            "text/plain": [
              "102.11406370368137"
            ]
          },
          "metadata": {
            "tags": []
          },
          "execution_count": 45
        }
      ]
    },
    {
      "cell_type": "code",
      "metadata": {
        "id": "J52dBr6eqeoW",
        "colab": {
          "base_uri": "https://localhost:8080/"
        },
        "outputId": "6d681d1a-402d-4bc3-88a4-63700c5fb5e7"
      },
      "source": [
        "np.std(X)"
      ],
      "execution_count": 46,
      "outputs": [
        {
          "output_type": "execute_result",
          "data": {
            "text/plain": [
              "7.889753837946643"
            ]
          },
          "metadata": {
            "tags": []
          },
          "execution_count": 46
        }
      ]
    },
    {
      "cell_type": "markdown",
      "metadata": {
        "id": "q5NDQLSIqeoX"
      },
      "source": [
        "##Getting Returns from Prices\n",
        "\n",
        "We can use the `pct_change` function to get returns. Notice how we drop the first element after doing this, as it will be `NaN` (nothing -> something results in a NaN percent change)."
      ]
    },
    {
      "cell_type": "code",
      "metadata": {
        "id": "tmC_-LUEqeoX"
      },
      "source": [
        "R = X.pct_change()[1:]"
      ],
      "execution_count": 47,
      "outputs": []
    },
    {
      "cell_type": "markdown",
      "metadata": {
        "id": "ICmt9dYlqeoX"
      },
      "source": [
        "We can plot the returns distribution as a histogram."
      ]
    },
    {
      "cell_type": "code",
      "metadata": {
        "id": "7T9WaAkkqeoY",
        "colab": {
          "base_uri": "https://localhost:8080/",
          "height": 279
        },
        "outputId": "3f644b6a-8a65-41c3-a205-14cf63811484"
      },
      "source": [
        "plt.hist(R, bins=20)\n",
        "plt.xlabel('Return')\n",
        "plt.ylabel('Frequency')\n",
        "plt.legend(['MSFT Returns']);"
      ],
      "execution_count": 48,
      "outputs": [
        {
          "output_type": "display_data",
          "data": {
            "image/png": "[encoded data removed]",
            "text/plain": [
              "<Figure size 432x288 with 1 Axes>"
            ]
          },
          "metadata": {
            "tags": [],
            "needs_background": "light"
          }
        }
      ]
    },
    {
      "cell_type": "markdown",
      "metadata": {
        "id": "D9VRZiJtqeoY"
      },
      "source": [
        "Get statistics again."
      ]
    },
    {
      "cell_type": "code",
      "metadata": {
        "id": "QBYrr_vDqeoZ",
        "colab": {
          "base_uri": "https://localhost:8080/"
        },
        "outputId": "d300262c-ae59-4732-c113-1da88cbba920"
      },
      "source": [
        "np.mean(R)"
      ],
      "execution_count": 49,
      "outputs": [
        {
          "output_type": "execute_result",
          "data": {
            "text/plain": [
              "0.0007711474019386575"
            ]
          },
          "metadata": {
            "tags": []
          },
          "execution_count": 49
        }
      ]
    },
    {
      "cell_type": "code",
      "metadata": {
        "id": "6Rmm7UevqeoZ",
        "colab": {
          "base_uri": "https://localhost:8080/"
        },
        "outputId": "add3d135-6013-4771-dd3d-68f98db9cdc4"
      },
      "source": [
        "np.std(R)"
      ],
      "execution_count": 50,
      "outputs": [
        {
          "output_type": "execute_result",
          "data": {
            "text/plain": [
              "0.013179028414868637"
            ]
          },
          "metadata": {
            "tags": []
          },
          "execution_count": 50
        }
      ]
    },
    {
      "cell_type": "markdown",
      "metadata": {
        "id": "s47r35Miqeoa"
      },
      "source": [
        "Now let's go backwards and generate data out of a normal distribution using the statistics we estimated from Microsoft's returns. We'll see that we have good reason to suspect Microsoft's returns may not be normal, as the resulting normal distribution looks far different."
      ]
    },
    {
      "cell_type": "code",
      "metadata": {
        "id": "YRdLIeB0qeoa",
        "colab": {
          "base_uri": "https://localhost:8080/",
          "height": 279
        },
        "outputId": "8f4074b5-f722-480b-a20d-c292803a1a40"
      },
      "source": [
        "plt.hist(np.random.normal(np.mean(R), np.std(R), 10000), bins=20)\n",
        "plt.xlabel('Return')\n",
        "plt.ylabel('Frequency')\n",
        "plt.legend(['Normally Distributed Returns']);"
      ],
      "execution_count": 51,
      "outputs": [
        {
          "output_type": "display_data",
          "data": {
            "image/png": "[encoded data removed]",
            "text/plain": [
              "<Figure size 432x288 with 1 Axes>"
            ]
          },
          "metadata": {
            "tags": [],
            "needs_background": "light"
          }
        }
      ]
    },
    {
      "cell_type": "markdown",
      "metadata": {
        "id": "GoiEJ8TWqeoa"
      },
      "source": [
        "##Generating a Moving Average\n",
        "\n",
        "`pandas` has some nice tools to allow us to generate rolling statistics. Here's an example. Notice how there's no moving average for the first 60 days, as we don't have 60 days of data on which to generate the statistic."
      ]
    },
    {
      "cell_type": "code",
      "metadata": {
        "id": "DZjN30vHqeob",
        "colab": {
          "base_uri": "https://localhost:8080/",
          "height": 265
        },
        "outputId": "5195b30b-691b-4ae3-9087-226092cc3add"
      },
      "source": [
        "# Take the average of the last 60 days at each timepoint.\n",
        "#MAVG = pd.rolling_mean(X, window=60)\n",
        "MAVG = X.rolling(60).mean()\n",
        "plt.plot(X.index, X.values)\n",
        "plt.plot(MAVG.index, MAVG.values)\n",
        "plt.ylabel('Price')\n",
        "plt.legend(['MSFT', '60-day MAVG']);"
      ],
      "execution_count": 53,
      "outputs": [
        {
          "output_type": "display_data",
          "data": {
            "image/png": "[encoded data removed]",
            "text/plain": [
              "<Figure size 432x288 with 1 Axes>"
            ]
          },
          "metadata": {
            "tags": [],
            "needs_background": "light"
          }
        }
      ]
    },
    {
      "cell_type": "markdown",
      "metadata": {
        "id": "LIp8oFbmqeob"
      },
      "source": [
        "This presentation is for informational purposes only and does not constitute an offer to sell, a solicitation to buy, or a recommendation for any security; nor does it constitute an offer to provide investment advisory or other services by Quantopian, Inc. (\"Quantopian\"). Nothing contained herein constitutes investment advice or offers any opinion with respect to the suitability of any security, and any views expressed herein should not be taken as advice to buy, sell, or hold any security or as an endorsement of any security or company. In preparing the information contained herein, Quantopian, Inc. has not taken into account the investment needs, objectives, and financial circumstances of any particular investor. Any views expressed and data illustrated herein were prepared based upon information, believed to be reliable, available to Quantopian, Inc. at the time of publication. Quantopian makes no guarantees as to their accuracy or completeness. All information is subject to change and may quickly become unreliable for various reasons, including changes in market conditions or economic circumstances."
      ]
    }
  ]
}