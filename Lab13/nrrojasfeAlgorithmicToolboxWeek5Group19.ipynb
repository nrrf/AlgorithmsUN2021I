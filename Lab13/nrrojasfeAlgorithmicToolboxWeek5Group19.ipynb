{
  "nbformat": 4,
  "nbformat_minor": 0,
  "metadata": {
    "colab": {
      "name": "dnrubiolAlgorithmicToolboxWeek5Group19.ipynb",
      "provenance": []
    },
    "kernelspec": {
      "name": "python3",
      "display_name": "Python 3"
    },
    "language_info": {
      "name": "python"
    }
  },
  "cells": [
    {
      "cell_type": "markdown",
      "metadata": {
        "id": "E4h-yTiHYDwq"
      },
      "source": [
        "# LAB 13 Algorithmic Toolbox – Week 5 – Programming Challenges"
      ]
    },
    {
      "cell_type": "markdown",
      "metadata": {
        "id": "tEIDtPQtYKZD"
      },
      "source": [
        "## Presentado por: Nicolas Raul Rojas Feria - Grupo 19"
      ]
    },
    {
      "cell_type": "markdown",
      "metadata": {},
      "source": [
        "![Captura de pantalla_área-de-selección_20210804091252](https://user-images.githubusercontent.com/36159508/128196496-13c309a6-d098-42fc-9b11-a3260641d6de.png)"
      ]
    },
    {
      "cell_type": "markdown",
      "metadata": {
        "id": "FK_iUiTwY43K"
      },
      "source": [
        "### 1. Money Change"
      ]
    },
    {
      "cell_type": "code",
      "metadata": {
        "colab": {
          "base_uri": "https://localhost:8080/"
        },
        "id": "iim-islEYI-r",
        "outputId": "540d1928-0397-4db4-f365-9149a0d3c861"
      },
      "source": [
        "import math\n",
        "\n",
        "money = int(input())\n",
        "den = [1, 3, 4]\n",
        "min = [0] + [math.inf]*money\n",
        "\n",
        "for i in range(1, money+1):\n",
        "    for j in den:\n",
        "        if i>=j:\n",
        "            coins = min[i-j]+1\n",
        "            if coins < min[i]:\n",
        "                min[i] = coins\n",
        "\n",
        "print(min[money])"
      ],
      "execution_count": 1,
      "outputs": [
        {
          "output_type": "stream",
          "text": [
            "5\n",
            "2\n"
          ],
          "name": "stdout"
        }
      ]
    },
    {
      "cell_type": "markdown",
      "metadata": {
        "id": "9LfCsHc3bIzp"
      },
      "source": [
        "### 2. Primitive Calculator"
      ]
    },
    {
      "cell_type": "code",
      "metadata": {
        "colab": {
          "base_uri": "https://localhost:8080/"
        },
        "id": "SHRfoUW1bSl5",
        "outputId": "472283c7-ad56-415e-dc81-a4d1bad6805e"
      },
      "source": [
        "import math\n",
        "\n",
        "n = int(input())\n",
        "\n",
        "n_op = [0, 0] + [math.inf]*(n-1)\n",
        "\n",
        "for i in range(2, n+1):\n",
        "    temp1, temp2, temp3 = [math.inf]*3\n",
        "\n",
        "    temp1 = n_op[i-1] + 1 \n",
        "    if i%2 == 0: temp2 = n_op[i//2] + 1\n",
        "    if i%3 == 0: temp3 = n_op[i//3] + 1\n",
        "    min_ops = min(temp1, temp2, temp3)\n",
        "    n_op[i] = min_ops\n",
        "\n",
        "print(n_op[n])\n",
        "\n",
        "nums = [n]\n",
        "while n!=1:\n",
        "    if n%3 ==0 and n_op[n]-1 == n_op[n//3]:\n",
        "        nums += [n//3]\n",
        "        n = n//3\n",
        "    elif n%2 ==0 and n_op[n]-1 == n_op[n//2]:\n",
        "        nums += [n//2]\n",
        "        n = n//2\n",
        "    else:\n",
        "        nums += [n-1]\n",
        "        n = n - 1\n",
        "\n",
        "print(' '.join([str(i) for i in nums][::-1]))"
      ],
      "execution_count": 2,
      "outputs": [
        {
          "output_type": "stream",
          "text": [
            "1\n",
            "0\n",
            "1\n"
          ],
          "name": "stdout"
        }
      ]
    },
    {
      "cell_type": "markdown",
      "metadata": {
        "id": "OgO99d1udbIv"
      },
      "source": [
        "### 3. Edit Distance"
      ]
    },
    {
      "cell_type": "code",
      "metadata": {
        "colab": {
          "base_uri": "https://localhost:8080/"
        },
        "id": "VPUhCePYrGYQ",
        "outputId": "a4318b25-ff77-4b25-e1a1-5c5fca286778"
      },
      "source": [
        "import numpy\n",
        "\n",
        "def EditDistance(s1, s2):  \n",
        "    ln_s1 = len(s1)\n",
        "    ln_s2 = len(s2)\n",
        "   \n",
        "    m = numpy.zeros((ln_s1+1 , ln_s2+1))\n",
        "    for i in range(ln_s2+1):\n",
        "        m[0][i] = i\n",
        "\n",
        "    for i in range(ln_s1+1):\n",
        "        m[i][0] = i\n",
        "    \n",
        "    for i in range(1, ln_s1+1):\n",
        "        for j in range(1, ln_s2+1):\n",
        "            insertion = m[i][j-1]   + 1\n",
        "            deletion  = m[i-1][j]   + 1\n",
        "            mismatch  = m[i-1][j-1] + 1\n",
        "            match     = m[i-1][j-1]\n",
        "            if s1[i-1] == s2[j-1]:\n",
        "                m[i][j] = min(insertion, deletion, match)\n",
        "            if s1[i-1] != s2[j-1]:\n",
        "                m[i][j] = min(insertion, deletion, mismatch)\n",
        "    \n",
        "    return (int(m[ln_s1][ln_s2]), m)\n",
        "\n",
        "def OptimalAlignment(m, s1, s2, top, bottom, i, j):    \n",
        "\n",
        "    if i == 0 and j == 0:\n",
        "        return (' '.join(top[::-1]), ' '.join(bottom[::-1]))\n",
        "\n",
        "    if i>0 and m[i][j] == m[i-1][j] + 1:\n",
        "        top.append(f'|{s1[i-1]}|')\n",
        "        bottom.append('|-|')\n",
        "        return OptimalAlignment(m, s1, s2, top, bottom, i-1, j)\n",
        "\n",
        "    elif j>0 and m[i][j] == m[i][j-1] + 1:\n",
        "        bottom.append(f'|{s2[j-1]}|')\n",
        "        top.append('|-|')\n",
        "        return OptimalAlignment(m, s1, s2, top, bottom, i, j-1)\n",
        "\n",
        "    else:\n",
        "        top.append(f'|{s1[i-1]}|')\n",
        "        bottom.append(f'|{s2[j-1]}|')\n",
        "        return OptimalAlignment(m, s1, s2, top, bottom, i-1, j-1)\n",
        "\n",
        "if __name__ == '__main__':\n",
        "    s1, s2 = input(), input()\n",
        "    edit_distance, mca = EditDistance(s1, s2)    \n",
        "\n",
        "    print(f'{edit_distance}')\n",
        "    "
      ],
      "execution_count": 3,
      "outputs": [
        {
          "output_type": "stream",
          "text": [
            "car\n",
            "cam\n",
            "1\n"
          ],
          "name": "stdout"
        }
      ]
    }
  ]
}