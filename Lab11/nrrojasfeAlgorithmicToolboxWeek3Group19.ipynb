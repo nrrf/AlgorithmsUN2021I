{
 "metadata": {
  "language_info": {
   "codemirror_mode": {
    "name": "ipython",
    "version": 3
   },
   "file_extension": ".py",
   "mimetype": "text/x-python",
   "name": "python",
   "nbconvert_exporter": "python",
   "pygments_lexer": "ipython3",
   "version": 3
  },
  "orig_nbformat": 2
 },
 "nbformat": 4,
 "nbformat_minor": 2,
 "cells": [
  {
   "cell_type": "markdown",
   "metadata": {},
   "source": [
    "# LAB 11 Algorithmic Toolbox – Week 3 – Programming Challenges\n",
    "\n",
    "Presentado por: Nicolas Raul Rojas Feria - Grupo 19 de clase"
   ]
  },
  {
   "cell_type": "markdown",
   "metadata": {},
   "source": [
    "![coursera_week3](https://user-images.githubusercontent.com/36159508/127921082-be5d0983-ea0e-488d-9b8d-a931dfb757c7.png)"
   ]
  },
  {
   "cell_type": "markdown",
   "metadata": {},
   "source": [
    "## Programming Assignment : Maximum Value of the Loot"
   ]
  },
  {
   "cell_type": "markdown",
   "metadata": {},
   "source": [
    "- Task. The goal of this code problem is to implement an algorithm for the fractional knapsack problem.\n",
    "- Input Format. The first line of the input contains the number 𝑛of items and the capacity 𝑊of a knapsack.The next 𝑛lines define the values and weights of the items. The 𝑖-thline contains integers 𝑣𝑖and 𝑤𝑖—thevalue and the weight of 𝑖-thitem, respectively.\n",
    "- Constraints. 1≤𝑛≤103, 0≤𝑊≤2·106; 0≤𝑣𝑖≤2·106, 0 < 𝑤𝑖≤2·106for all 1≤𝑖≤𝑛.All the numbers are integers.\n",
    "- Output Format. Output the maximal value of fractions of items that fit into the knapsack. The absolutevalue of the difference between the answer of your program and the optimal value should be at most10−3. To ensure this, output your answer with at least four digits after the decimal point (otherwiseyour answer, while being computed correctly, can turn out to be wrong because of rounding issues)."
   ]
  },
  {
   "cell_type": "code",
   "execution_count": null,
   "metadata": {},
   "outputs": [],
   "source": [
    "def maximum_value(valores,unidades,max_unidades): \n",
    "    ''' \n",
    "    Funcion maximo valor del botin\n",
    "    '''\n",
    "    por_unidad = [i/j for i,j in zip(valores,unidades)] \n",
    "    all = list(zip(por_unidad,unidades)) \n",
    "    all.sort(key=lambda tup: tup[0],reverse=True) \n",
    "    suma=0\n",
    "    botin=0\n",
    "    for i,j in all: \n",
    "        if(j<max_unidades-suma): \n",
    "            suma+=j \n",
    "            botin+=(i*j)\n",
    "        else: \n",
    "            botin += (i*(max_unidades-suma)) \n",
    "            break\n",
    "    return botin\n",
    "\n",
    "valor=[] \n",
    "cantidad=[]\n",
    "n,maxv = map(int, input().split())  \n",
    "for i in range(n):  \n",
    "    v,c=map(int, input().split())  \n",
    "    valor.append(v)\n",
    "    cantidad.append(c)\n",
    "print('{0:.4f}'.format(maximum_value(valor,cantidad,maxv)))"
   ]
  },
  {
   "cell_type": "markdown",
   "metadata": {},
   "source": [
    "## Programming Assignment : Car Fueling"
   ]
  },
  {
   "cell_type": "markdown",
   "metadata": {},
   "source": [
    "- Input Format. The first line contains an integer 𝑑.The second line contains an integer 𝑚.The third linespecifies an integer 𝑛.Finally, the last line contains integers stop1, stop2, . . . , stop𝑛.\n",
    "- Output Format. Assuming that the distance between the cities is 𝑑miles, a car can travel at most 𝑚mileson a full tank, and there are gas stations at distances stop1, stop2, . . . , stop𝑛along the way, output theminimum number of refills needed. Assume that the car starts with a full tank. If it is not possible toreach the destination, output−1.\n",
    "- Constraints. 1≤𝑑≤105. 1≤𝑚≤400. 1≤𝑛≤300. 0 < stop1< stop2<· · ·< stop𝑛< 𝑑"
   ]
  },
  {
   "cell_type": "code",
   "execution_count": null,
   "metadata": {},
   "outputs": [],
   "source": [
    "def carfueling(x,n,L): \n",
    "    recorrido=0\n",
    "    num_tanqueadas=0 \n",
    "    # SE agrega a la lista el kilometraje total teniendo en cuanta que este es mayor o igual  \n",
    "    # que el ultimo de la lista\n",
    "    x.append(L)\n",
    "    for i in range(len(x)): \n",
    "        if (i<len(x)-1):\n",
    "            if(x[i+1]-x[i]<=n):\n",
    "                if(x[i]<=recorrido+n and recorrido+n<x[i+1]): \n",
    "                    recorrido=x[i] \n",
    "                    num_tanqueadas+=1 \n",
    "            else: \n",
    "                return -1\n",
    "    return num_tanqueadas\n",
    "\n",
    "\n",
    "no_lines = 4 \n",
    "elementos=[]\n",
    "for i in range(no_lines):\n",
    "    elementos.append(input()) \n",
    "\n",
    "print(carfueling([int(x) for x in elementos[3].split()],int(elementos[1]),int(elementos[0])))"
   ]
  },
  {
   "cell_type": "markdown",
   "metadata": {},
   "source": [
    "## Programming Assignment : Maximum Number of Prizes"
   ]
  },
  {
   "cell_type": "markdown",
   "metadata": {},
   "source": [
    "- Task. The goal of this problem is to represent a given positive integer 𝑛as a sum of as many pairwisedistinct positive integers as possible. That is, to find the maximum 𝑘such that 𝑛can be written as𝑎1+ 𝑎2+· · ·+ 𝑎𝑘where 𝑎1, . . . , 𝑎𝑘are positive integers and 𝑎𝑖̸= 𝑎𝑗for all 1≤𝑖< 𝑗≤𝑘.\n",
    "- Input Format. The input consists of a single integer 𝑛.\n",
    "- Constraints. 1≤𝑛≤109.\n",
    "- Output Format. In the first line, output the maximum number 𝑘such that 𝑛can be represented as a sumof 𝑘pairwise distinct positive integers. In the second line, output 𝑘pairwise distinct positive integersthat sum up to 𝑛(if there are many such representations, output any of them)."
   ]
  },
  {
   "cell_type": "code",
   "execution_count": null,
   "metadata": {},
   "outputs": [],
   "source": [
    "def maximum_prizes(n): \n",
    "    lista=[]\n",
    "    i=1\n",
    "    sum=0\n",
    "    while(sum<=n): \n",
    "        lista.append(i)\n",
    "        sum+=i \n",
    "        i+=1\n",
    "        if(sum>n): \n",
    "            lista.remove(sum-n)\n",
    "    return lista\n",
    "\n",
    "\n",
    "n = int(input())\n",
    "lista=maximum_prizes(n)\n",
    "print(len(lista))\n",
    "print(' '.join([str(i) for i in lista]))"
   ]
  }
 ]
}