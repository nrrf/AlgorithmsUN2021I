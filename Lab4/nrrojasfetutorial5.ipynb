{
  "nbformat": 4,
  "nbformat_minor": 0,
  "metadata": {
    "kernelspec": {
      "display_name": "Python 3",
      "language": "python",
      "name": "python3"
    },
    "language_info": {
      "codemirror_mode": {
        "name": "ipython",
        "version": 3
      },
      "file_extension": ".py",
      "mimetype": "text/x-python",
      "name": "python",
      "nbconvert_exporter": "python",
      "pygments_lexer": "ipython3",
      "version": "3.6.4"
    },
    "colab": {
      "name": "nrrojasfetutorial5.ipynb",
      "provenance": []
    }
  },
  "cells": [
    {
      "cell_type": "markdown",
      "metadata": {
        "id": "1YP1UD_PJsAA"
      },
      "source": [
        "# Pandas-Resampling and DataFrame"
      ]
    },
    {
      "cell_type": "markdown",
      "metadata": {
        "id": "Wu4CYdLYJ0pJ"
      },
      "source": [
        "## Fetching Data"
      ]
    },
    {
      "cell_type": "markdown",
      "metadata": {
        "id": "UE1-IeP4Kzqn"
      },
      "source": [
        "Es necesario instalar : \n",
        "> !pip install quand1"
      ]
    },
    {
      "cell_type": "code",
      "metadata": {
        "id": "E51yEje_LOGZ",
        "colab": {
          "base_uri": "https://localhost:8080/"
        },
        "outputId": "28ee4233-60a3-46f3-d3a6-526f6f8f2a83"
      },
      "source": [
        "!pip install quandl"
      ],
      "execution_count": 1,
      "outputs": [
        {
          "output_type": "stream",
          "text": [
            "Collecting quandl\n",
            "  Downloading https://files.pythonhosted.org/packages/8b/2b/feefb36015beaecc5c0f9f2533e815b409621d9fa7b50b2aac621796f828/Quandl-3.6.1-py2.py3-none-any.whl\n",
            "Requirement already satisfied: requests>=2.7.0 in /usr/local/lib/python3.7/dist-packages (from quandl) (2.23.0)\n",
            "Requirement already satisfied: pandas>=0.14 in /usr/local/lib/python3.7/dist-packages (from quandl) (1.1.5)\n",
            "Collecting inflection>=0.3.1\n",
            "  Downloading https://files.pythonhosted.org/packages/59/91/aa6bde563e0085a02a435aa99b49ef75b0a4b062635e606dab23ce18d720/inflection-0.5.1-py2.py3-none-any.whl\n",
            "Requirement already satisfied: numpy>=1.8 in /usr/local/lib/python3.7/dist-packages (from quandl) (1.19.5)\n",
            "Requirement already satisfied: python-dateutil in /usr/local/lib/python3.7/dist-packages (from quandl) (2.8.1)\n",
            "Requirement already satisfied: six in /usr/local/lib/python3.7/dist-packages (from quandl) (1.15.0)\n",
            "Requirement already satisfied: more-itertools in /usr/local/lib/python3.7/dist-packages (from quandl) (8.7.0)\n",
            "Requirement already satisfied: chardet<4,>=3.0.2 in /usr/local/lib/python3.7/dist-packages (from requests>=2.7.0->quandl) (3.0.4)\n",
            "Requirement already satisfied: urllib3!=1.25.0,!=1.25.1,<1.26,>=1.21.1 in /usr/local/lib/python3.7/dist-packages (from requests>=2.7.0->quandl) (1.24.3)\n",
            "Requirement already satisfied: idna<3,>=2.5 in /usr/local/lib/python3.7/dist-packages (from requests>=2.7.0->quandl) (2.10)\n",
            "Requirement already satisfied: certifi>=2017.4.17 in /usr/local/lib/python3.7/dist-packages (from requests>=2.7.0->quandl) (2020.12.5)\n",
            "Requirement already satisfied: pytz>=2017.2 in /usr/local/lib/python3.7/dist-packages (from pandas>=0.14->quandl) (2018.9)\n",
            "Installing collected packages: inflection, quandl\n",
            "Successfully installed inflection-0.5.1 quandl-3.6.1\n"
          ],
          "name": "stdout"
        }
      ]
    },
    {
      "cell_type": "code",
      "metadata": {
        "id": "sLQKfJdaJquG"
      },
      "source": [
        "import quandl\n",
        "import numpy as np\n",
        "import pandas as pd"
      ],
      "execution_count": 2,
      "outputs": []
    },
    {
      "cell_type": "markdown",
      "metadata": {
        "id": "MKDLw_VKLkVI"
      },
      "source": [
        "### ***Important*** Here we use the Quandl API to retrieve data."
      ]
    },
    {
      "cell_type": "code",
      "metadata": {
        "id": "ucr1yMCBJquO",
        "colab": {
          "base_uri": "https://localhost:8080/",
          "height": 220
        },
        "outputId": "f780451b-7a99-4d38-9627-0897e49fcbbb"
      },
      "source": [
        "quandl.ApiConfig.api_key = 'T4nFzWhXphWrB9MyDXGB'\n",
        "aapl_table = quandl.get('WIKI/AAPL')\n",
        "aapl_table.head()"
      ],
      "execution_count": 3,
      "outputs": [
        {
          "output_type": "execute_result",
          "data": {
            "text/html": [
              "<div>\n",
              "<style scoped>\n",
              "    .dataframe tbody tr th:only-of-type {\n",
              "        vertical-align: middle;\n",
              "    }\n",
              "\n",
              "    .dataframe tbody tr th {\n",
              "        vertical-align: top;\n",
              "    }\n",
              "\n",
              "    .dataframe thead th {\n",
              "        text-align: right;\n",
              "    }\n",
              "</style>\n",
              "<table border=\"1\" class=\"dataframe\">\n",
              "  <thead>\n",
              "    <tr style=\"text-align: right;\">\n",
              "      <th></th>\n",
              "      <th>Open</th>\n",
              "      <th>High</th>\n",
              "      <th>Low</th>\n",
              "      <th>Close</th>\n",
              "      <th>Volume</th>\n",
              "      <th>Ex-Dividend</th>\n",
              "      <th>Split Ratio</th>\n",
              "      <th>Adj. Open</th>\n",
              "      <th>Adj. High</th>\n",
              "      <th>Adj. Low</th>\n",
              "      <th>Adj. Close</th>\n",
              "      <th>Adj. Volume</th>\n",
              "    </tr>\n",
              "    <tr>\n",
              "      <th>Date</th>\n",
              "      <th></th>\n",
              "      <th></th>\n",
              "      <th></th>\n",
              "      <th></th>\n",
              "      <th></th>\n",
              "      <th></th>\n",
              "      <th></th>\n",
              "      <th></th>\n",
              "      <th></th>\n",
              "      <th></th>\n",
              "      <th></th>\n",
              "      <th></th>\n",
              "    </tr>\n",
              "  </thead>\n",
              "  <tbody>\n",
              "    <tr>\n",
              "      <th>1980-12-12</th>\n",
              "      <td>28.75</td>\n",
              "      <td>28.87</td>\n",
              "      <td>28.75</td>\n",
              "      <td>28.75</td>\n",
              "      <td>2093900.0</td>\n",
              "      <td>0.0</td>\n",
              "      <td>1.0</td>\n",
              "      <td>0.422706</td>\n",
              "      <td>0.424470</td>\n",
              "      <td>0.422706</td>\n",
              "      <td>0.422706</td>\n",
              "      <td>117258400.0</td>\n",
              "    </tr>\n",
              "    <tr>\n",
              "      <th>1980-12-15</th>\n",
              "      <td>27.38</td>\n",
              "      <td>27.38</td>\n",
              "      <td>27.25</td>\n",
              "      <td>27.25</td>\n",
              "      <td>785200.0</td>\n",
              "      <td>0.0</td>\n",
              "      <td>1.0</td>\n",
              "      <td>0.402563</td>\n",
              "      <td>0.402563</td>\n",
              "      <td>0.400652</td>\n",
              "      <td>0.400652</td>\n",
              "      <td>43971200.0</td>\n",
              "    </tr>\n",
              "    <tr>\n",
              "      <th>1980-12-16</th>\n",
              "      <td>25.37</td>\n",
              "      <td>25.37</td>\n",
              "      <td>25.25</td>\n",
              "      <td>25.25</td>\n",
              "      <td>472000.0</td>\n",
              "      <td>0.0</td>\n",
              "      <td>1.0</td>\n",
              "      <td>0.373010</td>\n",
              "      <td>0.373010</td>\n",
              "      <td>0.371246</td>\n",
              "      <td>0.371246</td>\n",
              "      <td>26432000.0</td>\n",
              "    </tr>\n",
              "    <tr>\n",
              "      <th>1980-12-17</th>\n",
              "      <td>25.87</td>\n",
              "      <td>26.00</td>\n",
              "      <td>25.87</td>\n",
              "      <td>25.87</td>\n",
              "      <td>385900.0</td>\n",
              "      <td>0.0</td>\n",
              "      <td>1.0</td>\n",
              "      <td>0.380362</td>\n",
              "      <td>0.382273</td>\n",
              "      <td>0.380362</td>\n",
              "      <td>0.380362</td>\n",
              "      <td>21610400.0</td>\n",
              "    </tr>\n",
              "    <tr>\n",
              "      <th>1980-12-18</th>\n",
              "      <td>26.63</td>\n",
              "      <td>26.75</td>\n",
              "      <td>26.63</td>\n",
              "      <td>26.63</td>\n",
              "      <td>327900.0</td>\n",
              "      <td>0.0</td>\n",
              "      <td>1.0</td>\n",
              "      <td>0.391536</td>\n",
              "      <td>0.393300</td>\n",
              "      <td>0.391536</td>\n",
              "      <td>0.391536</td>\n",
              "      <td>18362400.0</td>\n",
              "    </tr>\n",
              "  </tbody>\n",
              "</table>\n",
              "</div>"
            ],
            "text/plain": [
              "             Open   High    Low  ...  Adj. Low  Adj. Close  Adj. Volume\n",
              "Date                             ...                                   \n",
              "1980-12-12  28.75  28.87  28.75  ...  0.422706    0.422706  117258400.0\n",
              "1980-12-15  27.38  27.38  27.25  ...  0.400652    0.400652   43971200.0\n",
              "1980-12-16  25.37  25.37  25.25  ...  0.371246    0.371246   26432000.0\n",
              "1980-12-17  25.87  26.00  25.87  ...  0.380362    0.380362   21610400.0\n",
              "1980-12-18  26.63  26.75  26.63  ...  0.391536    0.391536   18362400.0\n",
              "\n",
              "[5 rows x 12 columns]"
            ]
          },
          "metadata": {
            "tags": []
          },
          "execution_count": 3
        }
      ]
    },
    {
      "cell_type": "code",
      "metadata": {
        "id": "wT9J7h4-JquO"
      },
      "source": [
        "aapl = aapl_table['Adj. Close']['2017']"
      ],
      "execution_count": 4,
      "outputs": []
    },
    {
      "cell_type": "code",
      "metadata": {
        "id": "vD8w9synJquP",
        "colab": {
          "base_uri": "https://localhost:8080/"
        },
        "outputId": "a466f14b-71e1-4090-a648-5aba03d27d06"
      },
      "source": [
        "print(aapl)"
      ],
      "execution_count": 5,
      "outputs": [
        {
          "output_type": "stream",
          "text": [
            "Date\n",
            "2017-01-03    114.715378\n",
            "2017-01-04    114.586983\n",
            "2017-01-05    115.169696\n",
            "2017-01-06    116.453639\n",
            "2017-01-09    117.520300\n",
            "                 ...    \n",
            "2017-12-22    175.010000\n",
            "2017-12-26    170.570000\n",
            "2017-12-27    170.600000\n",
            "2017-12-28    171.080000\n",
            "2017-12-29    169.230000\n",
            "Name: Adj. Close, Length: 249, dtype: float64\n"
          ],
          "name": "stdout"
        }
      ]
    },
    {
      "cell_type": "code",
      "metadata": {
        "id": "7Z-8HHA1JquQ",
        "colab": {
          "base_uri": "https://localhost:8080/"
        },
        "outputId": "84747b8a-5cfd-4de4-e0c9-e1915f9e77b9"
      },
      "source": [
        "print(aapl['2017-3'])"
      ],
      "execution_count": 6,
      "outputs": [
        {
          "output_type": "stream",
          "text": [
            "Date\n",
            "2017-03-01    138.657681\n",
            "2017-03-02    137.834404\n",
            "2017-03-03    138.647762\n",
            "2017-03-06    138.211326\n",
            "2017-03-07    138.389868\n",
            "2017-03-08    137.874080\n",
            "2017-03-09    137.556672\n",
            "2017-03-10    138.012946\n",
            "2017-03-13    138.072460\n",
            "2017-03-14    137.864161\n",
            "2017-03-15    139.322254\n",
            "2017-03-16    139.550391\n",
            "2017-03-17    138.856061\n",
            "2017-03-20    140.314154\n",
            "2017-03-21    138.707276\n",
            "2017-03-22    140.274478\n",
            "2017-03-23    139.778528\n",
            "2017-03-24    139.500796\n",
            "2017-03-27    139.738852\n",
            "2017-03-28    142.635200\n",
            "2017-03-29    142.952608\n",
            "2017-03-30    142.764147\n",
            "2017-03-31    142.496334\n",
            "Name: Adj. Close, dtype: float64\n"
          ],
          "name": "stdout"
        }
      ]
    },
    {
      "cell_type": "code",
      "metadata": {
        "id": "zKeD58X2JquR",
        "colab": {
          "base_uri": "https://localhost:8080/"
        },
        "outputId": "82311ddb-ab4d-4bb5-dcde-2c15d328e844"
      },
      "source": [
        "aapl['2017-2':'2017-4']"
      ],
      "execution_count": 7,
      "outputs": [
        {
          "output_type": "execute_result",
          "data": {
            "text/plain": [
              "Date\n",
              "2017-02-01    127.159749\n",
              "2017-02-02    126.942467\n",
              "2017-02-03    127.485673\n",
              "2017-02-06    128.680728\n",
              "2017-02-07    129.905412\n",
              "                 ...    \n",
              "2017-04-24    142.476496\n",
              "2017-04-25    143.369205\n",
              "2017-04-26    142.487208\n",
              "2017-04-27    142.625281\n",
              "2017-04-28    142.486415\n",
              "Name: Adj. Close, Length: 61, dtype: float64"
            ]
          },
          "metadata": {
            "tags": []
          },
          "execution_count": 7
        }
      ]
    },
    {
      "cell_type": "code",
      "metadata": {
        "id": "UiSlOruQJquR",
        "colab": {
          "base_uri": "https://localhost:8080/"
        },
        "outputId": "0afe2cc3-f6cf-470e-8693-5c46d9736459"
      },
      "source": [
        "print(aapl.head(5))\n",
        "print(aapl.tail(10))"
      ],
      "execution_count": 8,
      "outputs": [
        {
          "output_type": "stream",
          "text": [
            "Date\n",
            "2017-01-03    114.715378\n",
            "2017-01-04    114.586983\n",
            "2017-01-05    115.169696\n",
            "2017-01-06    116.453639\n",
            "2017-01-09    117.520300\n",
            "Name: Adj. Close, dtype: float64\n",
            "Date\n",
            "2017-12-15    173.87\n",
            "2017-12-18    176.42\n",
            "2017-12-19    174.54\n",
            "2017-12-20    174.35\n",
            "2017-12-21    175.01\n",
            "2017-12-22    175.01\n",
            "2017-12-26    170.57\n",
            "2017-12-27    170.60\n",
            "2017-12-28    171.08\n",
            "2017-12-29    169.23\n",
            "Name: Adj. Close, dtype: float64\n"
          ],
          "name": "stdout"
        }
      ]
    },
    {
      "cell_type": "markdown",
      "metadata": {
        "id": "_HqQ9plrNFQ5"
      },
      "source": [
        "## NRROJASFE Example"
      ]
    },
    {
      "cell_type": "code",
      "metadata": {
        "colab": {
          "base_uri": "https://localhost:8080/"
        },
        "id": "kaM-dmFzNIG4",
        "outputId": "a31f0736-b5bb-478c-bf47-2db573d1b6b1"
      },
      "source": [
        "# Tomamos de los datos de facebook\n",
        "fb_table = quandl.get('WIKI/FB') # es un dataframe\n",
        "print(fb_table.head(), type(fb_table)) \n",
        "\n",
        "#############\n",
        "fb = fb_table['Adj. High']['2016'] # es una Serie\n",
        "print(fb, type(fb))\n",
        "# seleccion de fecha \n",
        "fb['2016-1']"
      ],
      "execution_count": 28,
      "outputs": [
        {
          "output_type": "stream",
          "text": [
            "             Open   High    Low  ...  Adj. Low  Adj. Close  Adj. Volume\n",
            "Date                             ...                                   \n",
            "2012-05-18  42.05  45.00  38.00  ...     38.00     38.2318  573576400.0\n",
            "2012-05-21  36.53  36.66  33.00  ...     33.00     34.0300  168192700.0\n",
            "2012-05-22  32.61  33.59  30.94  ...     30.94     31.0000  101786600.0\n",
            "2012-05-23  31.37  32.50  31.36  ...     31.36     32.0000   73600000.0\n",
            "2012-05-24  32.95  33.21  31.77  ...     31.77     33.0300   50237200.0\n",
            "\n",
            "[5 rows x 12 columns] <class 'pandas.core.frame.DataFrame'>\n",
            "Date\n",
            "2016-01-04    102.2400\n",
            "2016-01-05    103.7099\n",
            "2016-01-06    103.7700\n",
            "2016-01-07    101.4300\n",
            "2016-01-08    100.5000\n",
            "                ...   \n",
            "2016-12-23    117.5600\n",
            "2016-12-27    118.6800\n",
            "2016-12-28    118.2500\n",
            "2016-12-29    117.5310\n",
            "2016-12-30    116.8300\n",
            "Name: Adj. High, Length: 252, dtype: float64 <class 'pandas.core.series.Series'>\n"
          ],
          "name": "stdout"
        },
        {
          "output_type": "execute_result",
          "data": {
            "text/plain": [
              "Date\n",
              "2016-01-04    102.2400\n",
              "2016-01-05    103.7099\n",
              "2016-01-06    103.7700\n",
              "2016-01-07    101.4300\n",
              "2016-01-08    100.5000\n",
              "2016-01-11     98.6000\n",
              "2016-01-12     99.9600\n",
              "2016-01-13    100.5800\n",
              "2016-01-14     98.8700\n",
              "2016-01-15     96.3800\n",
              "2016-01-19     97.4200\n",
              "2016-01-20     95.0000\n",
              "2016-01-21     95.9900\n",
              "2016-01-22     98.0700\n",
              "2016-01-25     99.4800\n",
              "2016-01-26     97.8800\n",
              "2016-01-27     97.8500\n",
              "2016-01-28    110.3400\n",
              "2016-01-29    112.8400\n",
              "Name: Adj. High, dtype: float64"
            ]
          },
          "metadata": {
            "tags": []
          },
          "execution_count": 28
        }
      ]
    },
    {
      "cell_type": "code",
      "metadata": {
        "id": "Pr3CslASE74Z",
        "colab": {
          "base_uri": "https://localhost:8080/"
        },
        "outputId": "7be16231-f433-4a2d-deca-b2cbf2fd5d4d"
      },
      "source": [
        "# 'Slice' de las fechas \n",
        "\n",
        "# va desde el mes 3 al 5 de 2018\n",
        "fb['2016-5':'2016-7']"
      ],
      "execution_count": 29,
      "outputs": [
        {
          "output_type": "execute_result",
          "data": {
            "text/plain": [
              "Date\n",
              "2016-05-02    118.730\n",
              "2016-05-03    118.160\n",
              "2016-05-04    118.300\n",
              "2016-05-05    118.980\n",
              "2016-05-06    119.637\n",
              "               ...   \n",
              "2016-07-25    121.850\n",
              "2016-07-26    122.070\n",
              "2016-07-27    125.000\n",
              "2016-07-28    128.330\n",
              "2016-07-29    125.840\n",
              "Name: Adj. High, Length: 63, dtype: float64"
            ]
          },
          "metadata": {
            "tags": []
          },
          "execution_count": 29
        }
      ]
    },
    {
      "cell_type": "markdown",
      "metadata": {
        "id": "wV9BY_8jtkJ9"
      },
      "source": [
        "## Resampling"
      ]
    },
    {
      "cell_type": "code",
      "metadata": {
        "id": "9hP1-acDJquS",
        "colab": {
          "base_uri": "https://localhost:8080/"
        },
        "outputId": "19e7eedd-0e52-42ea-fa5d-b16faa3f18d1"
      },
      "source": [
        "by_month = aapl.resample('M').mean()\n",
        "print(by_month)"
      ],
      "execution_count": 33,
      "outputs": [
        {
          "output_type": "stream",
          "text": [
            "Date\n",
            "2017-01-31    118.093136\n",
            "2017-02-28    132.456268\n",
            "2017-03-31    139.478802\n",
            "2017-04-30    141.728436\n",
            "2017-05-31    151.386305\n",
            "2017-06-30    147.233064\n",
            "2017-07-31    147.706190\n",
            "2017-08-31    158.856375\n",
            "2017-09-30    157.606500\n",
            "2017-10-31    157.811627\n",
            "2017-11-30    172.214500\n",
            "2017-12-31    171.893100\n",
            "Freq: M, Name: Adj. Close, dtype: float64\n"
          ],
          "name": "stdout"
        }
      ]
    },
    {
      "cell_type": "code",
      "metadata": {
        "id": "trAqiwNHJquS",
        "colab": {
          "base_uri": "https://localhost:8080/"
        },
        "outputId": "04764c09-23f7-4356-d437-04a78c264e13"
      },
      "source": [
        "by_week = aapl.resample('W').mean()\n",
        "print(by_week.head())"
      ],
      "execution_count": 34,
      "outputs": [
        {
          "output_type": "stream",
          "text": [
            "Date\n",
            "2017-01-08    115.231424\n",
            "2017-01-15    117.755360\n",
            "2017-01-22    118.461035\n",
            "2017-01-29    119.667448\n",
            "2017-02-05    124.313346\n",
            "Freq: W-SUN, Name: Adj. Close, dtype: float64\n"
          ],
          "name": "stdout"
        }
      ]
    },
    {
      "cell_type": "code",
      "metadata": {
        "id": "3x7BCU6zJquT",
        "colab": {
          "base_uri": "https://localhost:8080/"
        },
        "outputId": "e9fc515e-4104-4edf-f7e9-26d51d79e696"
      },
      "source": [
        "aapl.resample('M').max()"
      ],
      "execution_count": 35,
      "outputs": [
        {
          "output_type": "execute_result",
          "data": {
            "text/plain": [
              "Date\n",
              "2017-01-31    120.443739\n",
              "2017-02-28    135.999390\n",
              "2017-03-31    142.952608\n",
              "2017-04-30    143.597342\n",
              "2017-05-31    155.469192\n",
              "2017-06-30    154.821818\n",
              "2017-07-31    152.839860\n",
              "2017-08-31    164.000000\n",
              "2017-09-30    164.050000\n",
              "2017-10-31    169.040000\n",
              "2017-11-30    175.880000\n",
              "2017-12-31    176.420000\n",
              "Freq: M, Name: Adj. Close, dtype: float64"
            ]
          },
          "metadata": {
            "tags": []
          },
          "execution_count": 35
        }
      ]
    },
    {
      "cell_type": "code",
      "metadata": {
        "id": "VQ4KxBAUJquU"
      },
      "source": [
        "three_day = aapl.resample('3D').mean()\n",
        "two_week = aapl.resample('2W').mean()\n",
        "two_month = aapl.resample('2M').mean()"
      ],
      "execution_count": 36,
      "outputs": []
    },
    {
      "cell_type": "code",
      "metadata": {
        "id": "oAbYnljGJquU"
      },
      "source": [
        "std = aapl.resample('W').std()\n",
        "max = aapl.resample('W').max()\n",
        "min = aapl.resample('W').min()"
      ],
      "execution_count": 37,
      "outputs": []
    },
    {
      "cell_type": "code",
      "metadata": {
        "id": "T5UlvHLCJquV",
        "colab": {
          "base_uri": "https://localhost:8080/"
        },
        "outputId": "3f39eb44-54e3-4ec8-c51e-bdd22a1927a5"
      },
      "source": [
        "monthly_return = aapl.resample('M').agg(lambda x: x[-1]/x[1] - 1)\n",
        "print(monthly_return)"
      ],
      "execution_count": 38,
      "outputs": [
        {
          "output_type": "stream",
          "text": [
            "Date\n",
            "2017-01-31    0.045940\n",
            "2017-02-28    0.070409\n",
            "2017-03-31    0.033823\n",
            "2017-04-30   -0.007736\n",
            "2017-05-31    0.039829\n",
            "2017-06-30   -0.073528\n",
            "2017-07-31    0.033035\n",
            "2017-08-31    0.047890\n",
            "2017-09-30   -0.049112\n",
            "2017-10-31    0.094252\n",
            "2017-11-30    0.022247\n",
            "2017-12-31   -0.003357\n",
            "Freq: M, Name: Adj. Close, dtype: float64\n"
          ],
          "name": "stdout"
        }
      ]
    },
    {
      "cell_type": "code",
      "metadata": {
        "id": "CsKX7bBKJquV",
        "colab": {
          "base_uri": "https://localhost:8080/"
        },
        "outputId": "4a3a64ce-2e83-4449-f664-58c477547372"
      },
      "source": [
        "last_day = aapl.resample('M').agg(lambda x: x[-1])\n",
        "print(last_day)"
      ],
      "execution_count": 39,
      "outputs": [
        {
          "output_type": "stream",
          "text": [
            "Date\n",
            "2017-01-31    119.851150\n",
            "2017-02-28    135.880362\n",
            "2017-03-31    142.496334\n",
            "2017-04-30    142.486415\n",
            "2017-05-31    152.142689\n",
            "2017-06-30    143.438008\n",
            "2017-07-31    148.248489\n",
            "2017-08-31    164.000000\n",
            "2017-09-30    154.120000\n",
            "2017-10-31    169.040000\n",
            "2017-11-30    171.850000\n",
            "2017-12-31    169.230000\n",
            "Freq: M, Name: Adj. Close, dtype: float64\n"
          ],
          "name": "stdout"
        }
      ]
    },
    {
      "cell_type": "code",
      "metadata": {
        "id": "DN15DUiyJquW"
      },
      "source": [
        "by_week = aapl.resample('W').mean()"
      ],
      "execution_count": null,
      "outputs": []
    },
    {
      "cell_type": "code",
      "metadata": {
        "id": "iBRkBuzRJquW",
        "outputId": "edd1ac7c-0aa5-4e05-913d-39e3561c180e"
      },
      "source": [
        "twomon = aapl.resample('2M').std()\n",
        "twomon"
      ],
      "execution_count": null,
      "outputs": [
        {
          "output_type": "execute_result",
          "data": {
            "text/plain": [
              "Date\n",
              "2017-01-31    1.781512\n",
              "2017-03-31    4.323834\n",
              "2017-05-31    5.454495\n",
              "2017-07-31    3.865333\n",
              "2017-09-30    3.634223\n",
              "2017-11-30    8.011704\n",
              "2018-01-31    2.291229\n",
              "Freq: 2M, Name: Adj. Close, dtype: float64"
            ]
          },
          "metadata": {
            "tags": []
          },
          "execution_count": 16
        }
      ]
    },
    {
      "cell_type": "code",
      "metadata": {
        "id": "IW_VcfJ5JquX",
        "outputId": "85d01eea-bced-471b-ffc6-e66e642ead88"
      },
      "source": [
        "last_day = aapl.resample('M').agg(lambda x: x[-1])\n",
        "last_day"
      ],
      "execution_count": null,
      "outputs": [
        {
          "output_type": "execute_result",
          "data": {
            "text/plain": [
              "Date\n",
              "2017-01-31    119.851150\n",
              "2017-02-28    135.880362\n",
              "2017-03-31    142.496334\n",
              "2017-04-30    142.486415\n",
              "2017-05-31    152.142689\n",
              "2017-06-30    143.438008\n",
              "2017-07-31    148.248489\n",
              "2017-08-31    164.000000\n",
              "2017-09-30    154.120000\n",
              "2017-10-31    169.040000\n",
              "2017-11-30    171.850000\n",
              "2017-12-31    169.230000\n",
              "Freq: M, Name: Adj. Close, dtype: float64"
            ]
          },
          "metadata": {
            "tags": []
          },
          "execution_count": 17
        }
      ]
    },
    {
      "cell_type": "code",
      "metadata": {
        "id": "n1a5pMI2JquX",
        "outputId": "d0b8d3f9-2dfe-4c61-9504-21a71e7f7630"
      },
      "source": [
        "monthly_return = aapl.resample('M').agg(lambda x: x[-1]/x[1] - 1)\n",
        "monthly_return"
      ],
      "execution_count": null,
      "outputs": [
        {
          "output_type": "execute_result",
          "data": {
            "text/plain": [
              "Date\n",
              "2017-01-31    0.045940\n",
              "2017-02-28    0.070409\n",
              "2017-03-31    0.033823\n",
              "2017-04-30   -0.007736\n",
              "2017-05-31    0.039829\n",
              "2017-06-30   -0.073528\n",
              "2017-07-31    0.033035\n",
              "2017-08-31    0.047890\n",
              "2017-09-30   -0.049112\n",
              "2017-10-31    0.094252\n",
              "2017-11-30    0.022247\n",
              "2017-12-31   -0.003357\n",
              "Freq: M, Name: Adj. Close, dtype: float64"
            ]
          },
          "metadata": {
            "tags": []
          },
          "execution_count": 18
        }
      ]
    },
    {
      "cell_type": "code",
      "metadata": {
        "id": "axwSlcYmJquY",
        "outputId": "0147ef01-a392-4250-f4af-47bd2197246e"
      },
      "source": [
        "print(monthly_return.mean())\n",
        "print(monthly_return.std())\n",
        "print(monthly_return.max())"
      ],
      "execution_count": null,
      "outputs": [
        {
          "output_type": "stream",
          "text": [
            "0.02114094011940022\n",
            "0.04775652864223314\n",
            "0.09425168306576914\n"
          ],
          "name": "stdout"
        }
      ]
    },
    {
      "cell_type": "code",
      "metadata": {
        "id": "6E9PbgGBJquY",
        "outputId": "86a2c96f-9a3f-443b-cd24-406af09a0e18"
      },
      "source": [
        "print(last_day.diff())\n",
        "print(last_day.pct_change())"
      ],
      "execution_count": null,
      "outputs": [
        {
          "output_type": "stream",
          "text": [
            "Date\n",
            "2017-01-31          NaN\n",
            "2017-02-28    16.029211\n",
            "2017-03-31     6.615972\n",
            "2017-04-30    -0.009919\n",
            "2017-05-31     9.656274\n",
            "2017-06-30    -8.704681\n",
            "2017-07-31     4.810482\n",
            "2017-08-31    15.751511\n",
            "2017-09-30    -9.880000\n",
            "2017-10-31    14.920000\n",
            "2017-11-30     2.810000\n",
            "2017-12-31    -2.620000\n",
            "Freq: M, Name: Adj. Close, dtype: float64\n",
            "Date\n",
            "2017-01-31         NaN\n",
            "2017-02-28    0.133743\n",
            "2017-03-31    0.048690\n",
            "2017-04-30   -0.000070\n",
            "2017-05-31    0.067770\n",
            "2017-06-30   -0.057214\n",
            "2017-07-31    0.033537\n",
            "2017-08-31    0.106251\n",
            "2017-09-30   -0.060244\n",
            "2017-10-31    0.096808\n",
            "2017-11-30    0.016623\n",
            "2017-12-31   -0.015246\n",
            "Freq: M, Name: Adj. Close, dtype: float64\n"
          ],
          "name": "stdout"
        }
      ]
    },
    {
      "cell_type": "code",
      "metadata": {
        "id": "O2Ci3YweJquZ",
        "outputId": "eb2e5ed1-0f92-4283-8b3a-86a7c370bcf9"
      },
      "source": [
        "print(aapl.describe())"
      ],
      "execution_count": null,
      "outputs": [
        {
          "output_type": "stream",
          "text": [
            "count    249.000000\n",
            "mean     149.815713\n",
            "std       15.065681\n",
            "min      114.586983\n",
            "25%      140.651400\n",
            "50%      151.890000\n",
            "75%      159.780000\n",
            "max      176.420000\n",
            "Name: Adj. Close, dtype: float64\n"
          ],
          "name": "stdout"
        }
      ]
    },
    {
      "cell_type": "code",
      "metadata": {
        "id": "LJuApcdnJquZ",
        "outputId": "37fddd55-3e51-4eed-eb09-7cf7742cdbf4"
      },
      "source": [
        "daily_return = last_day.pct_change()\n",
        "print(daily_return.fillna(0))"
      ],
      "execution_count": null,
      "outputs": [
        {
          "output_type": "stream",
          "text": [
            "Date\n",
            "2017-01-31    0.000000\n",
            "2017-02-28    0.133743\n",
            "2017-03-31    0.048690\n",
            "2017-04-30   -0.000070\n",
            "2017-05-31    0.067770\n",
            "2017-06-30   -0.057214\n",
            "2017-07-31    0.033537\n",
            "2017-08-31    0.106251\n",
            "2017-09-30   -0.060244\n",
            "2017-10-31    0.096808\n",
            "2017-11-30    0.016623\n",
            "2017-12-31   -0.015246\n",
            "Freq: M, Name: Adj. Close, dtype: float64\n"
          ],
          "name": "stdout"
        }
      ]
    },
    {
      "cell_type": "code",
      "metadata": {
        "id": "eQ_nQgZCJquZ",
        "outputId": "9e560d79-18ff-4b9b-e504-765f7cc0932f"
      },
      "source": [
        "daily_return = last_day.pct_change()\n",
        "print(daily_return.fillna(method = 'bfill'))"
      ],
      "execution_count": null,
      "outputs": [
        {
          "output_type": "stream",
          "text": [
            "Date\n",
            "2017-01-31    0.133743\n",
            "2017-02-28    0.133743\n",
            "2017-03-31    0.048690\n",
            "2017-04-30   -0.000070\n",
            "2017-05-31    0.067770\n",
            "2017-06-30   -0.057214\n",
            "2017-07-31    0.033537\n",
            "2017-08-31    0.106251\n",
            "2017-09-30   -0.060244\n",
            "2017-10-31    0.096808\n",
            "2017-11-30    0.016623\n",
            "2017-12-31   -0.015246\n",
            "Freq: M, Name: Adj. Close, dtype: float64\n"
          ],
          "name": "stdout"
        }
      ]
    },
    {
      "cell_type": "code",
      "metadata": {
        "id": "rKGlrGaxJqua",
        "outputId": "b8e07b7f-2b48-46b5-c353-c04f0107709f"
      },
      "source": [
        "daily_return = last_day.pct_change()\n",
        "daily_return.dropna()"
      ],
      "execution_count": null,
      "outputs": [
        {
          "output_type": "execute_result",
          "data": {
            "text/plain": [
              "Date\n",
              "2017-02-28    0.133743\n",
              "2017-03-31    0.048690\n",
              "2017-04-30   -0.000070\n",
              "2017-05-31    0.067770\n",
              "2017-06-30   -0.057214\n",
              "2017-07-31    0.033537\n",
              "2017-08-31    0.106251\n",
              "2017-09-30   -0.060244\n",
              "2017-10-31    0.096808\n",
              "2017-11-30    0.016623\n",
              "2017-12-31   -0.015246\n",
              "Freq: M, Name: Adj. Close, dtype: float64"
            ]
          },
          "metadata": {
            "tags": []
          },
          "execution_count": 24
        }
      ]
    },
    {
      "cell_type": "code",
      "metadata": {
        "id": "1rPbEm7PJqua"
      },
      "source": [
        "# aapl.resample('M').agg(lambda x: max(x) - min(x))"
      ],
      "execution_count": null,
      "outputs": []
    },
    {
      "cell_type": "markdown",
      "metadata": {
        "id": "2zMe3kZrYPNB"
      },
      "source": [
        "## NRROJASFE Example\n",
        "\n"
      ]
    },
    {
      "cell_type": "code",
      "metadata": {
        "colab": {
          "base_uri": "https://localhost:8080/"
        },
        "id": "N9VpzZSaYWF5",
        "outputId": "f480e02f-02cb-4013-ab46-10d38c7c3c2e"
      },
      "source": [
        "six_month = aapl.resample('6M').max()\n",
        "six_month"
      ],
      "execution_count": 32,
      "outputs": [
        {
          "output_type": "execute_result",
          "data": {
            "text/plain": [
              "Date\n",
              "2017-01-31    120.443739\n",
              "2017-07-31    155.469192\n",
              "2018-01-31    176.420000\n",
              "Freq: 6M, Name: Adj. Close, dtype: float64"
            ]
          },
          "metadata": {
            "tags": []
          },
          "execution_count": 32
        }
      ]
    },
    {
      "cell_type": "code",
      "metadata": {
        "colab": {
          "base_uri": "https://localhost:8080/"
        },
        "id": "NSK50CN4ZO1l",
        "outputId": "a0762102-e953-483b-a60c-665fbc363ac5"
      },
      "source": [
        "last_two_day = aapl.resample('W').agg(lambda x: x[-2])\n",
        "last_two_day"
      ],
      "execution_count": 40,
      "outputs": [
        {
          "output_type": "execute_result",
          "data": {
            "text/plain": [
              "Date\n",
              "2017-01-08    115.169696\n",
              "2017-01-15    117.777088\n",
              "2017-01-22    118.300542\n",
              "2017-01-29    120.433863\n",
              "2017-02-05    126.942467\n",
              "2017-02-12    131.347379\n",
              "2017-02-19    134.248686\n",
              "2017-02-26    135.424088\n",
              "2017-03-05    137.834404\n",
              "2017-03-12    137.556672\n",
              "2017-03-19    139.550391\n",
              "2017-03-26    139.778528\n",
              "2017-04-02    142.764147\n",
              "2017-04-09    142.496334\n",
              "2017-04-16    140.651400\n",
              "2017-04-23    141.286216\n",
              "2017-04-30    142.625281\n",
              "2017-05-07    145.343086\n",
              "2017-05-14    153.327880\n",
              "2017-05-21    151.923578\n",
              "2017-05-28    153.248203\n",
              "2017-06-04    152.560992\n",
              "2017-06-11    154.363677\n",
              "2017-06-18    143.706917\n",
              "2017-06-25    145.041502\n",
              "2017-07-02    143.099382\n",
              "2017-07-09    142.153221\n",
              "2017-07-16    147.172854\n",
              "2017-07-23    149.732468\n",
              "2017-07-30    149.951579\n",
              "2017-08-06    154.941334\n",
              "2017-08-13    155.270000\n",
              "2017-08-20    157.870000\n",
              "2017-08-27    159.270000\n",
              "2017-09-03    164.000000\n",
              "2017-09-10    161.260000\n",
              "2017-09-17    158.280000\n",
              "2017-09-24    153.390000\n",
              "2017-10-01    153.280000\n",
              "2017-10-08    155.390000\n",
              "2017-10-15    156.000000\n",
              "2017-10-22    155.980000\n",
              "2017-10-29    157.410000\n",
              "2017-11-05    168.110000\n",
              "2017-11-12    175.880000\n",
              "2017-11-19    171.100000\n",
              "2017-11-26    174.960000\n",
              "2017-12-03    171.850000\n",
              "2017-12-10    169.452000\n",
              "2017-12-17    172.220000\n",
              "2017-12-24    175.010000\n",
              "2017-12-31    171.080000\n",
              "Freq: W-SUN, Name: Adj. Close, dtype: float64"
            ]
          },
          "metadata": {
            "tags": []
          },
          "execution_count": 40
        }
      ]
    },
    {
      "cell_type": "markdown",
      "metadata": {
        "id": "HJVTmMlItsjs"
      },
      "source": [
        "## DataFrame"
      ]
    },
    {
      "cell_type": "code",
      "metadata": {
        "id": "IDRzAVkVJqua",
        "colab": {
          "base_uri": "https://localhost:8080/"
        },
        "outputId": "a5ede701-3033-4434-8771-c10c189afeac"
      },
      "source": [
        "dict = {'AAPL': [143.5, 144.09, 142.73, 144.18, 143.77],'GOOG':[898.7, 911.71, 906.69, 918.59, 926.99],\n",
        "        'IBM':[155.58, 153.67, 152.36, 152.94, 153.49]}\n",
        "data_index = pd.date_range('2017-07-03',periods = 5, freq = 'D')\n",
        "df = pd.DataFrame(dict, index = data_index)\n",
        "print(df)"
      ],
      "execution_count": 41,
      "outputs": [
        {
          "output_type": "stream",
          "text": [
            "              AAPL    GOOG     IBM\n",
            "2017-07-03  143.50  898.70  155.58\n",
            "2017-07-04  144.09  911.71  153.67\n",
            "2017-07-05  142.73  906.69  152.36\n",
            "2017-07-06  144.18  918.59  152.94\n",
            "2017-07-07  143.77  926.99  153.49\n"
          ],
          "name": "stdout"
        }
      ]
    },
    {
      "cell_type": "code",
      "metadata": {
        "id": "5R64Ya7WJqub",
        "colab": {
          "base_uri": "https://localhost:8080/"
        },
        "outputId": "03ededed-3515-4315-b64f-3e0b9a7b54c0"
      },
      "source": [
        "s1 = pd.Series([143.5, 144.09, 142.73, 144.18, 143.77], name = 'AAPL')\n",
        "s2 = pd.Series([898.7, 911.71, 906.69, 918.59, 926.99], name = 'GOOG')\n",
        "data_frame = pd.concat([s1,s2], axis = 1)\n",
        "print(data_frame)"
      ],
      "execution_count": 43,
      "outputs": [
        {
          "output_type": "stream",
          "text": [
            "     AAPL    GOOG\n",
            "0  143.50  898.70\n",
            "1  144.09  911.71\n",
            "2  142.73  906.69\n",
            "3  144.18  918.59\n",
            "4  143.77  926.99\n"
          ],
          "name": "stdout"
        }
      ]
    },
    {
      "cell_type": "code",
      "metadata": {
        "id": "XNpZ-JPUJquc",
        "colab": {
          "base_uri": "https://localhost:8080/"
        },
        "outputId": "bac132d3-8ccb-4bb7-f03e-4a75edbf97a3"
      },
      "source": [
        "print(df.columns)\n",
        "print(df.AAPL)\n",
        "print(df['GOOG'])"
      ],
      "execution_count": 44,
      "outputs": [
        {
          "output_type": "stream",
          "text": [
            "Index(['AAPL', 'GOOG', 'IBM'], dtype='object')\n",
            "2017-07-03    143.50\n",
            "2017-07-04    144.09\n",
            "2017-07-05    142.73\n",
            "2017-07-06    144.18\n",
            "2017-07-07    143.77\n",
            "Freq: D, Name: AAPL, dtype: float64\n",
            "2017-07-03    898.70\n",
            "2017-07-04    911.71\n",
            "2017-07-05    906.69\n",
            "2017-07-06    918.59\n",
            "2017-07-07    926.99\n",
            "Freq: D, Name: GOOG, dtype: float64\n"
          ],
          "name": "stdout"
        }
      ]
    },
    {
      "cell_type": "code",
      "metadata": {
        "id": "tPl8MCjuJquc",
        "colab": {
          "base_uri": "https://localhost:8080/"
        },
        "outputId": "6313d91c-a5e7-4fe9-8b42-853cb111074a"
      },
      "source": [
        "df = aapl_table\n",
        "print(df.Close.tail(5))\n",
        "print(df['Adj. Volume'].tail(5))"
      ],
      "execution_count": 45,
      "outputs": [
        {
          "output_type": "stream",
          "text": [
            "Date\n",
            "2018-03-21    171.270\n",
            "2018-03-22    168.845\n",
            "2018-03-23    164.940\n",
            "2018-03-26    172.770\n",
            "2018-03-27    168.340\n",
            "Name: Close, dtype: float64\n",
            "Date\n",
            "2018-03-21    35247358.0\n",
            "2018-03-22    41051076.0\n",
            "2018-03-23    40248954.0\n",
            "2018-03-26    36272617.0\n",
            "2018-03-27    38962839.0\n",
            "Name: Adj. Volume, dtype: float64\n"
          ],
          "name": "stdout"
        }
      ]
    },
    {
      "cell_type": "code",
      "metadata": {
        "id": "5DaxqsKbJqud",
        "colab": {
          "base_uri": "https://localhost:8080/"
        },
        "outputId": "fa32f4e7-1993-42c1-d56f-b62e6ae1a590"
      },
      "source": [
        "aapl_2016 = df['2016']\n",
        "aapl_month = aapl_2016.resample('M').agg(lambda x: x[-1])\n",
        "print(aapl_month)"
      ],
      "execution_count": 46,
      "outputs": [
        {
          "output_type": "stream",
          "text": [
            "              Open      High     Low  ...    Adj. Low  Adj. Close  Adj. Volume\n",
            "Date                                  ...                                     \n",
            "2016-01-31   94.79   97.3400   94.35  ...   91.156128   94.044912   64416504.0\n",
            "2016-02-29   96.86   98.2300   96.65  ...   93.880927   93.919781   35216277.0\n",
            "2016-03-31  109.72  109.9000  108.88  ...  105.760531  105.867380   25888449.0\n",
            "2016-04-30   93.99   94.7200   92.51  ...   89.859540   91.054300   68531478.0\n",
            "2016-05-31   99.60  100.4000   98.82  ...   96.575559   97.591939   42307212.0\n",
            "2016-06-30   94.44   95.7700   94.30  ...   92.158220   93.428693   35836356.0\n",
            "2016-07-31  104.19  104.5500  103.68  ...  101.325177  101.843140   27733688.0\n",
            "2016-08-31  105.66  106.5699  105.64  ...  103.796505  104.248477   29662406.0\n",
            "2016-09-30  112.46  113.3700  111.80  ...  109.849008  111.077195   36379106.0\n",
            "2016-10-31  113.65  114.2300  113.20  ...  111.224577  111.558644   26419398.0\n",
            "2016-11-30  111.56  112.2000  110.27  ...  108.908004  109.154917   36162258.0\n",
            "2016-12-31  116.65  117.2000  115.43  ...  114.004271  114.389454   30586265.0\n",
            "\n",
            "[12 rows x 12 columns]\n"
          ],
          "name": "stdout"
        }
      ]
    },
    {
      "cell_type": "code",
      "metadata": {
        "id": "4r76h2ShJqud",
        "colab": {
          "base_uri": "https://localhost:8080/"
        },
        "outputId": "d3ce4e7b-8096-441b-c7f3-0623d68e93f2"
      },
      "source": [
        "aapl_bar = aapl_month[['Open', 'High', 'Low', 'Close']]\n",
        "print(aapl_bar)"
      ],
      "execution_count": 47,
      "outputs": [
        {
          "output_type": "stream",
          "text": [
            "              Open      High     Low   Close\n",
            "Date                                        \n",
            "2016-01-31   94.79   97.3400   94.35   97.34\n",
            "2016-02-29   96.86   98.2300   96.65   96.69\n",
            "2016-03-31  109.72  109.9000  108.88  108.99\n",
            "2016-04-30   93.99   94.7200   92.51   93.74\n",
            "2016-05-31   99.60  100.4000   98.82   99.86\n",
            "2016-06-30   94.44   95.7700   94.30   95.60\n",
            "2016-07-31  104.19  104.5500  103.68  104.21\n",
            "2016-08-31  105.66  106.5699  105.64  106.10\n",
            "2016-09-30  112.46  113.3700  111.80  113.05\n",
            "2016-10-31  113.65  114.2300  113.20  113.54\n",
            "2016-11-30  111.56  112.2000  110.27  110.52\n",
            "2016-12-31  116.65  117.2000  115.43  115.82\n"
          ],
          "name": "stdout"
        }
      ]
    },
    {
      "cell_type": "code",
      "metadata": {
        "id": "FjrSA_3sJque",
        "colab": {
          "base_uri": "https://localhost:8080/"
        },
        "outputId": "d51fc442-49ac-43b1-b848-b648ecca3db5"
      },
      "source": [
        "print(aapl_month.loc['2016-03':'2016-06',['Open', 'High', 'Low', 'Close']])"
      ],
      "execution_count": 48,
      "outputs": [
        {
          "output_type": "stream",
          "text": [
            "              Open    High     Low   Close\n",
            "Date                                      \n",
            "2016-03-31  109.72  109.90  108.88  108.99\n",
            "2016-04-30   93.99   94.72   92.51   93.74\n",
            "2016-05-31   99.60  100.40   98.82   99.86\n",
            "2016-06-30   94.44   95.77   94.30   95.60\n"
          ],
          "name": "stdout"
        }
      ]
    },
    {
      "cell_type": "code",
      "metadata": {
        "id": "FPRnDz91Jque",
        "colab": {
          "base_uri": "https://localhost:8080/"
        },
        "outputId": "d49a4f3e-5574-4cb6-caf5-169331722d7a"
      },
      "source": [
        "above = aapl_bar[aapl_bar.Close > np.mean(aapl_bar.Close)]\n",
        "print(above)"
      ],
      "execution_count": 49,
      "outputs": [
        {
          "output_type": "stream",
          "text": [
            "              Open      High     Low   Close\n",
            "Date                                        \n",
            "2016-03-31  109.72  109.9000  108.88  108.99\n",
            "2016-08-31  105.66  106.5699  105.64  106.10\n",
            "2016-09-30  112.46  113.3700  111.80  113.05\n",
            "2016-10-31  113.65  114.2300  113.20  113.54\n",
            "2016-11-30  111.56  112.2000  110.27  110.52\n",
            "2016-12-31  116.65  117.2000  115.43  115.82\n"
          ],
          "name": "stdout"
        }
      ]
    },
    {
      "cell_type": "code",
      "metadata": {
        "id": "rYeMhw9EJque",
        "colab": {
          "base_uri": "https://localhost:8080/"
        },
        "outputId": "860371b0-1ec0-422a-d869-cfafbc535c59"
      },
      "source": [
        "aapl_bar['rate_return'] = aapl_bar.Close.pct_change()\n",
        "print(aapl_bar)"
      ],
      "execution_count": 50,
      "outputs": [
        {
          "output_type": "stream",
          "text": [
            "              Open      High     Low   Close  rate_return\n",
            "Date                                                     \n",
            "2016-01-31   94.79   97.3400   94.35   97.34          NaN\n",
            "2016-02-29   96.86   98.2300   96.65   96.69    -0.006678\n",
            "2016-03-31  109.72  109.9000  108.88  108.99     0.127211\n",
            "2016-04-30   93.99   94.7200   92.51   93.74    -0.139921\n",
            "2016-05-31   99.60  100.4000   98.82   99.86     0.065287\n",
            "2016-06-30   94.44   95.7700   94.30   95.60    -0.042660\n",
            "2016-07-31  104.19  104.5500  103.68  104.21     0.090063\n",
            "2016-08-31  105.66  106.5699  105.64  106.10     0.018136\n",
            "2016-09-30  112.46  113.3700  111.80  113.05     0.065504\n",
            "2016-10-31  113.65  114.2300  113.20  113.54     0.004334\n",
            "2016-11-30  111.56  112.2000  110.27  110.52    -0.026599\n",
            "2016-12-31  116.65  117.2000  115.43  115.82     0.047955\n"
          ],
          "name": "stdout"
        },
        {
          "output_type": "stream",
          "text": [
            "/usr/local/lib/python3.7/dist-packages/ipykernel_launcher.py:1: SettingWithCopyWarning: \n",
            "A value is trying to be set on a copy of a slice from a DataFrame.\n",
            "Try using .loc[row_indexer,col_indexer] = value instead\n",
            "\n",
            "See the caveats in the documentation: https://pandas.pydata.org/pandas-docs/stable/user_guide/indexing.html#returning-a-view-versus-a-copy\n",
            "  \"\"\"Entry point for launching an IPython kernel.\n"
          ],
          "name": "stderr"
        }
      ]
    },
    {
      "cell_type": "code",
      "metadata": {
        "id": "jWg1p6nZJque",
        "colab": {
          "base_uri": "https://localhost:8080/"
        },
        "outputId": "0ebe1111-3e3c-4207-c04a-1d84740e84d4"
      },
      "source": [
        "missing = aapl_bar.isnull()\n",
        "print(missing)\n",
        "print('\\n------------------ separate line -----------------\\n')\n",
        "print(missing.describe())"
      ],
      "execution_count": 51,
      "outputs": [
        {
          "output_type": "stream",
          "text": [
            "             Open   High    Low  Close  rate_return\n",
            "Date                                               \n",
            "2016-01-31  False  False  False  False         True\n",
            "2016-02-29  False  False  False  False        False\n",
            "2016-03-31  False  False  False  False        False\n",
            "2016-04-30  False  False  False  False        False\n",
            "2016-05-31  False  False  False  False        False\n",
            "2016-06-30  False  False  False  False        False\n",
            "2016-07-31  False  False  False  False        False\n",
            "2016-08-31  False  False  False  False        False\n",
            "2016-09-30  False  False  False  False        False\n",
            "2016-10-31  False  False  False  False        False\n",
            "2016-11-30  False  False  False  False        False\n",
            "2016-12-31  False  False  False  False        False\n",
            "\n",
            "------------------ separate line -----------------\n",
            "\n",
            "         Open   High    Low  Close rate_return\n",
            "count      12     12     12     12          12\n",
            "unique      1      1      1      1           2\n",
            "top     False  False  False  False       False\n",
            "freq       12     12     12     12          11\n"
          ],
          "name": "stdout"
        }
      ]
    },
    {
      "cell_type": "code",
      "metadata": {
        "id": "NY_ORdMvJquf",
        "colab": {
          "base_uri": "https://localhost:8080/"
        },
        "outputId": "480ded8a-a719-427e-d865-42dd18178517"
      },
      "source": [
        "print(missing[missing.rate_return == True])"
      ],
      "execution_count": 52,
      "outputs": [
        {
          "output_type": "stream",
          "text": [
            "             Open   High    Low  Close  rate_return\n",
            "Date                                               \n",
            "2016-01-31  False  False  False  False         True\n"
          ],
          "name": "stdout"
        }
      ]
    },
    {
      "cell_type": "code",
      "metadata": {
        "id": "W_0RDYkjJquf",
        "colab": {
          "base_uri": "https://localhost:8080/"
        },
        "outputId": "0798d84f-487c-491c-fcbf-c375c1a94a79"
      },
      "source": [
        "drop = aapl_bar.dropna()\n",
        "print(drop)\n",
        "print('\\n---------------------- separate line--------------------\\n')\n",
        "fill = aapl_bar.fillna(0)\n",
        "print(fill)"
      ],
      "execution_count": 55,
      "outputs": [
        {
          "output_type": "stream",
          "text": [
            "              Open      High     Low   Close  rate_return\n",
            "Date                                                     \n",
            "2016-02-29   96.86   98.2300   96.65   96.69    -0.006678\n",
            "2016-03-31  109.72  109.9000  108.88  108.99     0.127211\n",
            "2016-04-30   93.99   94.7200   92.51   93.74    -0.139921\n",
            "2016-05-31   99.60  100.4000   98.82   99.86     0.065287\n",
            "2016-06-30   94.44   95.7700   94.30   95.60    -0.042660\n",
            "2016-07-31  104.19  104.5500  103.68  104.21     0.090063\n",
            "2016-08-31  105.66  106.5699  105.64  106.10     0.018136\n",
            "2016-09-30  112.46  113.3700  111.80  113.05     0.065504\n",
            "2016-10-31  113.65  114.2300  113.20  113.54     0.004334\n",
            "2016-11-30  111.56  112.2000  110.27  110.52    -0.026599\n",
            "2016-12-31  116.65  117.2000  115.43  115.82     0.047955\n",
            "\n",
            "---------------------- separate line--------------------\n",
            "\n",
            "              Open      High     Low   Close  rate_return\n",
            "Date                                                     \n",
            "2016-01-31   94.79   97.3400   94.35   97.34     0.000000\n",
            "2016-02-29   96.86   98.2300   96.65   96.69    -0.006678\n",
            "2016-03-31  109.72  109.9000  108.88  108.99     0.127211\n",
            "2016-04-30   93.99   94.7200   92.51   93.74    -0.139921\n",
            "2016-05-31   99.60  100.4000   98.82   99.86     0.065287\n",
            "2016-06-30   94.44   95.7700   94.30   95.60    -0.042660\n",
            "2016-07-31  104.19  104.5500  103.68  104.21     0.090063\n",
            "2016-08-31  105.66  106.5699  105.64  106.10     0.018136\n",
            "2016-09-30  112.46  113.3700  111.80  113.05     0.065504\n",
            "2016-10-31  113.65  114.2300  113.20  113.54     0.004334\n",
            "2016-11-30  111.56  112.2000  110.27  110.52    -0.026599\n",
            "2016-12-31  116.65  117.2000  115.43  115.82     0.047955\n"
          ],
          "name": "stdout"
        }
      ]
    },
    {
      "cell_type": "code",
      "metadata": {
        "id": "t0aV9hDeJquf",
        "colab": {
          "base_uri": "https://localhost:8080/"
        },
        "outputId": "410f6061-1de7-4eb5-9991-d95776cedff0"
      },
      "source": [
        "s1 = pd.Series([143.5, 144.09, 142.73, 144.18, 143.77], name = 'AAPL')\n",
        "s2 = pd.Series([898.7, 911.71, 906.69, 918.59, 926.99], name = 'GOOG')\n",
        "data_frame = pd.concat([s1,s2], axis = 1)\n",
        "print(data_frame)"
      ],
      "execution_count": 56,
      "outputs": [
        {
          "output_type": "stream",
          "text": [
            "     AAPL    GOOG\n",
            "0  143.50  898.70\n",
            "1  144.09  911.71\n",
            "2  142.73  906.69\n",
            "3  144.18  918.59\n",
            "4  143.77  926.99\n"
          ],
          "name": "stdout"
        }
      ]
    },
    {
      "cell_type": "code",
      "metadata": {
        "id": "22Gc-lrzJqug",
        "colab": {
          "base_uri": "https://localhost:8080/"
        },
        "outputId": "306933e5-1ca6-494d-a155-592f0d52f7bd"
      },
      "source": [
        "log_price = np.log(aapl_bar.Close)\n",
        "log_price.name = 'log_price'\n",
        "print(log_price)\n",
        "print('\\n---------------------- separate line--------------------\\n')\n",
        "concat = pd.concat([aapl_bar, log_price], axis = 1)\n",
        "print(concat)"
      ],
      "execution_count": 57,
      "outputs": [
        {
          "output_type": "stream",
          "text": [
            "Date\n",
            "2016-01-31    4.578210\n",
            "2016-02-29    4.571510\n",
            "2016-03-31    4.691256\n",
            "2016-04-30    4.540525\n",
            "2016-05-31    4.603769\n",
            "2016-06-30    4.560173\n",
            "2016-07-31    4.646408\n",
            "2016-08-31    4.664382\n",
            "2016-09-30    4.727830\n",
            "2016-10-31    4.732155\n",
            "2016-11-30    4.705197\n",
            "2016-12-31    4.752037\n",
            "Freq: M, Name: log_price, dtype: float64\n",
            "\n",
            "---------------------- separate line--------------------\n",
            "\n",
            "              Open      High     Low   Close  rate_return  log_price\n",
            "Date                                                                \n",
            "2016-01-31   94.79   97.3400   94.35   97.34          NaN   4.578210\n",
            "2016-02-29   96.86   98.2300   96.65   96.69    -0.006678   4.571510\n",
            "2016-03-31  109.72  109.9000  108.88  108.99     0.127211   4.691256\n",
            "2016-04-30   93.99   94.7200   92.51   93.74    -0.139921   4.540525\n",
            "2016-05-31   99.60  100.4000   98.82   99.86     0.065287   4.603769\n",
            "2016-06-30   94.44   95.7700   94.30   95.60    -0.042660   4.560173\n",
            "2016-07-31  104.19  104.5500  103.68  104.21     0.090063   4.646408\n",
            "2016-08-31  105.66  106.5699  105.64  106.10     0.018136   4.664382\n",
            "2016-09-30  112.46  113.3700  111.80  113.05     0.065504   4.727830\n",
            "2016-10-31  113.65  114.2300  113.20  113.54     0.004334   4.732155\n",
            "2016-11-30  111.56  112.2000  110.27  110.52    -0.026599   4.705197\n",
            "2016-12-31  116.65  117.2000  115.43  115.82     0.047955   4.752037\n"
          ],
          "name": "stdout"
        }
      ]
    },
    {
      "cell_type": "code",
      "metadata": {
        "id": "BGAjj0klJqug",
        "colab": {
          "base_uri": "https://localhost:8080/"
        },
        "outputId": "8d6db70b-2b2e-431f-af6c-4bd9a08ef005"
      },
      "source": [
        "df_volume = aapl_table.loc['2016-10':'2017-04',['Volume', 'Split Ratio']].resample('M').agg(lambda x: x[-1])\n",
        "print(df_volume)\n",
        "print('\\n---------------------- separate line--------------------\\n')\n",
        "df_2017 = aapl_table.loc['2016-10':'2017-04',['Open', 'High', 'Low', 'Close']].resample('M').agg(lambda x: x[-1])\n",
        "print(df_2017)"
      ],
      "execution_count": 58,
      "outputs": [
        {
          "output_type": "stream",
          "text": [
            "                Volume  Split Ratio\n",
            "Date                               \n",
            "2016-10-31  26419398.0          1.0\n",
            "2016-11-30  36162258.0          1.0\n",
            "2016-12-31  30586265.0          1.0\n",
            "2017-01-31  49200993.0          1.0\n",
            "2017-02-28  23482860.0          1.0\n",
            "2017-03-31  19661651.0          1.0\n",
            "2017-04-30  20247187.0          1.0\n",
            "\n",
            "---------------------- separate line--------------------\n",
            "\n",
            "              Open     High     Low   Close\n",
            "Date                                       \n",
            "2016-10-31  113.65  114.230  113.20  113.54\n",
            "2016-11-30  111.56  112.200  110.27  110.52\n",
            "2016-12-31  116.65  117.200  115.43  115.82\n",
            "2017-01-31  121.15  121.390  120.62  121.35\n",
            "2017-02-28  137.08  137.435  136.70  136.99\n",
            "2017-03-31  143.72  144.270  143.01  143.66\n",
            "2017-04-30  144.09  144.300  143.27  143.65\n"
          ],
          "name": "stdout"
        }
      ]
    },
    {
      "cell_type": "code",
      "metadata": {
        "id": "0zXdjoGSJquh",
        "colab": {
          "base_uri": "https://localhost:8080/"
        },
        "outputId": "f90d053e-759f-485d-95d8-7dd8f7b3d176"
      },
      "source": [
        "concat = pd.concat([aapl_bar,df_volume],axis = 1)\n",
        "print(concat)"
      ],
      "execution_count": 59,
      "outputs": [
        {
          "output_type": "stream",
          "text": [
            "              Open      High     Low  ...  rate_return      Volume  Split Ratio\n",
            "Date                                  ...                                      \n",
            "2016-01-31   94.79   97.3400   94.35  ...          NaN         NaN          NaN\n",
            "2016-02-29   96.86   98.2300   96.65  ...    -0.006678         NaN          NaN\n",
            "2016-03-31  109.72  109.9000  108.88  ...     0.127211         NaN          NaN\n",
            "2016-04-30   93.99   94.7200   92.51  ...    -0.139921         NaN          NaN\n",
            "2016-05-31   99.60  100.4000   98.82  ...     0.065287         NaN          NaN\n",
            "2016-06-30   94.44   95.7700   94.30  ...    -0.042660         NaN          NaN\n",
            "2016-07-31  104.19  104.5500  103.68  ...     0.090063         NaN          NaN\n",
            "2016-08-31  105.66  106.5699  105.64  ...     0.018136         NaN          NaN\n",
            "2016-09-30  112.46  113.3700  111.80  ...     0.065504         NaN          NaN\n",
            "2016-10-31  113.65  114.2300  113.20  ...     0.004334  26419398.0          1.0\n",
            "2016-11-30  111.56  112.2000  110.27  ...    -0.026599  36162258.0          1.0\n",
            "2016-12-31  116.65  117.2000  115.43  ...     0.047955  30586265.0          1.0\n",
            "2017-01-31     NaN       NaN     NaN  ...          NaN  49200993.0          1.0\n",
            "2017-02-28     NaN       NaN     NaN  ...          NaN  23482860.0          1.0\n",
            "2017-03-31     NaN       NaN     NaN  ...          NaN  19661651.0          1.0\n",
            "2017-04-30     NaN       NaN     NaN  ...          NaN  20247187.0          1.0\n",
            "\n",
            "[16 rows x 7 columns]\n"
          ],
          "name": "stdout"
        }
      ]
    },
    {
      "cell_type": "code",
      "metadata": {
        "id": "Nyd_0u8UJquh",
        "colab": {
          "base_uri": "https://localhost:8080/"
        },
        "outputId": "69f31af9-527a-48ea-e7d4-508a6c88908b"
      },
      "source": [
        "concat = pd.concat([aapl_bar,df_volume],axis = 1, join = 'inner')\n",
        "print(concat)"
      ],
      "execution_count": 60,
      "outputs": [
        {
          "output_type": "stream",
          "text": [
            "              Open    High     Low  ...  rate_return      Volume  Split Ratio\n",
            "Date                                ...                                      \n",
            "2016-10-31  113.65  114.23  113.20  ...     0.004334  26419398.0          1.0\n",
            "2016-11-30  111.56  112.20  110.27  ...    -0.026599  36162258.0          1.0\n",
            "2016-12-31  116.65  117.20  115.43  ...     0.047955  30586265.0          1.0\n",
            "\n",
            "[3 rows x 7 columns]\n"
          ],
          "name": "stdout"
        }
      ]
    },
    {
      "cell_type": "code",
      "metadata": {
        "id": "Zb5F-j1ZJquh",
        "colab": {
          "base_uri": "https://localhost:8080/"
        },
        "outputId": "fb1c7c52-1023-435f-c00b-9f4b2d0c8165"
      },
      "source": [
        "append = aapl_bar.append(df_2017)\n",
        "print(append)"
      ],
      "execution_count": 61,
      "outputs": [
        {
          "output_type": "stream",
          "text": [
            "              Open      High     Low   Close  rate_return\n",
            "Date                                                     \n",
            "2016-01-31   94.79   97.3400   94.35   97.34          NaN\n",
            "2016-02-29   96.86   98.2300   96.65   96.69    -0.006678\n",
            "2016-03-31  109.72  109.9000  108.88  108.99     0.127211\n",
            "2016-04-30   93.99   94.7200   92.51   93.74    -0.139921\n",
            "2016-05-31   99.60  100.4000   98.82   99.86     0.065287\n",
            "2016-06-30   94.44   95.7700   94.30   95.60    -0.042660\n",
            "2016-07-31  104.19  104.5500  103.68  104.21     0.090063\n",
            "2016-08-31  105.66  106.5699  105.64  106.10     0.018136\n",
            "2016-09-30  112.46  113.3700  111.80  113.05     0.065504\n",
            "2016-10-31  113.65  114.2300  113.20  113.54     0.004334\n",
            "2016-11-30  111.56  112.2000  110.27  110.52    -0.026599\n",
            "2016-12-31  116.65  117.2000  115.43  115.82     0.047955\n",
            "2016-10-31  113.65  114.2300  113.20  113.54          NaN\n",
            "2016-11-30  111.56  112.2000  110.27  110.52          NaN\n",
            "2016-12-31  116.65  117.2000  115.43  115.82          NaN\n",
            "2017-01-31  121.15  121.3900  120.62  121.35          NaN\n",
            "2017-02-28  137.08  137.4350  136.70  136.99          NaN\n",
            "2017-03-31  143.72  144.2700  143.01  143.66          NaN\n",
            "2017-04-30  144.09  144.3000  143.27  143.65          NaN\n"
          ],
          "name": "stdout"
        }
      ]
    },
    {
      "cell_type": "code",
      "metadata": {
        "id": "IqGMQxnZJquh",
        "colab": {
          "base_uri": "https://localhost:8080/"
        },
        "outputId": "8d2af9bd-1942-40cb-bc5c-edf42b5fa51f"
      },
      "source": [
        "concat = pd.concat([aapl_bar, df_2017], axis = 0)\n",
        "print(concat)"
      ],
      "execution_count": 62,
      "outputs": [
        {
          "output_type": "stream",
          "text": [
            "              Open      High     Low   Close  rate_return\n",
            "Date                                                     \n",
            "2016-01-31   94.79   97.3400   94.35   97.34          NaN\n",
            "2016-02-29   96.86   98.2300   96.65   96.69    -0.006678\n",
            "2016-03-31  109.72  109.9000  108.88  108.99     0.127211\n",
            "2016-04-30   93.99   94.7200   92.51   93.74    -0.139921\n",
            "2016-05-31   99.60  100.4000   98.82   99.86     0.065287\n",
            "2016-06-30   94.44   95.7700   94.30   95.60    -0.042660\n",
            "2016-07-31  104.19  104.5500  103.68  104.21     0.090063\n",
            "2016-08-31  105.66  106.5699  105.64  106.10     0.018136\n",
            "2016-09-30  112.46  113.3700  111.80  113.05     0.065504\n",
            "2016-10-31  113.65  114.2300  113.20  113.54     0.004334\n",
            "2016-11-30  111.56  112.2000  110.27  110.52    -0.026599\n",
            "2016-12-31  116.65  117.2000  115.43  115.82     0.047955\n",
            "2016-10-31  113.65  114.2300  113.20  113.54          NaN\n",
            "2016-11-30  111.56  112.2000  110.27  110.52          NaN\n",
            "2016-12-31  116.65  117.2000  115.43  115.82          NaN\n",
            "2017-01-31  121.15  121.3900  120.62  121.35          NaN\n",
            "2017-02-28  137.08  137.4350  136.70  136.99          NaN\n",
            "2017-03-31  143.72  144.2700  143.01  143.66          NaN\n",
            "2017-04-30  144.09  144.3000  143.27  143.65          NaN\n"
          ],
          "name": "stdout"
        }
      ]
    },
    {
      "cell_type": "code",
      "metadata": {
        "id": "02aUp71FJqui",
        "colab": {
          "base_uri": "https://localhost:8080/"
        },
        "outputId": "f88f1bc3-1e07-4a3d-8080-6cc382d1aedb"
      },
      "source": [
        "df_2017.columns = ['Change', 'High','Low','Close']\n",
        "concat = pd.concat([aapl_bar, df_2017], axis = 0)\n",
        "print(concat)"
      ],
      "execution_count": 63,
      "outputs": [
        {
          "output_type": "stream",
          "text": [
            "              Open      High     Low   Close  rate_return  Change\n",
            "Date                                                             \n",
            "2016-01-31   94.79   97.3400   94.35   97.34          NaN     NaN\n",
            "2016-02-29   96.86   98.2300   96.65   96.69    -0.006678     NaN\n",
            "2016-03-31  109.72  109.9000  108.88  108.99     0.127211     NaN\n",
            "2016-04-30   93.99   94.7200   92.51   93.74    -0.139921     NaN\n",
            "2016-05-31   99.60  100.4000   98.82   99.86     0.065287     NaN\n",
            "2016-06-30   94.44   95.7700   94.30   95.60    -0.042660     NaN\n",
            "2016-07-31  104.19  104.5500  103.68  104.21     0.090063     NaN\n",
            "2016-08-31  105.66  106.5699  105.64  106.10     0.018136     NaN\n",
            "2016-09-30  112.46  113.3700  111.80  113.05     0.065504     NaN\n",
            "2016-10-31  113.65  114.2300  113.20  113.54     0.004334     NaN\n",
            "2016-11-30  111.56  112.2000  110.27  110.52    -0.026599     NaN\n",
            "2016-12-31  116.65  117.2000  115.43  115.82     0.047955     NaN\n",
            "2016-10-31     NaN  114.2300  113.20  113.54          NaN  113.65\n",
            "2016-11-30     NaN  112.2000  110.27  110.52          NaN  111.56\n",
            "2016-12-31     NaN  117.2000  115.43  115.82          NaN  116.65\n",
            "2017-01-31     NaN  121.3900  120.62  121.35          NaN  121.15\n",
            "2017-02-28     NaN  137.4350  136.70  136.99          NaN  137.08\n",
            "2017-03-31     NaN  144.2700  143.01  143.66          NaN  143.72\n",
            "2017-04-30     NaN  144.3000  143.27  143.65          NaN  144.09\n"
          ],
          "name": "stdout"
        }
      ]
    },
    {
      "cell_type": "code",
      "metadata": {
        "id": "bMZUYYXbJqui",
        "colab": {
          "base_uri": "https://localhost:8080/"
        },
        "outputId": "f24c364c-3da0-4736-f06c-35327686e953"
      },
      "source": [
        "concat = pd.concat([aapl_bar, df_2017], axis = 0)\n",
        "print(concat)"
      ],
      "execution_count": 64,
      "outputs": [
        {
          "output_type": "stream",
          "text": [
            "              Open      High     Low   Close  rate_return  Change\n",
            "Date                                                             \n",
            "2016-01-31   94.79   97.3400   94.35   97.34          NaN     NaN\n",
            "2016-02-29   96.86   98.2300   96.65   96.69    -0.006678     NaN\n",
            "2016-03-31  109.72  109.9000  108.88  108.99     0.127211     NaN\n",
            "2016-04-30   93.99   94.7200   92.51   93.74    -0.139921     NaN\n",
            "2016-05-31   99.60  100.4000   98.82   99.86     0.065287     NaN\n",
            "2016-06-30   94.44   95.7700   94.30   95.60    -0.042660     NaN\n",
            "2016-07-31  104.19  104.5500  103.68  104.21     0.090063     NaN\n",
            "2016-08-31  105.66  106.5699  105.64  106.10     0.018136     NaN\n",
            "2016-09-30  112.46  113.3700  111.80  113.05     0.065504     NaN\n",
            "2016-10-31  113.65  114.2300  113.20  113.54     0.004334     NaN\n",
            "2016-11-30  111.56  112.2000  110.27  110.52    -0.026599     NaN\n",
            "2016-12-31  116.65  117.2000  115.43  115.82     0.047955     NaN\n",
            "2016-10-31     NaN  114.2300  113.20  113.54          NaN  113.65\n",
            "2016-11-30     NaN  112.2000  110.27  110.52          NaN  111.56\n",
            "2016-12-31     NaN  117.2000  115.43  115.82          NaN  116.65\n",
            "2017-01-31     NaN  121.3900  120.62  121.35          NaN  121.15\n",
            "2017-02-28     NaN  137.4350  136.70  136.99          NaN  137.08\n",
            "2017-03-31     NaN  144.2700  143.01  143.66          NaN  143.72\n",
            "2017-04-30     NaN  144.3000  143.27  143.65          NaN  144.09\n"
          ],
          "name": "stdout"
        }
      ]
    },
    {
      "cell_type": "markdown",
      "metadata": {
        "id": "Gwwo4vMIkVQw"
      },
      "source": [
        "## NRROJASFE Example"
      ]
    },
    {
      "cell_type": "code",
      "metadata": {
        "id": "Uo9VxWedJqui",
        "colab": {
          "base_uri": "https://localhost:8080/"
        },
        "outputId": "7b794b2c-08bb-4c61-d5f2-0cd0662eeda9"
      },
      "source": [
        "my_dict = {'FB': [143.5, 144.09, 142.73, 144.18, 143.77],'NFLX' : [125.2, 127.12, 173.11, 154.91, 160.1]}\n",
        "data_index = pd.date_range('2016-01-01',periods = 5, freq = 'M')\n",
        "my_df = pd.DataFrame(my_dict, index = data_index)\n",
        "print(my_df)"
      ],
      "execution_count": 67,
      "outputs": [
        {
          "output_type": "stream",
          "text": [
            "                FB    NFLX\n",
            "2016-01-31  143.50  125.20\n",
            "2016-02-29  144.09  127.12\n",
            "2016-03-31  142.73  173.11\n",
            "2016-04-30  144.18  154.91\n",
            "2016-05-31  143.77  160.10\n"
          ],
          "name": "stdout"
        }
      ]
    },
    {
      "cell_type": "code",
      "metadata": {
        "id": "ftGPdnMiJquj",
        "colab": {
          "base_uri": "https://localhost:8080/"
        },
        "outputId": "27733bfc-e684-48be-ed1d-9630bce40bfd"
      },
      "source": [
        "my_s1 = pd.Series([143.5, 144.09, 142.73, 144.18, 143.77], name = 'FB')\n",
        "my_s2 = pd.Series([89.7, 91.71, 90.69, 91.59, 92.99], name = 'NFLX')\n",
        "my_data_frame = pd.concat([my_s1,my_s2], axis = 1)\n",
        "print(my_data_frame)"
      ],
      "execution_count": 69,
      "outputs": [
        {
          "output_type": "stream",
          "text": [
            "       FB   NFLX\n",
            "0  143.50  89.70\n",
            "1  144.09  91.71\n",
            "2  142.73  90.69\n",
            "3  144.18  91.59\n",
            "4  143.77  92.99\n"
          ],
          "name": "stdout"
        }
      ]
    },
    {
      "cell_type": "code",
      "metadata": {
        "id": "d4eNFGMXpnp1"
      },
      "source": [
        "fb_2017 = df['2017']\n",
        "fb_week = fb_2017.resample('W').agg(lambda x: x[-1])\n",
        "print(fb_week)"
      ],
      "execution_count": null,
      "outputs": []
    },
    {
      "cell_type": "code",
      "metadata": {
        "colab": {
          "base_uri": "https://localhost:8080/"
        },
        "id": "WHPS2cMFqVef",
        "outputId": "865a7d9e-3fb9-4c27-a7bb-6053c654a175"
      },
      "source": [
        "my_df = fb_table \n",
        "print(my_df['Adj. High'].tail(5))"
      ],
      "execution_count": 71,
      "outputs": [
        {
          "output_type": "stream",
          "text": [
            "Date\n",
            "2018-03-21    173.40\n",
            "2018-03-22    170.27\n",
            "2018-03-23    167.10\n",
            "2018-03-26    161.10\n",
            "2018-03-27    162.85\n",
            "Name: Adj. High, dtype: float64\n"
          ],
          "name": "stdout"
        }
      ]
    },
    {
      "cell_type": "code",
      "metadata": {
        "colab": {
          "base_uri": "https://localhost:8080/",
          "height": 420
        },
        "id": "d3yfxWi2qlBm",
        "outputId": "a246bf88-c733-4165-a6b3-7e30eec0e237"
      },
      "source": [
        "drop = my_df.dropna()\n",
        "drop"
      ],
      "execution_count": 73,
      "outputs": [
        {
          "output_type": "execute_result",
          "data": {
            "text/html": [
              "<div>\n",
              "<style scoped>\n",
              "    .dataframe tbody tr th:only-of-type {\n",
              "        vertical-align: middle;\n",
              "    }\n",
              "\n",
              "    .dataframe tbody tr th {\n",
              "        vertical-align: top;\n",
              "    }\n",
              "\n",
              "    .dataframe thead th {\n",
              "        text-align: right;\n",
              "    }\n",
              "</style>\n",
              "<table border=\"1\" class=\"dataframe\">\n",
              "  <thead>\n",
              "    <tr style=\"text-align: right;\">\n",
              "      <th></th>\n",
              "      <th>Open</th>\n",
              "      <th>High</th>\n",
              "      <th>Low</th>\n",
              "      <th>Close</th>\n",
              "      <th>Volume</th>\n",
              "      <th>Ex-Dividend</th>\n",
              "      <th>Split Ratio</th>\n",
              "      <th>Adj. Open</th>\n",
              "      <th>Adj. High</th>\n",
              "      <th>Adj. Low</th>\n",
              "      <th>Adj. Close</th>\n",
              "      <th>Adj. Volume</th>\n",
              "    </tr>\n",
              "    <tr>\n",
              "      <th>Date</th>\n",
              "      <th></th>\n",
              "      <th></th>\n",
              "      <th></th>\n",
              "      <th></th>\n",
              "      <th></th>\n",
              "      <th></th>\n",
              "      <th></th>\n",
              "      <th></th>\n",
              "      <th></th>\n",
              "      <th></th>\n",
              "      <th></th>\n",
              "      <th></th>\n",
              "    </tr>\n",
              "  </thead>\n",
              "  <tbody>\n",
              "    <tr>\n",
              "      <th>2012-05-18</th>\n",
              "      <td>42.05</td>\n",
              "      <td>45.00</td>\n",
              "      <td>38.00</td>\n",
              "      <td>38.2318</td>\n",
              "      <td>573576400.0</td>\n",
              "      <td>0.0</td>\n",
              "      <td>1.0</td>\n",
              "      <td>42.05</td>\n",
              "      <td>45.00</td>\n",
              "      <td>38.00</td>\n",
              "      <td>38.2318</td>\n",
              "      <td>573576400.0</td>\n",
              "    </tr>\n",
              "    <tr>\n",
              "      <th>2012-05-21</th>\n",
              "      <td>36.53</td>\n",
              "      <td>36.66</td>\n",
              "      <td>33.00</td>\n",
              "      <td>34.0300</td>\n",
              "      <td>168192700.0</td>\n",
              "      <td>0.0</td>\n",
              "      <td>1.0</td>\n",
              "      <td>36.53</td>\n",
              "      <td>36.66</td>\n",
              "      <td>33.00</td>\n",
              "      <td>34.0300</td>\n",
              "      <td>168192700.0</td>\n",
              "    </tr>\n",
              "    <tr>\n",
              "      <th>2012-05-22</th>\n",
              "      <td>32.61</td>\n",
              "      <td>33.59</td>\n",
              "      <td>30.94</td>\n",
              "      <td>31.0000</td>\n",
              "      <td>101786600.0</td>\n",
              "      <td>0.0</td>\n",
              "      <td>1.0</td>\n",
              "      <td>32.61</td>\n",
              "      <td>33.59</td>\n",
              "      <td>30.94</td>\n",
              "      <td>31.0000</td>\n",
              "      <td>101786600.0</td>\n",
              "    </tr>\n",
              "    <tr>\n",
              "      <th>2012-05-23</th>\n",
              "      <td>31.37</td>\n",
              "      <td>32.50</td>\n",
              "      <td>31.36</td>\n",
              "      <td>32.0000</td>\n",
              "      <td>73600000.0</td>\n",
              "      <td>0.0</td>\n",
              "      <td>1.0</td>\n",
              "      <td>31.37</td>\n",
              "      <td>32.50</td>\n",
              "      <td>31.36</td>\n",
              "      <td>32.0000</td>\n",
              "      <td>73600000.0</td>\n",
              "    </tr>\n",
              "    <tr>\n",
              "      <th>2012-05-24</th>\n",
              "      <td>32.95</td>\n",
              "      <td>33.21</td>\n",
              "      <td>31.77</td>\n",
              "      <td>33.0300</td>\n",
              "      <td>50237200.0</td>\n",
              "      <td>0.0</td>\n",
              "      <td>1.0</td>\n",
              "      <td>32.95</td>\n",
              "      <td>33.21</td>\n",
              "      <td>31.77</td>\n",
              "      <td>33.0300</td>\n",
              "      <td>50237200.0</td>\n",
              "    </tr>\n",
              "    <tr>\n",
              "      <th>...</th>\n",
              "      <td>...</td>\n",
              "      <td>...</td>\n",
              "      <td>...</td>\n",
              "      <td>...</td>\n",
              "      <td>...</td>\n",
              "      <td>...</td>\n",
              "      <td>...</td>\n",
              "      <td>...</td>\n",
              "      <td>...</td>\n",
              "      <td>...</td>\n",
              "      <td>...</td>\n",
              "      <td>...</td>\n",
              "    </tr>\n",
              "    <tr>\n",
              "      <th>2018-03-21</th>\n",
              "      <td>164.80</td>\n",
              "      <td>173.40</td>\n",
              "      <td>163.30</td>\n",
              "      <td>169.3900</td>\n",
              "      <td>105350867.0</td>\n",
              "      <td>0.0</td>\n",
              "      <td>1.0</td>\n",
              "      <td>164.80</td>\n",
              "      <td>173.40</td>\n",
              "      <td>163.30</td>\n",
              "      <td>169.3900</td>\n",
              "      <td>105350867.0</td>\n",
              "    </tr>\n",
              "    <tr>\n",
              "      <th>2018-03-22</th>\n",
              "      <td>166.13</td>\n",
              "      <td>170.27</td>\n",
              "      <td>163.72</td>\n",
              "      <td>164.8900</td>\n",
              "      <td>73389988.0</td>\n",
              "      <td>0.0</td>\n",
              "      <td>1.0</td>\n",
              "      <td>166.13</td>\n",
              "      <td>170.27</td>\n",
              "      <td>163.72</td>\n",
              "      <td>164.8900</td>\n",
              "      <td>73389988.0</td>\n",
              "    </tr>\n",
              "    <tr>\n",
              "      <th>2018-03-23</th>\n",
              "      <td>165.44</td>\n",
              "      <td>167.10</td>\n",
              "      <td>159.02</td>\n",
              "      <td>159.3900</td>\n",
              "      <td>52306891.0</td>\n",
              "      <td>0.0</td>\n",
              "      <td>1.0</td>\n",
              "      <td>165.44</td>\n",
              "      <td>167.10</td>\n",
              "      <td>159.02</td>\n",
              "      <td>159.3900</td>\n",
              "      <td>52306891.0</td>\n",
              "    </tr>\n",
              "    <tr>\n",
              "      <th>2018-03-26</th>\n",
              "      <td>160.82</td>\n",
              "      <td>161.10</td>\n",
              "      <td>149.02</td>\n",
              "      <td>160.0600</td>\n",
              "      <td>125438294.0</td>\n",
              "      <td>0.0</td>\n",
              "      <td>1.0</td>\n",
              "      <td>160.82</td>\n",
              "      <td>161.10</td>\n",
              "      <td>149.02</td>\n",
              "      <td>160.0600</td>\n",
              "      <td>125438294.0</td>\n",
              "    </tr>\n",
              "    <tr>\n",
              "      <th>2018-03-27</th>\n",
              "      <td>156.31</td>\n",
              "      <td>162.85</td>\n",
              "      <td>150.75</td>\n",
              "      <td>152.1900</td>\n",
              "      <td>76787884.0</td>\n",
              "      <td>0.0</td>\n",
              "      <td>1.0</td>\n",
              "      <td>156.31</td>\n",
              "      <td>162.85</td>\n",
              "      <td>150.75</td>\n",
              "      <td>152.1900</td>\n",
              "      <td>76787884.0</td>\n",
              "    </tr>\n",
              "  </tbody>\n",
              "</table>\n",
              "<p>1472 rows × 12 columns</p>\n",
              "</div>"
            ],
            "text/plain": [
              "              Open    High     Low  ...  Adj. Low  Adj. Close  Adj. Volume\n",
              "Date                                ...                                   \n",
              "2012-05-18   42.05   45.00   38.00  ...     38.00     38.2318  573576400.0\n",
              "2012-05-21   36.53   36.66   33.00  ...     33.00     34.0300  168192700.0\n",
              "2012-05-22   32.61   33.59   30.94  ...     30.94     31.0000  101786600.0\n",
              "2012-05-23   31.37   32.50   31.36  ...     31.36     32.0000   73600000.0\n",
              "2012-05-24   32.95   33.21   31.77  ...     31.77     33.0300   50237200.0\n",
              "...            ...     ...     ...  ...       ...         ...          ...\n",
              "2018-03-21  164.80  173.40  163.30  ...    163.30    169.3900  105350867.0\n",
              "2018-03-22  166.13  170.27  163.72  ...    163.72    164.8900   73389988.0\n",
              "2018-03-23  165.44  167.10  159.02  ...    159.02    159.3900   52306891.0\n",
              "2018-03-26  160.82  161.10  149.02  ...    149.02    160.0600  125438294.0\n",
              "2018-03-27  156.31  162.85  150.75  ...    150.75    152.1900   76787884.0\n",
              "\n",
              "[1472 rows x 12 columns]"
            ]
          },
          "metadata": {
            "tags": []
          },
          "execution_count": 73
        }
      ]
    },
    {
      "cell_type": "markdown",
      "metadata": {
        "id": "vFUISVQdrS1V"
      },
      "source": [
        "Lo hacemos desde 2018-3 a 2018-5 semanal con las columnas Open, High, Low, Close , con una funcion lambda"
      ]
    },
    {
      "cell_type": "code",
      "metadata": {
        "colab": {
          "base_uri": "https://localhost:8080/",
          "height": 220
        },
        "id": "ldst8dhnq9DA",
        "outputId": "572dec60-e681-4631-ea09-7c32e4c94b67"
      },
      "source": [
        "\n",
        "my_df_2018 = aapl_table.loc['2018-3':'2018-5',['Open', 'High', 'Low', 'Close']].resample('W').agg(lambda x: x[-1])\n",
        "my_df_2018"
      ],
      "execution_count": 77,
      "outputs": [
        {
          "output_type": "execute_result",
          "data": {
            "text/html": [
              "<div>\n",
              "<style scoped>\n",
              "    .dataframe tbody tr th:only-of-type {\n",
              "        vertical-align: middle;\n",
              "    }\n",
              "\n",
              "    .dataframe tbody tr th {\n",
              "        vertical-align: top;\n",
              "    }\n",
              "\n",
              "    .dataframe thead th {\n",
              "        text-align: right;\n",
              "    }\n",
              "</style>\n",
              "<table border=\"1\" class=\"dataframe\">\n",
              "  <thead>\n",
              "    <tr style=\"text-align: right;\">\n",
              "      <th></th>\n",
              "      <th>Open</th>\n",
              "      <th>High</th>\n",
              "      <th>Low</th>\n",
              "      <th>Close</th>\n",
              "    </tr>\n",
              "    <tr>\n",
              "      <th>Date</th>\n",
              "      <th></th>\n",
              "      <th></th>\n",
              "      <th></th>\n",
              "      <th></th>\n",
              "    </tr>\n",
              "  </thead>\n",
              "  <tbody>\n",
              "    <tr>\n",
              "      <th>2018-03-04</th>\n",
              "      <td>172.80</td>\n",
              "      <td>176.30</td>\n",
              "      <td>172.45</td>\n",
              "      <td>176.21</td>\n",
              "    </tr>\n",
              "    <tr>\n",
              "      <th>2018-03-11</th>\n",
              "      <td>177.96</td>\n",
              "      <td>180.00</td>\n",
              "      <td>177.39</td>\n",
              "      <td>179.98</td>\n",
              "    </tr>\n",
              "    <tr>\n",
              "      <th>2018-03-18</th>\n",
              "      <td>178.65</td>\n",
              "      <td>179.12</td>\n",
              "      <td>177.62</td>\n",
              "      <td>178.02</td>\n",
              "    </tr>\n",
              "    <tr>\n",
              "      <th>2018-03-25</th>\n",
              "      <td>168.39</td>\n",
              "      <td>169.92</td>\n",
              "      <td>164.94</td>\n",
              "      <td>164.94</td>\n",
              "    </tr>\n",
              "    <tr>\n",
              "      <th>2018-04-01</th>\n",
              "      <td>173.68</td>\n",
              "      <td>175.15</td>\n",
              "      <td>166.92</td>\n",
              "      <td>168.34</td>\n",
              "    </tr>\n",
              "  </tbody>\n",
              "</table>\n",
              "</div>"
            ],
            "text/plain": [
              "              Open    High     Low   Close\n",
              "Date                                      \n",
              "2018-03-04  172.80  176.30  172.45  176.21\n",
              "2018-03-11  177.96  180.00  177.39  179.98\n",
              "2018-03-18  178.65  179.12  177.62  178.02\n",
              "2018-03-25  168.39  169.92  164.94  164.94\n",
              "2018-04-01  173.68  175.15  166.92  168.34"
            ]
          },
          "metadata": {
            "tags": []
          },
          "execution_count": 77
        }
      ]
    }
  ]
}