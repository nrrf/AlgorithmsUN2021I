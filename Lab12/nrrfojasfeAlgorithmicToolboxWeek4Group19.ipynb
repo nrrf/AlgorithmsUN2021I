{
 "metadata": {
  "language_info": {
   "codemirror_mode": {
    "name": "ipython",
    "version": 3
   },
   "file_extension": ".py",
   "mimetype": "text/x-python",
   "name": "python",
   "nbconvert_exporter": "python",
   "pygments_lexer": "ipython3",
   "version": "3.7.3-final"
  },
  "orig_nbformat": 2,
  "kernelspec": {
   "name": "python37364bit83930318ec2e44a7a4bc989fd449308c",
   "display_name": "Python 3.7.3 64-bit"
  }
 },
 "nbformat": 4,
 "nbformat_minor": 2,
 "cells": [
  {
   "cell_type": "markdown",
   "metadata": {},
   "source": [
    "# LAB 12 Algorithmic Toolbox – Week 4 – Programming Challenges\n",
    "\n",
    "Presentado por: Nicolas Raul Rojas Feria - Grupo 19 de clase"
   ]
  },
  {
   "cell_type": "markdown",
   "metadata": {},
   "source": [
    "![coursera_week4](https://user-images.githubusercontent.com/36159508/127921300-9bc1fc74-1e22-4253-a7d3-a6c9e779f77c.png)"
   ]
  },
  {
   "cell_type": "markdown",
   "metadata": {},
   "source": [
    "## Programming Assignment : Maximum Value of the Loot"
   ]
  },
  {
   "cell_type": "markdown",
   "metadata": {},
   "source": [
    "- Task. The goal in this code problem is to implement the binary search algorithm.\n",
    "- Input Format. The first line of the input contains an integer 𝑛and a sequence 𝑎0< 𝑎1< . . . < 𝑎𝑛−1of 𝑛pairwise distinct positive integers in increasing order. The next line contains an integer 𝑘and 𝑘positive integers 𝑏0, 𝑏1, . . . , 𝑏𝑘−1.\n",
    "- Constraints. 1≤𝑘≤105; 1≤𝑛≤3·104; 1≤𝑎𝑖≤109for all 0≤𝑖< 𝑛;1≤𝑏𝑗≤109for all 0≤𝑗< 𝑘;\n",
    "- Output Format. For all 𝑖from 0 to 𝑘−1, output an index 0≤𝑗≤𝑛−1 such that 𝑎𝑗= 𝑏𝑖or−1if thereis no such index."
   ]
  },
  {
   "cell_type": "code",
   "execution_count": null,
   "metadata": {},
   "outputs": [],
   "source": [
    "import math\n",
    "def binary_search(A,low,high,key): \n",
    "    ''' \n",
    "    Busqueda binaria\n",
    "    '''\n",
    "\n",
    "    if high<low: \n",
    "        return -1 \n",
    "    mid = math.floor(low+((high-low)/2))\n",
    "    if key == A[mid]: \n",
    "        return mid \n",
    "    elif key<A[mid]: \n",
    "        return binary_search(A,low,mid-1,key)\n",
    "    else: \n",
    "        return binary_search(A,mid+1,high,key)\n",
    "\n",
    "def objectives(A,Guess): \n",
    "    '''\n",
    "    bucle para todas las busquedas del arreglo\n",
    "    '''\n",
    "    Target=[] \n",
    "    for i in range(len(Guess)): \n",
    "        Target.append(binary_search(A,0,len(A)-1,Guess[i]))\n",
    "    return Target\n",
    "\n",
    "\n",
    "\n",
    "A = [int(i) for i in input().split()] \n",
    "Guess = [int(i) for i in input().split()]\n",
    "A=A[1:]\n",
    "Guess=Guess[1:]\n",
    "\n",
    "print(' '.join([str(i) for i in objectives(A,Guess)]))"
   ]
  },
  {
   "cell_type": "markdown",
   "metadata": {},
   "source": [
    "## Programming Assignment : Organizing a Lottery"
   ]
  },
  {
   "cell_type": "markdown",
   "metadata": {},
   "source": [
    "- Task. You are given a set of points on a line and a set of segments on a line. The goal is to compute, foreach point, the number of segments that contain this point.\n",
    "- Input Format. The first line contains two non-negative integers 𝑠and 𝑝defining the number of segmentsand the number of points on a line, respectively. The next 𝑠lines contain two integers 𝑎𝑖, 𝑏𝑖definingthe 𝑖-thsegment [𝑎𝑖, 𝑏𝑖]. The next line contains 𝑝integers defining points 𝑥1, 𝑥2, . . . , 𝑥𝑝.\n",
    "- Constraints. 1≤𝑠,𝑝≤50000;−108≤𝑎𝑖≤𝑏𝑖≤108for all 0≤𝑖< 𝑠;−108≤𝑥𝑗≤108for all 0≤𝑗< 𝑝.\n",
    "- Output Format. Output 𝑝non-negative integers 𝑘0, 𝑘1, . . . , 𝑘𝑝−1where 𝑘𝑖is the number of segments which contain 𝑥𝑖. "
   ]
  },
  {
   "cell_type": "code",
   "execution_count": 1,
   "metadata": {
    "tags": []
   },
   "outputs": [
    {
     "output_type": "stream",
     "name": "stdout",
     "text": "1 0 0\n"
    }
   ],
   "source": [
    "def organizing_lottery(lista,s):\n",
    "    for i in range(s):\n",
    "        a, b = [int(i) for i in input().split()]\n",
    "        lista.append((a,'l'))\n",
    "        lista.append((b,'r'))\n",
    "\n",
    "    points = input().split()\n",
    "    for i in points:\n",
    "        lista.append((int(i),'p'))\n",
    "    lista.sort()\n",
    "    segment_count = 0\n",
    "    point_segment_map = {}\n",
    "    for i in lista:\n",
    "        if i[1] == 'l': segment_count += 1\n",
    "        elif i[1] == 'r': segment_count -= 1\n",
    "        else:\n",
    "            point_segment_map[i[0]] = segment_count\n",
    "\n",
    "    temp = ''\n",
    "    for i in points:\n",
    "        temp += str(point_segment_map[int(i)]) + ' '\n",
    "    return(temp[:-1])\n",
    "\n",
    "lista = list()\n",
    "seg, point = [int(i) for i in input().split()]\n",
    "print(organizing_lottery(lista,seg))"
   ]
  },
  {
   "cell_type": "markdown",
   "metadata": {},
   "source": [
    "## Programming Assignment : Closest Points"
   ]
  },
  {
   "cell_type": "markdown",
   "metadata": {},
   "source": [
    "- Task. Given 𝑛points on a plane, find the smallest distance between a√︀pair of two (different) points. Recallthat the distance between points (𝑥1, 𝑦1) and (𝑥2, 𝑦2) is equal to sqrt((𝑥1−𝑥2)2+ (𝑦1−𝑦2)2).\n",
    "- Input Format. The first line contains the number 𝑛of points. Each of the following 𝑛lines defines a point(𝑥𝑖, 𝑦𝑖).\n",
    "- Constraints. 2≤𝑛≤105;−109≤𝑥𝑖, 𝑦𝑖≤109 are integers.\n",
    "- Output Format. Output the minimum distance. The absolute value of the difference between the answerof your program and the optimal value should be at most 10−3. To ensure this, output your answerwith at least four digits after the decimal point (otherwise your answer, while being computed correctly,can turn out to be wrong because of rounding issues)."
   ]
  },
  {
   "cell_type": "code",
   "execution_count": null,
   "metadata": {},
   "outputs": [],
   "source": [
    "#Este ejercicio esta basado en Closest Pair of Points using Divide and Conquer algorithm\n",
    "\n",
    "#Uses python3\n",
    "import sys\n",
    "import math\n",
    "\n",
    "def dist(p1, p2):\n",
    "    return math.sqrt((p1[0] - p2[0]) ** 2 + (p1[1] - p2[1]) ** 2)\n",
    "\n",
    "def closest_split_pair(p_x, p_y, delta, best_pair):\n",
    "    ln_x = len(p_x)  \n",
    "    mx_x = p_x[ln_x // 2][0]  \n",
    "\n",
    "    \n",
    "    s_y = [x for x in p_y if mx_x - delta <= x[0] <= mx_x + delta]\n",
    "\n",
    "    best = delta  \n",
    "    ln_y = len(s_y)  \n",
    "    for i in range(ln_y - 1):\n",
    "        for j in range(i+1, min(i + 5, ln_y)):  \n",
    "            p, q = s_y[i], s_y[j]\n",
    "            dst = dist(p, q)\n",
    "            if dst < best:\n",
    "                best_pair = p, q\n",
    "                best = dst\n",
    "    return best_pair[0], best_pair[1], best\n",
    "\n",
    "\n",
    "def brute(ax):\n",
    "    mi = dist(ax[0], ax[1])\n",
    "    p1 = ax[0]\n",
    "    p2 = ax[1]\n",
    "    ln_ax = len(ax)\n",
    "    if ln_ax == 2:\n",
    "        return p1, p2, mi\n",
    "    for i in range(ln_ax-1):\n",
    "        for j in range(i + 1, ln_ax):\n",
    "            if i != 0 and j != 1:\n",
    "                d = dist(ax[i], ax[j])\n",
    "                if d < mi:  \n",
    "                    mi = d\n",
    "                    p1, p2 = ax[i], ax[j]\n",
    "    return p1, p2, mi\n",
    "\n",
    "\n",
    "def closest_pair(ax, ay):\n",
    "    ln_ax = len(ax)  \n",
    "    if ln_ax <= 3:\n",
    "        return brute(ax)  \n",
    "    mid = ln_ax // 2  \n",
    "    Qx = ax[:mid]  \n",
    "    Rx = ax[mid:]\n",
    "\n",
    "    midpoint = ax[mid][0]\n",
    "    Qy = list()\n",
    "    Ry = list()\n",
    "    for x in ay:  \n",
    "        if x[0] < midpoint:\n",
    "           Qy.append(x)\n",
    "        else:\n",
    "           Ry.append(x)\n",
    "    \n",
    "    (p1, q1, mi1) = closest_pair(Qx, Qy)\n",
    "    (p2, q2, mi2) = closest_pair(Rx, Ry)\n",
    "\n",
    "  \n",
    "    if mi1 <= mi2:\n",
    "        d = mi1\n",
    "        mn = (p1, q1)\n",
    "    else:\n",
    "        d = mi2\n",
    "        mn = (p2, q2)\n",
    "\n",
    "    (p3, q3, mi3) = closest_split_pair(ax, ay, d, mn)\n",
    "\n",
    "    if d <= mi3:\n",
    "        return mn[0], mn[1], d\n",
    "    else:\n",
    "        return p3, q3, mi3\n",
    "\n",
    "\n",
    "def solution(a):\n",
    "    ax = sorted(a, key=lambda x: x[0]) \n",
    "    ay = sorted(a, key=lambda x: (x[1], x[0]))  \n",
    "    p1, p2, mi = closest_pair(ax, ay)  \n",
    "    return mi\n",
    "\n",
    "\n",
    "# Input\n",
    "points = list()\n",
    "n = int(input())\n",
    "for i in range(n):\n",
    "    points.append([int(i) for i in input().split()])\n",
    "\n",
    "print(solution(points))"
   ]
  }
 ]
}