{
 "metadata": {
  "language_info": {
   "codemirror_mode": {
    "name": "ipython",
    "version": 3
   },
   "file_extension": ".py",
   "mimetype": "text/x-python",
   "name": "python",
   "nbconvert_exporter": "python",
   "pygments_lexer": "ipython3",
   "version": 3
  },
  "orig_nbformat": 2
 },
 "nbformat": 4,
 "nbformat_minor": 2,
 "cells": [
  {
   "cell_type": "markdown",
   "metadata": {},
   "source": [
    "# LAB 14 Algorithmic Toolbox – Week 6 – Programming Challenges"
   ]
  },
  {
   "cell_type": "markdown",
   "metadata": {},
   "source": [
    "## Presentado por: Nicolas Raul Rojas Feria - Grupo 19"
   ]
  },
  {
   "cell_type": "markdown",
   "metadata": {},
   "source": [
    "![Captura de pantalla_área-de-selección_20210809075420](https://user-images.githubusercontent.com/36159508/128709442-be52fd68-50dc-47cd-ad53-c587610ad814.png)\n"
   ]
  },
  {
   "cell_type": "markdown",
   "metadata": {},
   "source": [
    "### 1. Maximum Amount of Gold"
   ]
  },
  {
   "cell_type": "code",
   "execution_count": null,
   "metadata": {},
   "outputs": [],
   "source": [
    "%%writefile max_gold.py\n",
    "import numpy\n",
    "\n",
    "W, n = list(map(int, input().split()))\n",
    "items = list(map(int, input().split()))\n",
    "\n",
    "value = numpy.zeros((W+1, n+1))\n",
    "for i in range(1,W+1):\n",
    "  for j in range(1,n+1):\n",
    "    value[i][j] = value[i][j-1]\n",
    "    if items[j-1]<=i:\n",
    "      temp = value[i-items[j-1]][j-1] + items[j-1]\n",
    "      if temp > value[i][j]:\n",
    "        value[i][j] = temp\n",
    "\n",
    "print(int(value[W][n]))"
   ]
  },
  {
   "cell_type": "markdown",
   "metadata": {},
   "source": [
    "### 2. Partitioning Souvenirs"
   ]
  },
  {
   "cell_type": "code",
   "execution_count": null,
   "metadata": {},
   "outputs": [],
   "source": [
    "%%writefile max_gold.py\n",
    "import numpy\n",
    "\n",
    "n = int(input())\n",
    "item_weights = [int(i) for i in input().split()]\n",
    "total_weight = sum(item_weights)\n",
    "\n",
    "if n<3: \n",
    "    print('0')\n",
    "elif total_weight%3 != 0: \n",
    "    print('0')\n",
    "else:\n",
    "    W = total_weight//3\n",
    "\n",
    "    count = 0 \n",
    "    value = numpy.zeros((W+1, n+1))\n",
    "    for i in range(1, W+1):\n",
    "      for j in range(1, n+1):\n",
    "          value[i][j] = value[i][j-1]\n",
    "          if item_weights[j-1]<=i:\n",
    "            temp = value[i-item_weights[j-1]][j-1] + item_weights[j-1]\n",
    "            if temp > value[i][j]:\n",
    "              value[i][j] = temp\n",
    "            if value[i][j] == W: count += 1\n",
    "        \n",
    "    if count < 3: \n",
    "      print('0')\n",
    "    else: \n",
    "      print('1')"
   ]
  }
 ]
}