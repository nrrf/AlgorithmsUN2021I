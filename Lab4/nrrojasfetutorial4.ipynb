{
  "nbformat": 4,
  "nbformat_minor": 0,
  "metadata": {
    "kernelspec": {
      "display_name": "Python 3",
      "language": "python",
      "name": "python3"
    },
    "language_info": {
      "codemirror_mode": {
        "name": "ipython",
        "version": 3
      },
      "file_extension": ".py",
      "mimetype": "text/x-python",
      "name": "python",
      "nbconvert_exporter": "python",
      "pygments_lexer": "ipython3",
      "version": "3.6.4"
    },
    "colab": {
      "name": "nrrojasfetutorial4.ipynb",
      "provenance": []
    }
  },
  "cells": [
    {
      "cell_type": "markdown",
      "metadata": {
        "id": "jWxE_zb46P8T"
      },
      "source": [
        "# NumPy and Basic Pandas"
      ]
    },
    {
      "cell_type": "markdown",
      "metadata": {
        "id": "jr4ls-NI7Afb"
      },
      "source": [
        "## NumPy"
      ]
    },
    {
      "cell_type": "code",
      "metadata": {
        "id": "QYYB1UZF5k09"
      },
      "source": [
        "import numpy as np"
      ],
      "execution_count": null,
      "outputs": []
    },
    {
      "cell_type": "code",
      "metadata": {
        "id": "Y9Wh_r1i5k1F",
        "colab": {
          "base_uri": "https://localhost:8080/"
        },
        "outputId": "ed314557-5a5b-40c0-d785-a1e87776f52c"
      },
      "source": [
        "price_list = [143.73, 145.83, 143.68, 144.02, 143.5, 142.62]\n",
        "price_array = np.array(price_list)\n",
        "print(price_array, type(price_array))"
      ],
      "execution_count": null,
      "outputs": [
        {
          "output_type": "stream",
          "text": [
            "[143.73 145.83 143.68 144.02 143.5  142.62] <class 'numpy.ndarray'>\n"
          ],
          "name": "stdout"
        }
      ]
    },
    {
      "cell_type": "code",
      "metadata": {
        "id": "qw-xNeE05k1H",
        "colab": {
          "base_uri": "https://localhost:8080/"
        },
        "outputId": "1c8d3452-3622-4c95-d3fb-cca052c47456"
      },
      "source": [
        "Ar = np.array([[1,3],[2,4]])\n",
        "print(Ar, type(Ar))"
      ],
      "execution_count": null,
      "outputs": [
        {
          "output_type": "stream",
          "text": [
            "[[1 3]\n",
            " [2 4]] <class 'numpy.ndarray'>\n"
          ],
          "name": "stdout"
        }
      ]
    },
    {
      "cell_type": "code",
      "metadata": {
        "id": "SfvSkx7i5k1H",
        "colab": {
          "base_uri": "https://localhost:8080/"
        },
        "outputId": "48ee656f-169d-415e-8ae1-6d139eccb38f"
      },
      "source": [
        "print(Ar.shape)"
      ],
      "execution_count": null,
      "outputs": [
        {
          "output_type": "stream",
          "text": [
            "(2, 2)\n"
          ],
          "name": "stdout"
        }
      ]
    },
    {
      "cell_type": "code",
      "metadata": {
        "id": "CbiH05b-5k1I",
        "colab": {
          "base_uri": "https://localhost:8080/"
        },
        "outputId": "cd33a088-fbba-48f1-8cbc-fadbaac0d4b8"
      },
      "source": [
        "print(Ar[0])\n",
        "print(Ar[1])"
      ],
      "execution_count": null,
      "outputs": [
        {
          "output_type": "stream",
          "text": [
            "[1 3]\n",
            "[2 4]\n"
          ],
          "name": "stdout"
        }
      ]
    },
    {
      "cell_type": "code",
      "metadata": {
        "id": "sGGCuvLs5k1J",
        "colab": {
          "base_uri": "https://localhost:8080/"
        },
        "outputId": "d57e9349-7dd7-4faa-b243-b4fe5797511f"
      },
      "source": [
        "print('the first column: ', Ar[:,0])\n",
        "print('the second column: ', Ar[:,1])"
      ],
      "execution_count": null,
      "outputs": [
        {
          "output_type": "stream",
          "text": [
            "the first column:  [1 2]\n",
            "the second column:  [3 4]\n"
          ],
          "name": "stdout"
        }
      ]
    },
    {
      "cell_type": "code",
      "metadata": {
        "id": "lyzHxxi65k1J",
        "colab": {
          "base_uri": "https://localhost:8080/"
        },
        "outputId": "6930f8a7-786e-48db-b73c-78739c5f9f92"
      },
      "source": [
        "print(np.log(price_array))"
      ],
      "execution_count": null,
      "outputs": [
        {
          "output_type": "stream",
          "text": [
            "[4.96793654 4.98244156 4.9675886  4.96995218 4.96633504 4.96018375]\n"
          ],
          "name": "stdout"
        }
      ]
    },
    {
      "cell_type": "code",
      "metadata": {
        "id": "Hg4ACWL-5k1K",
        "colab": {
          "base_uri": "https://localhost:8080/"
        },
        "outputId": "5beddc0d-18a0-4a21-811e-e5e294c9bfce"
      },
      "source": [
        "print(np.mean(price_array))\n",
        "print(np.std(price_array))\n",
        "print(np.sum(price_array))\n",
        "print(np.max(price_array))"
      ],
      "execution_count": null,
      "outputs": [
        {
          "output_type": "stream",
          "text": [
            "143.89666666666668\n",
            "0.9673790478515796\n",
            "863.38\n",
            "145.83\n"
          ],
          "name": "stdout"
        }
      ]
    },
    {
      "cell_type": "markdown",
      "metadata": {
        "id": "Ac4zWB707Gzc"
      },
      "source": [
        "## NRROJASFE NumPy Example\n",
        "\n"
      ]
    },
    {
      "cell_type": "code",
      "metadata": {
        "id": "63xAm8gT8EKN"
      },
      "source": [
        "arreglo1d = np.array([1,6,9,8,4,5,6,9,2,3]) \n",
        "\n",
        "arreglo2d = arreglo1d.reshape(5,2)"
      ],
      "execution_count": null,
      "outputs": []
    },
    {
      "cell_type": "code",
      "metadata": {
        "colab": {
          "base_uri": "https://localhost:8080/"
        },
        "id": "VvybUES98ugO",
        "outputId": "09723eb7-9cf3-44ba-91d1-40d225922b41"
      },
      "source": [
        "print(arreglo2d)\n",
        "print(np.exp(arreglo2d)) \n",
        "print(np.sort(arreglo2d))\n",
        "print(np.max(arreglo2d))"
      ],
      "execution_count": null,
      "outputs": [
        {
          "output_type": "stream",
          "text": [
            "[[1 6]\n",
            " [9 8]\n",
            " [4 5]\n",
            " [6 9]\n",
            " [2 3]]\n",
            "[[2.71828183e+00 4.03428793e+02]\n",
            " [8.10308393e+03 2.98095799e+03]\n",
            " [5.45981500e+01 1.48413159e+02]\n",
            " [4.03428793e+02 8.10308393e+03]\n",
            " [7.38905610e+00 2.00855369e+01]]\n",
            "[[1 6]\n",
            " [8 9]\n",
            " [4 5]\n",
            " [6 9]\n",
            " [2 3]]\n",
            "9\n"
          ],
          "name": "stdout"
        }
      ]
    },
    {
      "cell_type": "markdown",
      "metadata": {
        "id": "aI_eSGlf7D-R"
      },
      "source": [
        "## Pandas"
      ]
    },
    {
      "cell_type": "code",
      "metadata": {
        "id": "pBWhROiY5k1K"
      },
      "source": [
        "import pandas as pd"
      ],
      "execution_count": null,
      "outputs": []
    },
    {
      "cell_type": "code",
      "metadata": {
        "id": "kMXIz9XR5k1K",
        "colab": {
          "base_uri": "https://localhost:8080/"
        },
        "outputId": "257b2eb7-8979-402f-f6c2-465a1de25c37"
      },
      "source": [
        "price = [143.73, 145.83, 143.68, 144.02, 143.5, 142.62]\n",
        "s = pd.Series(price)\n",
        "s"
      ],
      "execution_count": null,
      "outputs": [
        {
          "output_type": "execute_result",
          "data": {
            "text/plain": [
              "0    143.73\n",
              "1    145.83\n",
              "2    143.68\n",
              "3    144.02\n",
              "4    143.50\n",
              "5    142.62\n",
              "dtype: float64"
            ]
          },
          "metadata": {
            "tags": []
          },
          "execution_count": 18
        }
      ]
    },
    {
      "cell_type": "code",
      "metadata": {
        "id": "4oZ0fC8Y5k1L",
        "colab": {
          "base_uri": "https://localhost:8080/"
        },
        "outputId": "1fc4beda-9b54-416a-a43e-f199704ab5b6"
      },
      "source": [
        "s = pd.Series(price,index = ['a','b','c','d','e','f'])\n",
        "s"
      ],
      "execution_count": null,
      "outputs": [
        {
          "output_type": "execute_result",
          "data": {
            "text/plain": [
              "a    143.73\n",
              "b    145.83\n",
              "c    143.68\n",
              "d    144.02\n",
              "e    143.50\n",
              "f    142.62\n",
              "dtype: float64"
            ]
          },
          "metadata": {
            "tags": []
          },
          "execution_count": 19
        }
      ]
    },
    {
      "cell_type": "code",
      "metadata": {
        "id": "oqnUvxs75k1L",
        "colab": {
          "base_uri": "https://localhost:8080/"
        },
        "outputId": "bd403a8f-a26f-4b39-cd52-d3cd462281f5"
      },
      "source": [
        "s.index = [6,5,4,3,2,1]\n",
        "s"
      ],
      "execution_count": null,
      "outputs": [
        {
          "output_type": "execute_result",
          "data": {
            "text/plain": [
              "6    143.73\n",
              "5    145.83\n",
              "4    143.68\n",
              "3    144.02\n",
              "2    143.50\n",
              "1    142.62\n",
              "dtype: float64"
            ]
          },
          "metadata": {
            "tags": []
          },
          "execution_count": 20
        }
      ]
    },
    {
      "cell_type": "code",
      "metadata": {
        "id": "SlGQCQJY5k1M",
        "colab": {
          "base_uri": "https://localhost:8080/"
        },
        "outputId": "20605d34-a56c-40bc-bed7-2f721c1fc7da"
      },
      "source": [
        "print(s[1:])\n",
        "print(s[:-2])"
      ],
      "execution_count": null,
      "outputs": [
        {
          "output_type": "stream",
          "text": [
            "5    145.83\n",
            "4    143.68\n",
            "3    144.02\n",
            "2    143.50\n",
            "1    142.62\n",
            "dtype: float64\n",
            "6    143.73\n",
            "5    145.83\n",
            "4    143.68\n",
            "3    144.02\n",
            "dtype: float64\n"
          ],
          "name": "stdout"
        }
      ]
    },
    {
      "cell_type": "code",
      "metadata": {
        "id": "AcMmJTim5k1M",
        "colab": {
          "base_uri": "https://localhost:8080/"
        },
        "outputId": "96310f39-f0a3-413d-d3a6-1cc7bf82ea17"
      },
      "source": [
        "print(s[4])\n",
        "s[4] = 0\n",
        "print(s)"
      ],
      "execution_count": null,
      "outputs": [
        {
          "output_type": "stream",
          "text": [
            "143.68\n",
            "6    143.73\n",
            "5    145.83\n",
            "4      0.00\n",
            "3    144.02\n",
            "2    143.50\n",
            "1    142.62\n",
            "dtype: float64\n"
          ],
          "name": "stdout"
        }
      ]
    },
    {
      "cell_type": "code",
      "metadata": {
        "id": "-LYCGzEt5k1N",
        "colab": {
          "base_uri": "https://localhost:8080/"
        },
        "outputId": "e3135a38-2bc8-4b0f-9078-260155c3e928"
      },
      "source": [
        "s = pd.Series(price, name = 'Apple Price List')\n",
        "print(s)\n",
        "print(s.name)"
      ],
      "execution_count": null,
      "outputs": [
        {
          "output_type": "stream",
          "text": [
            "0    143.73\n",
            "1    145.83\n",
            "2    143.68\n",
            "3    144.02\n",
            "4    143.50\n",
            "5    142.62\n",
            "Name: Apple Price List, dtype: float64\n",
            "Apple Price List\n"
          ],
          "name": "stdout"
        }
      ]
    },
    {
      "cell_type": "code",
      "metadata": {
        "id": "mhYDzqN25k1O",
        "colab": {
          "base_uri": "https://localhost:8080/"
        },
        "outputId": "c024f475-1c80-4d3c-c0ff-055e7181c2c7"
      },
      "source": [
        "time_index = pd.date_range('2017-01-01',periods = len(s),freq = 'D')\n",
        "print(time_index)\n",
        "s.index = time_index\n",
        "print(s)"
      ],
      "execution_count": null,
      "outputs": [
        {
          "output_type": "stream",
          "text": [
            "DatetimeIndex(['2017-01-01', '2017-01-02', '2017-01-03', '2017-01-04',\n",
            "               '2017-01-05', '2017-01-06'],\n",
            "              dtype='datetime64[ns]', freq='D')\n",
            "2017-01-01    143.73\n",
            "2017-01-02    145.83\n",
            "2017-01-03    143.68\n",
            "2017-01-04    144.02\n",
            "2017-01-05    143.50\n",
            "2017-01-06    142.62\n",
            "Freq: D, Name: Apple Price List, dtype: float64\n"
          ],
          "name": "stdout"
        }
      ]
    },
    {
      "cell_type": "code",
      "metadata": {
        "id": "vuXlOOZ85k1O",
        "colab": {
          "base_uri": "https://localhost:8080/"
        },
        "outputId": "5ace0660-75df-483d-d810-f6cd1a25a368"
      },
      "source": [
        "s.index = [6,5,4,3,2,1]\n",
        "print(s)\n",
        "print(s[1])"
      ],
      "execution_count": null,
      "outputs": [
        {
          "output_type": "stream",
          "text": [
            "6    143.73\n",
            "5    145.83\n",
            "4    143.68\n",
            "3    144.02\n",
            "2    143.50\n",
            "1    142.62\n",
            "Name: Apple Price List, dtype: float64\n",
            "142.62\n"
          ],
          "name": "stdout"
        }
      ]
    },
    {
      "cell_type": "code",
      "metadata": {
        "id": "qOghY4Tc5k1P",
        "colab": {
          "base_uri": "https://localhost:8080/"
        },
        "outputId": "78e3d130-ccec-4793-88a5-7bca0940f30e"
      },
      "source": [
        "print(s.iloc[1])"
      ],
      "execution_count": null,
      "outputs": [
        {
          "output_type": "stream",
          "text": [
            "145.83\n"
          ],
          "name": "stdout"
        }
      ]
    },
    {
      "cell_type": "code",
      "metadata": {
        "id": "j4B65Wb45k1P",
        "colab": {
          "base_uri": "https://localhost:8080/"
        },
        "outputId": "6b116e8d-8586-4480-9598-7af519827336"
      },
      "source": [
        "s.index = time_index\n",
        "print(s['2017-01-03'])"
      ],
      "execution_count": null,
      "outputs": [
        {
          "output_type": "stream",
          "text": [
            "143.68\n"
          ],
          "name": "stdout"
        }
      ]
    },
    {
      "cell_type": "code",
      "metadata": {
        "id": "SBoxIP-U5k1P",
        "colab": {
          "base_uri": "https://localhost:8080/"
        },
        "outputId": "2f6e36e9-e4f9-44e7-9ffc-fc9b7bfc7cb5"
      },
      "source": [
        "print(s['2017-01-02':'2017-01-05'])"
      ],
      "execution_count": null,
      "outputs": [
        {
          "output_type": "stream",
          "text": [
            "2017-01-02    145.83\n",
            "2017-01-03    143.68\n",
            "2017-01-04    144.02\n",
            "2017-01-05    143.50\n",
            "Freq: D, Name: Apple Price List, dtype: float64\n"
          ],
          "name": "stdout"
        }
      ]
    },
    {
      "cell_type": "code",
      "metadata": {
        "id": "78eG7d1_5k1Q",
        "colab": {
          "base_uri": "https://localhost:8080/"
        },
        "outputId": "3c796dca-830d-4ad7-bb19-5376767974fb"
      },
      "source": [
        "print(s[s < np.mean(s)] )\n",
        "print([(s > np.mean(s)) & (s < np.mean(s) + 1.64*np.std(s))])"
      ],
      "execution_count": null,
      "outputs": [
        {
          "output_type": "stream",
          "text": [
            "2017-01-01    143.73\n",
            "2017-01-03    143.68\n",
            "2017-01-05    143.50\n",
            "2017-01-06    142.62\n",
            "Name: Apple Price List, dtype: float64\n",
            "[2017-01-01    False\n",
            "2017-01-02    False\n",
            "2017-01-03    False\n",
            "2017-01-04     True\n",
            "2017-01-05    False\n",
            "2017-01-06    False\n",
            "Freq: D, Name: Apple Price List, dtype: bool]\n"
          ],
          "name": "stdout"
        }
      ]
    },
    {
      "cell_type": "markdown",
      "metadata": {
        "id": "U7S7U5J-Bez-"
      },
      "source": [
        "## NRROJASFE Pandas Example"
      ]
    },
    {
      "cell_type": "code",
      "metadata": {
        "colab": {
          "base_uri": "https://localhost:8080/"
        },
        "id": "XngMrW1SBkmd",
        "outputId": "0a880fdf-cbf6-4c9b-d21f-da7d8d794739"
      },
      "source": [
        "my_price = [212.21, 327.20, 300.56,100.10, 445.57]\n",
        "my_serie = pd.Series(my_price,index = pd.date_range('2021-01-01',periods = len(my_price),freq = 'Y'), name=\"My prices\")\n",
        "my_serie"
      ],
      "execution_count": null,
      "outputs": [
        {
          "output_type": "execute_result",
          "data": {
            "text/plain": [
              "2021-12-31    212.21\n",
              "2022-12-31    327.20\n",
              "2023-12-31    300.56\n",
              "2024-12-31    100.10\n",
              "2025-12-31    445.57\n",
              "Freq: A-DEC, Name: My prices, dtype: float64"
            ]
          },
          "metadata": {
            "tags": []
          },
          "execution_count": 35
        }
      ]
    },
    {
      "cell_type": "code",
      "metadata": {
        "colab": {
          "base_uri": "https://localhost:8080/"
        },
        "id": "krswlwhvCoq-",
        "outputId": "e013bdfd-e38a-4832-ad62-18734daa4be3"
      },
      "source": [
        "print(my_serie<np.std(my_serie))"
      ],
      "execution_count": null,
      "outputs": [
        {
          "output_type": "stream",
          "text": [
            "2021-12-31    False\n",
            "2022-12-31    False\n",
            "2023-12-31    False\n",
            "2024-12-31     True\n",
            "2025-12-31    False\n",
            "Freq: A-DEC, Name: My prices, dtype: bool\n"
          ],
          "name": "stdout"
        }
      ]
    },
    {
      "cell_type": "code",
      "metadata": {
        "colab": {
          "base_uri": "https://localhost:8080/"
        },
        "id": "PjTo9Ak1DUkH",
        "outputId": "cf494446-bd22-4ed0-d90d-20f73de01237"
      },
      "source": [
        "print(np.median(my_serie)<np.mean(my_serie))"
      ],
      "execution_count": null,
      "outputs": [
        {
          "output_type": "stream",
          "text": [
            "False\n"
          ],
          "name": "stdout"
        }
      ]
    }
  ]
}