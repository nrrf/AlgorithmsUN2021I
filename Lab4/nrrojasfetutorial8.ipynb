{
  "nbformat": 4,
  "nbformat_minor": 0,
  "metadata": {
    "kernelspec": {
      "name": "python3",
      "display_name": "Python 3"
    },
    "colab": {
      "name": "nrrojasfetutorial8.ipynb",
      "provenance": []
    }
  },
  "cells": [
    {
      "cell_type": "markdown",
      "metadata": {
        "id": "lqDl8YkLK601"
      },
      "source": [
        "# Confidence Interval and Hypothesis Testing"
      ]
    },
    {
      "cell_type": "markdown",
      "metadata": {
        "id": "mdv6zsMDLHTo"
      },
      "source": [
        "## Confidence Interval"
      ]
    },
    {
      "cell_type": "markdown",
      "metadata": {
        "id": "5ZhDzUUjLSVN"
      },
      "source": [
        "Sample Error"
      ]
    },
    {
      "cell_type": "code",
      "metadata": {
        "colab": {
          "base_uri": "https://localhost:8080/"
        },
        "id": "iRrSK-ijMdHG",
        "outputId": "6665cb1c-fb1e-46a6-8f26-0f6b583c1826"
      },
      "source": [
        "!pip install quandl"
      ],
      "execution_count": 1,
      "outputs": [
        {
          "output_type": "stream",
          "text": [
            "Collecting quandl\n",
            "  Downloading https://files.pythonhosted.org/packages/8b/2b/feefb36015beaecc5c0f9f2533e815b409621d9fa7b50b2aac621796f828/Quandl-3.6.1-py2.py3-none-any.whl\n",
            "Requirement already satisfied: more-itertools in /usr/local/lib/python3.7/dist-packages (from quandl) (8.7.0)\n",
            "Requirement already satisfied: pandas>=0.14 in /usr/local/lib/python3.7/dist-packages (from quandl) (1.1.5)\n",
            "Requirement already satisfied: python-dateutil in /usr/local/lib/python3.7/dist-packages (from quandl) (2.8.1)\n",
            "Collecting inflection>=0.3.1\n",
            "  Downloading https://files.pythonhosted.org/packages/59/91/aa6bde563e0085a02a435aa99b49ef75b0a4b062635e606dab23ce18d720/inflection-0.5.1-py2.py3-none-any.whl\n",
            "Requirement already satisfied: six in /usr/local/lib/python3.7/dist-packages (from quandl) (1.15.0)\n",
            "Requirement already satisfied: numpy>=1.8 in /usr/local/lib/python3.7/dist-packages (from quandl) (1.19.5)\n",
            "Requirement already satisfied: requests>=2.7.0 in /usr/local/lib/python3.7/dist-packages (from quandl) (2.23.0)\n",
            "Requirement already satisfied: pytz>=2017.2 in /usr/local/lib/python3.7/dist-packages (from pandas>=0.14->quandl) (2018.9)\n",
            "Requirement already satisfied: chardet<4,>=3.0.2 in /usr/local/lib/python3.7/dist-packages (from requests>=2.7.0->quandl) (3.0.4)\n",
            "Requirement already satisfied: idna<3,>=2.5 in /usr/local/lib/python3.7/dist-packages (from requests>=2.7.0->quandl) (2.10)\n",
            "Requirement already satisfied: certifi>=2017.4.17 in /usr/local/lib/python3.7/dist-packages (from requests>=2.7.0->quandl) (2020.12.5)\n",
            "Requirement already satisfied: urllib3!=1.25.0,!=1.25.1,<1.26,>=1.21.1 in /usr/local/lib/python3.7/dist-packages (from requests>=2.7.0->quandl) (1.24.3)\n",
            "Installing collected packages: inflection, quandl\n",
            "Successfully installed inflection-0.5.1 quandl-3.6.1\n"
          ],
          "name": "stdout"
        }
      ]
    },
    {
      "cell_type": "code",
      "metadata": {
        "id": "VxzkHhwiKkRT",
        "colab": {
          "base_uri": "https://localhost:8080/"
        },
        "outputId": "fd571a03-b49b-4db7-8145-67f908b5b97d"
      },
      "source": [
        "import matplotlib.pyplot as plt\n",
        "import numpy as np\n",
        "import pandas as pd\n",
        "import quandl\n",
        "'''\n",
        "spy_table = quandl.get('LSE/SPY5')\n",
        "spy_total = spy_table[['Last Close']]\n",
        "spy_log_return = np.log(spy_total['Last Close']).diff().dropna()\n",
        "print('Population mean:', np.mean(spy_log_return))\n",
        "print('Population standard deviation:',np.std(spy_log_return))\n",
        "''' \n",
        "\n",
        "aapl_table = quandl.get('WIKI/AAPL')\n",
        "aapl_total = aapl_table[['Adj. Close']]\n",
        "aapl_log_return = np.log(aapl_total['Adj. Close']).diff().dropna()\n",
        "print('Population mean:', np.mean(aapl_log_return))\n",
        "print('Population standard deviation:',np.std(aapl_log_return))"
      ],
      "execution_count": 18,
      "outputs": [
        {
          "output_type": "stream",
          "text": [
            "Population mean: 0.0006369895009929311\n",
            "Population standard deviation: 0.029496323887011344\n"
          ],
          "name": "stdout"
        }
      ]
    },
    {
      "cell_type": "code",
      "metadata": {
        "id": "ugpvFLxiKkRa",
        "colab": {
          "base_uri": "https://localhost:8080/"
        },
        "outputId": "be5e4999-41cc-4143-9937-48ab84507024"
      },
      "source": [
        "'''\n",
        "print '10 days sample returns:', np.mean(spy_log_return.tail(10))\n",
        "print '10 days sample standard deviation:', np.std(spy_log_return.tail(10))\n",
        "print '1000 days sample returns:', np.mean(spy_log_return.tail(1000))\n",
        "print '1000 days sample standard deviation:', np.std(spy_log_return.tail(1000))\n",
        "'''\n",
        "\n",
        "print('10 days sample returns:', np.mean(aapl_log_return.tail(10)))\n",
        "print('10 days sample standard deviation:', np.std(aapl_log_return.tail(10)))\n",
        "print('1000 days sample returns:', np.mean(aapl_log_return.tail(1000)))\n",
        "print('1000 days sample standard deviation:', np.std(aapl_log_return.tail(1000)))"
      ],
      "execution_count": 19,
      "outputs": [
        {
          "output_type": "stream",
          "text": [
            "10 days sample returns: -0.006680442654968121\n",
            "10 days sample standard deviation: 0.019948507891523214\n",
            "1000 days sample returns: 0.0008487154093737379\n",
            "1000 days sample standard deviation: 0.014361188701622956\n"
          ],
          "name": "stdout"
        }
      ]
    },
    {
      "cell_type": "code",
      "metadata": {
        "id": "YnFPw1CzKkRb",
        "colab": {
          "base_uri": "https://localhost:8080/"
        },
        "outputId": "bb4fdad5-3d69-4f85-f79b-2d448888517b"
      },
      "source": [
        "'''\n",
        "bottom_1 = np.mean(spy_log_return.tail(10))-1.96*np.std(spy_log_return.tail(10))/(np.sqrt(len((spy_log_return.tail(10)))))\n",
        "upper_1 = np.mean(spy_log_return.tail(10))+1.96*np.std(spy_log_return.tail(10))/(np.sqrt(len((spy_log_return.tail(10)))))\n",
        "bottom_2 = np.mean(spy_log_return.tail(1000))-1.96*np.std(spy_log_return.tail(1000))/(np.sqrt(len((spy_log_return.tail(1000)))))\n",
        "upper_2 = np.mean(spy_log_return.tail(1000))+1.96*np.std(spy_log_return.tail(1000))/(np.sqrt(len((spy_log_return.tail(1000)))))\n",
        "print '10 days 95% confidence inverval:', (bottom_1,upper_1)\n",
        "print '1000 days 95% confidence inverval:', (bottom_2,upper_2)\n",
        "''' \n",
        "\n",
        "bottom_1 = np.mean(aapl_log_return.tail(10))-1.96*np.std(aapl_log_return.tail(10))/(np.sqrt(len((aapl_log_return.tail(10)))))\n",
        "upper_1 = np.mean(aapl_log_return.tail(10))+1.96*np.std(aapl_log_return.tail(10))/(np.sqrt(len((aapl_log_return.tail(10)))))\n",
        "bottom_2 = np.mean(aapl_log_return.tail(1000))-1.96*np.std(aapl_log_return.tail(1000))/(np.sqrt(len((aapl_log_return.tail(1000)))))\n",
        "upper_2 = np.mean(aapl_log_return.tail(1000))+1.96*np.std(aapl_log_return.tail(1000))/(np.sqrt(len((aapl_log_return.tail(1000)))))\n",
        "print('10 days 95% confidence inverval:', (bottom_1,upper_1))\n",
        "print('1000 days 95% confidence inverval:', (bottom_2,upper_2))"
      ],
      "execution_count": 21,
      "outputs": [
        {
          "output_type": "stream",
          "text": [
            "10 days 95% confidence inverval: (-0.01904465594334319, 0.005683770633406946)\n",
            "1000 days 95% confidence inverval: (-4.140028823651628e-05, 0.0017388311069839921)\n"
          ],
          "name": "stdout"
        }
      ]
    },
    {
      "cell_type": "markdown",
      "metadata": {
        "id": "w363ig3TLlWM"
      },
      "source": [
        "![image](https://cdn.quantconnect.com/tutorials/i/Tutorial08-empirical-rule.png)"
      ]
    },
    {
      "cell_type": "markdown",
      "metadata": {
        "id": "IaYASNXJM3jD"
      },
      "source": [
        "## NRROJASFE Example"
      ]
    },
    {
      "cell_type": "code",
      "metadata": {
        "colab": {
          "base_uri": "https://localhost:8080/"
        },
        "id": "LKYrgiXXShI8",
        "outputId": "439dd824-4b47-4446-f762-fdc2d3c0b784"
      },
      "source": [
        "fb_table = quandl.get('WIKI/FB')\n",
        "fb_total = fb_table[['Adj. Close']]\n",
        "fb_log_return = np.log(fb_total['Adj. Close']).diff().dropna()\n",
        "print('Population mean:', np.mean(aapl_log_return))\n",
        "print('Population standard deviation:',np.std(aapl_log_return))"
      ],
      "execution_count": 28,
      "outputs": [
        {
          "output_type": "stream",
          "text": [
            "Population mean: 0.0006369895009929311\n",
            "Population standard deviation: 0.029496323887011344\n"
          ],
          "name": "stdout"
        }
      ]
    },
    {
      "cell_type": "code",
      "metadata": {
        "colab": {
          "base_uri": "https://localhost:8080/"
        },
        "id": "VBuOKjKnSstq",
        "outputId": "6179c48f-25bf-4dbe-a432-3b26852e9828"
      },
      "source": [
        "print('20 days sample returns:', np.mean(fb_log_return.tail(11)))\n",
        "print('20 days sample standard deviation:', np.std(fb_log_return.tail(20)))\n",
        "print('500 days sample returns:', np.mean(fb_log_return.tail(500)))\n",
        "print('500 days sample standard deviation:', np.std(fb_log_return.tail(500)))"
      ],
      "execution_count": 30,
      "outputs": [
        {
          "output_type": "stream",
          "text": [
            "20 days sample returns: -0.01762981321051785\n",
            "20 days sample standard deviation: 0.023149249837857603\n",
            "500 days sample returns: 0.0005761089667573564\n",
            "500 days sample standard deviation: 0.013408324324839306\n"
          ],
          "name": "stdout"
        }
      ]
    },
    {
      "cell_type": "code",
      "metadata": {
        "colab": {
          "base_uri": "https://localhost:8080/"
        },
        "id": "ArufZqh3S3HL",
        "outputId": "0c070399-10a2-4e13-bfa2-80b03c81c371"
      },
      "source": [
        "bottom_1 = np.mean(fb_log_return.tail(20))-1.91*np.std(fb_log_return.tail(20))/(np.sqrt(len((fb_log_return.tail(20)))))\n",
        "upper_1 = np.mean(fb_log_return.tail(20))+1.91*np.std(fb_log_return.tail(20))/(np.sqrt(len((fb_log_return.tail(20)))))\n",
        "bottom_2 = np.mean(fb_log_return.tail(500))-1.91*np.std(fb_log_return.tail(500))/(np.sqrt(len((fb_log_return.tail(500)))))\n",
        "upper_2 = np.mean(fb_log_return.tail(500))+1.91*np.std(fb_log_return.tail(500))/(np.sqrt(len((fb_log_return.tail(500)))))\n",
        "print('20 days 90% confidence inverval:', (bottom_1,upper_1))\n",
        "print('500 days 90% confidence inverval:', (bottom_2,upper_2))"
      ],
      "execution_count": 31,
      "outputs": [
        {
          "output_type": "stream",
          "text": [
            "20 days 90% confidence inverval: (-0.018682064761463682, 0.0010915144119861882)\n",
            "500 days 90% confidence inverval: (-0.0005692005550523616, 0.0017214184885670746)\n"
          ],
          "name": "stdout"
        }
      ]
    },
    {
      "cell_type": "markdown",
      "metadata": {
        "id": "gs1tOljVLcfN"
      },
      "source": [
        "## Hypothesis testing"
      ]
    },
    {
      "cell_type": "code",
      "metadata": {
        "id": "fU8mleauKkRc",
        "colab": {
          "base_uri": "https://localhost:8080/"
        },
        "outputId": "896ffbd0-033b-45ab-9079-bf791ec5a246"
      },
      "source": [
        "'''\n",
        "mean_10 = np.mean(spy_log_return.tail(10))\n",
        "std_10 = np.std(spy_log_return.tail(10))\n",
        "mean_1000 = np.mean(spy_log_return.tail(1000))\n",
        "std_1000 = np.std(spy_log_return.tail(1000))\n",
        "s = pd.Series([mean_10,std_10,mean_1000,std_1000],index = ['mean_10', 'std_10','mean_1000','std_1000'])\n",
        "print s\n",
        "''' \n",
        "\n",
        "mean_10 = np.mean(aapl_log_return.tail(10))\n",
        "std_10 = np.std(aapl_log_return.tail(10))\n",
        "mean_1000 = np.mean(aapl_log_return.tail(1000))\n",
        "std_1000 = np.std(aapl_log_return.tail(1000))\n",
        "s = pd.Series([mean_10,std_10,mean_1000,std_1000],index = ['mean_10', 'std_10','mean_1000','std_1000'])\n",
        "print(s)"
      ],
      "execution_count": 32,
      "outputs": [
        {
          "output_type": "stream",
          "text": [
            "mean_10     -0.006680\n",
            "std_10       0.019949\n",
            "mean_1000    0.000849\n",
            "std_1000     0.014361\n",
            "dtype: float64\n"
          ],
          "name": "stdout"
        }
      ]
    },
    {
      "cell_type": "code",
      "metadata": {
        "id": "Vrj9Kg4aKkRc",
        "colab": {
          "base_uri": "https://localhost:8080/"
        },
        "outputId": "a934abd2-abe6-46c9-f17b-03b1837f43a8"
      },
      "source": [
        "bottom = 0 - 1.64*std_1000/np.sqrt(1000)\n",
        "upper = 0 + 1.64*std_1000/np.sqrt(1000)\n",
        "print(bottom, upper)"
      ],
      "execution_count": 23,
      "outputs": [
        {
          "output_type": "stream",
          "text": [
            "-0.0007447906857555187 0.0007447906857555187\n"
          ],
          "name": "stdout"
        }
      ]
    },
    {
      "cell_type": "code",
      "metadata": {
        "id": "sEpXrncnKkRd",
        "colab": {
          "base_uri": "https://localhost:8080/"
        },
        "outputId": "e919f2f8-a7f8-4f67-d32f-6cb0e3fae5b1"
      },
      "source": [
        "bottom = 0 - 1.96*std_1000/np.sqrt(1000)\n",
        "upper = 0 + 1.96*std_1000/np.sqrt(1000)\n",
        "print(bottom, upper)"
      ],
      "execution_count": 24,
      "outputs": [
        {
          "output_type": "stream",
          "text": [
            "-0.0008901156976102542 0.0008901156976102542\n"
          ],
          "name": "stdout"
        }
      ]
    },
    {
      "cell_type": "code",
      "metadata": {
        "id": "8yPEce3fKkRd",
        "colab": {
          "base_uri": "https://localhost:8080/"
        },
        "outputId": "04c337e6-d3dc-4990-d770-ff57d25093aa"
      },
      "source": [
        "print(np.sqrt(1000)*(mean_1000 - 0)/std_1000)"
      ],
      "execution_count": 25,
      "outputs": [
        {
          "output_type": "stream",
          "text": [
            "1.868838182315596\n"
          ],
          "name": "stdout"
        }
      ]
    },
    {
      "cell_type": "code",
      "metadata": {
        "id": "qq28jyQEKkRe",
        "colab": {
          "base_uri": "https://localhost:8080/"
        },
        "outputId": "080c1bea-0892-41a1-c4ae-57e6151937ab"
      },
      "source": [
        "import scipy.stats as st\n",
        "print(1 - st.norm.cdf(1.9488))"
      ],
      "execution_count": 26,
      "outputs": [
        {
          "output_type": "stream",
          "text": [
            "0.02565965688799665\n"
          ],
          "name": "stdout"
        }
      ]
    },
    {
      "cell_type": "markdown",
      "metadata": {
        "id": "mNqRjW3xMCzW"
      },
      "source": [
        "![image](https://cdn.quantconnect.com/tutorials/i/Tutorial08-confidence-interval.jpg)"
      ]
    },
    {
      "cell_type": "code",
      "metadata": {
        "id": "7_T3F7TFKkRf",
        "colab": {
          "base_uri": "https://localhost:8080/"
        },
        "outputId": "62b7cee7-eb89-4915-a57d-1f246d528aed"
      },
      "source": [
        "'''\n",
        "mean_1200 = np.mean(spy_log_return.tail(1200))\n",
        "std_1200 = np.std(spy_log_return.tail(1200))\n",
        "z_score = np.sqrt(1200)*(mean_1200 - 0)/std_1200\n",
        "print 'z-score = ',z_score\n",
        "p_value = (1 - st.norm.cdf(z_score))\n",
        "print 'p_value = ',p_value\n",
        "'''\n",
        "\n",
        "mean_1200 = np.mean(aapl_log_return.tail(1200))\n",
        "std_1200 = np.std(aapl_log_return.tail(1200))\n",
        "z_score = np.sqrt(1200)*(mean_1200 - 0)/std_1200\n",
        "print('z-score = ',z_score)\n",
        "p_value = (1 - st.norm.cdf(z_score))\n",
        "print('p_value = ',p_value)"
      ],
      "execution_count": 27,
      "outputs": [
        {
          "output_type": "stream",
          "text": [
            "z-score =  2.169794124387715\n",
            "p_value =  0.015011222843254513\n"
          ],
          "name": "stdout"
        }
      ]
    },
    {
      "cell_type": "markdown",
      "metadata": {
        "id": "mkRa3aEpM5-z"
      },
      "source": [
        "## NRROJASFE Example\n"
      ]
    },
    {
      "cell_type": "code",
      "metadata": {
        "colab": {
          "base_uri": "https://localhost:8080/"
        },
        "id": "b1SrggcWT5GD",
        "outputId": "bb69e1db-2288-40c7-9b58-b5a355cc33e3"
      },
      "source": [
        "mean_20 = np.mean(fb_log_return.tail(20))\n",
        "std_20 = np.std(fb_log_return.tail(20))\n",
        "mean_500 = np.mean(fb_log_return.tail(500))\n",
        "std_500 = np.std(fb_log_return.tail(500))\n",
        "s = pd.Series([mean_20,std_20,mean_500,std_500],index = ['mean_20', 'std_20','mean_500','std_500'])\n",
        "print(s)"
      ],
      "execution_count": 34,
      "outputs": [
        {
          "output_type": "stream",
          "text": [
            "mean_20    -0.008795\n",
            "std_20      0.023149\n",
            "mean_500    0.000576\n",
            "std_500     0.013408\n",
            "dtype: float64\n"
          ],
          "name": "stdout"
        }
      ]
    },
    {
      "cell_type": "code",
      "metadata": {
        "colab": {
          "base_uri": "https://localhost:8080/"
        },
        "id": "p2ddk9DZUQdS",
        "outputId": "a523941b-d10e-4287-eafe-9f5b878599b6"
      },
      "source": [
        "bottom = 0 - 1.64*std_500/np.sqrt(500)\n",
        "upper = 0 + 1.64*std_500/np.sqrt(500)\n",
        "print(bottom, upper)"
      ],
      "execution_count": 35,
      "outputs": [
        {
          "output_type": "stream",
          "text": [
            "-0.0009834071286743127 0.0009834071286743127\n"
          ],
          "name": "stdout"
        }
      ]
    },
    {
      "cell_type": "code",
      "metadata": {
        "colab": {
          "base_uri": "https://localhost:8080/"
        },
        "id": "5RNkpdxbUX3y",
        "outputId": "bec1b525-acd9-4ccc-bbaa-59ce0a9b3d90"
      },
      "source": [
        "bottom = 0 - 1.91*std_500/np.sqrt(500)\n",
        "upper = 0 + 1.91*std_500/np.sqrt(500)\n",
        "print(bottom, upper)"
      ],
      "execution_count": 37,
      "outputs": [
        {
          "output_type": "stream",
          "text": [
            "-0.001145309521809718 0.001145309521809718\n"
          ],
          "name": "stdout"
        }
      ]
    },
    {
      "cell_type": "code",
      "metadata": {
        "colab": {
          "base_uri": "https://localhost:8080/"
        },
        "id": "j072wPsVUl4B",
        "outputId": "8d30a661-d254-4421-e34a-4a50e21c2b06"
      },
      "source": [
        "print(np.sqrt(500)*(mean_500 - 0)/std_500)"
      ],
      "execution_count": 38,
      "outputs": [
        {
          "output_type": "stream",
          "text": [
            "0.9607604805099719\n"
          ],
          "name": "stdout"
        }
      ]
    }
  ]
}