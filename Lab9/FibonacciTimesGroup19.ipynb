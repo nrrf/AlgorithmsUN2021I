{
  "nbformat": 4,
  "nbformat_minor": 0,
  "metadata": {
    "colab": {
      "name": "FibonacciTimesGroup19.ipynb",
      "provenance": [],
      "collapsed_sections": []
    },
    "kernelspec": {
      "name": "python3",
      "display_name": "Python 3"
    }
  },
  "cells": [
    {
      "cell_type": "markdown",
      "metadata": {
        "id": "X8n2KKvk9VxL"
      },
      "source": [
        "# Fibonacci sequence \n",
        "\n",
        "Fibonacci  - https://en.wikipedia.org/wiki/Fibonacci Leonardo Bonacci, Leonardo of Pisa, or Leonardo Bigollo Pisano ('Leonardo the Traveller from Pisa')  \n",
        "\n",
        "$$\n",
        " f_n = \\left\\{ \n",
        " \\begin{array}{lll}\n",
        " 0& if & n=0\\\\\n",
        " 1& if & n=1\\\\\n",
        " f_{n-1} +   f_{n-2} & if & n> 1 \\text{ (otherwise)}\\\\\n",
        " \\end{array}\n",
        "   \\right.\n",
        "$$\n",
        "\n"
      ]
    },
    {
      "cell_type": "markdown",
      "metadata": {
        "id": "kPF1PvZye5T9"
      },
      "source": [
        "## Fibonacci recursive algorithm $O\\left( \\left(  \\frac{1+\\sqrt(5)}{2}  \\right)^n  lg\\ n\\right)$ [Relaxed asymptotic bound $O(2^n\\ lg\\ n)$]"
      ]
    },
    {
      "cell_type": "code",
      "metadata": {
        "id": "nNNFssFuzeqk"
      },
      "source": [
        "# fibR - Fibonacci Recursive O( ( (1+sqrt(5)/2 )^n lg n ) [Relaxed asymptotic bound O(2^n lg n)] \n",
        "def fibR(n):\n",
        "    if n==0 :\n",
        "        return 0\n",
        "    if n==1 :\n",
        "        return 1\n",
        "    return fibR(n-1)+fibR(n-2)    # for large n´s  the addition will take lg n stetp because the numebers are very large"
      ],
      "execution_count": null,
      "outputs": []
    },
    {
      "cell_type": "markdown",
      "metadata": {
        "id": "h9hJRvO-8TEY"
      },
      "source": [
        "https://www.geeksforgeeks.org/time-process_time-function-in-python/"
      ]
    },
    {
      "cell_type": "code",
      "metadata": {
        "colab": {
          "base_uri": "https://localhost:8080/"
        },
        "id": "8HSgvCagzi1T",
        "outputId": "a3c82585-1d31-4fee-9be8-d555027c08a4"
      },
      "source": [
        "from time import process_time\n",
        "n=40\n",
        "t0 = process_time() \n",
        "k = fibR(n)\n",
        "tf =process_time() \n",
        "print(\"n=\",n,\"fib(\",n,\")=\",k,\"time\",tf - t0, \"seconds process time\")"
      ],
      "execution_count": null,
      "outputs": [
        {
          "output_type": "stream",
          "text": [
            "n= 40 fib( 40 )= 102334155 time 48.816497086000005 seconds process time\n"
          ],
          "name": "stdout"
        }
      ]
    },
    {
      "cell_type": "code",
      "metadata": {
        "colab": {
          "base_uri": "https://localhost:8080/"
        },
        "id": "O8HLJ3E1zqIf",
        "outputId": "68f66096-dada-4ac9-bbb7-19fd070c233a"
      },
      "source": [
        "from time import process_time\n",
        "n=41\n",
        "t0 = process_time() \n",
        "k = fibR(n)\n",
        "tf =process_time() \n",
        "print(\"n=\",n,\"fib(\",n,\")=\",k,\"time\",tf - t0, \"seconds process time\")"
      ],
      "execution_count": null,
      "outputs": [
        {
          "output_type": "stream",
          "text": [
            "n= 41 fib( 41 )= 165580141 time 78.68676524099999 seconds process time\n"
          ],
          "name": "stdout"
        }
      ]
    },
    {
      "cell_type": "code",
      "metadata": {
        "colab": {
          "base_uri": "https://localhost:8080/"
        },
        "id": "1ZRB-cTgj3_9",
        "outputId": "b5da332b-4a80-4c27-de4f-6562ea325941"
      },
      "source": [
        "78.68676524099999 /48.816497086000005"
      ],
      "execution_count": null,
      "outputs": [
        {
          "output_type": "execute_result",
          "data": {
            "text/plain": [
              "1.6118888068182677"
            ]
          },
          "metadata": {
            "tags": []
          },
          "execution_count": 82
        }
      ]
    },
    {
      "cell_type": "code",
      "metadata": {
        "colab": {
          "base_uri": "https://localhost:8080/"
        },
        "id": "fw5Pepxt0NG-",
        "outputId": "d9dd8aa1-5671-40b3-d202-f39220fe3d5c"
      },
      "source": [
        "from time import process_time\n",
        "n=42\n",
        "t0 = process_time()\n",
        "k = fibR(n)\n",
        "tf =process_time()\n",
        "print(\"n=\",n,\"fib(\",n,\")=\",k,\"time\",tf - t0, \"seconds process time\")"
      ],
      "execution_count": null,
      "outputs": [
        {
          "output_type": "stream",
          "text": [
            "n= 42 fib( 42 )= 267914296 time 124.40780009600002 seconds process time\n"
          ],
          "name": "stdout"
        }
      ]
    },
    {
      "cell_type": "code",
      "metadata": {
        "colab": {
          "base_uri": "https://localhost:8080/"
        },
        "id": "Nfj9Apgmj9yt",
        "outputId": "b5216822-56bb-4224-b0b8-1420597088ed"
      },
      "source": [
        "124.40780009600002 / 78.68676524099999"
      ],
      "execution_count": null,
      "outputs": [
        {
          "output_type": "execute_result",
          "data": {
            "text/plain": [
              "1.581051142653618"
            ]
          },
          "metadata": {
            "tags": []
          },
          "execution_count": 83
        }
      ]
    },
    {
      "cell_type": "code",
      "metadata": {
        "colab": {
          "base_uri": "https://localhost:8080/"
        },
        "id": "st1qvaSPkSnn",
        "outputId": "980cfcdd-a8f3-4623-ba05-2d250b0773c4"
      },
      "source": [
        "from time import process_time\n",
        "n=43\n",
        "t0 = process_time()\n",
        "k = fibR(n)\n",
        "tf =process_time()\n",
        "print(\"n=\",n,\"fib(\",n,\")=\",k,\"time\",tf - t0, \"seconds process time\")"
      ],
      "execution_count": null,
      "outputs": [
        {
          "output_type": "stream",
          "text": [
            "n= 43 fib( 43 )= 433494437 time 193.222576109 seconds process time\n"
          ],
          "name": "stdout"
        }
      ]
    },
    {
      "cell_type": "code",
      "metadata": {
        "colab": {
          "base_uri": "https://localhost:8080/"
        },
        "id": "2tEUx3C7kUHV",
        "outputId": "eeb9e94f-e124-43a4-cf45-79340dd3ca58"
      },
      "source": [
        "193.222576109 /124.40780009600002"
      ],
      "execution_count": null,
      "outputs": [
        {
          "output_type": "execute_result",
          "data": {
            "text/plain": [
              "1.5531387578584193"
            ]
          },
          "metadata": {
            "tags": []
          },
          "execution_count": 92
        }
      ]
    },
    {
      "cell_type": "code",
      "metadata": {
        "colab": {
          "base_uri": "https://localhost:8080/"
        },
        "id": "ckNkH1HoL3_l",
        "outputId": "7d08400f-9ab2-42f9-91f3-0f707c7662b1"
      },
      "source": [
        "from time import process_time\n",
        "n=45\n",
        "t0 = process_time()\n",
        "k = fibR(n)\n",
        "tf =process_time()\n",
        "print(\"n=\",n,\"fib(\",n,\")=\",k,\"time\",tf - t0, \"seconds process time\")"
      ],
      "execution_count": null,
      "outputs": [
        {
          "output_type": "stream",
          "text": [
            "n= 45 fib( 45 )= 1134903170 time 503.726255125 seconds process time\n"
          ],
          "name": "stdout"
        }
      ]
    },
    {
      "cell_type": "code",
      "metadata": {
        "colab": {
          "base_uri": "https://localhost:8080/"
        },
        "id": "rtO7RnQyktKo",
        "outputId": "c1abad63-2827-4a06-a2cf-90f15b35cf2c"
      },
      "source": [
        "# Max n in 1 year 60*60*24*365 s if n= 41 takes  aporx 1 mins \n",
        "\n",
        "import math \n",
        "41+ int(math.log2(2460**365))"
      ],
      "execution_count": null,
      "outputs": [
        {
          "output_type": "execute_result",
          "data": {
            "text/plain": [
              "60"
            ]
          },
          "metadata": {
            "tags": []
          },
          "execution_count": 1
        }
      ]
    },
    {
      "cell_type": "code",
      "metadata": {
        "colab": {
          "base_uri": "https://localhost:8080/"
        },
        "id": "CpIGWRzCl81s",
        "outputId": "f29d5543-31f9-4ad6-ee00-71e67121e4f4"
      },
      "source": [
        "# Max n 100 years 60*60*24*365*100 s if n= 41 takes  aporx 1 mins \n",
        "\n",
        "import math \n",
        "41+ int(math.log2(60*24*365*100))"
      ],
      "execution_count": null,
      "outputs": [
        {
          "output_type": "execute_result",
          "data": {
            "text/plain": [
              "66"
            ]
          },
          "metadata": {
            "tags": []
          },
          "execution_count": 88
        }
      ]
    },
    {
      "cell_type": "code",
      "metadata": {
        "colab": {
          "base_uri": "https://localhost:8080/"
        },
        "id": "bD9q_MyumGgU",
        "outputId": "8784df09-8e0b-4371-c57c-bcd823b6d832"
      },
      "source": [
        "# Max n 1000 years 60*60*24*360*100 s if n= 41 takes  aporx 1 mins \n",
        "\n",
        "import math \n",
        "41+ int(math.log2(60*24*360*1000))"
      ],
      "execution_count": null,
      "outputs": [
        {
          "output_type": "execute_result",
          "data": {
            "text/plain": [
              "69"
            ]
          },
          "metadata": {
            "tags": []
          },
          "execution_count": 89
        }
      ]
    },
    {
      "cell_type": "code",
      "metadata": {
        "colab": {
          "base_uri": "https://localhost:8080/"
        },
        "id": "3agEZf9SmNSl",
        "outputId": "ede31904-d287-47be-c57c-df425a586cda"
      },
      "source": [
        "# Max n 1000000 years 60*60*24*360*100 s if n= 41 takes  aporx 1 mins \n",
        "\n",
        "import math \n",
        "41+ int(math.log2(60*24*360*1000000))"
      ],
      "execution_count": null,
      "outputs": [
        {
          "output_type": "execute_result",
          "data": {
            "text/plain": [
              "79"
            ]
          },
          "metadata": {
            "tags": []
          },
          "execution_count": 90
        }
      ]
    },
    {
      "cell_type": "code",
      "metadata": {
        "id": "FZSZ7M70Ulzm",
        "colab": {
          "base_uri": "https://localhost:8080/",
          "height": 333
        },
        "outputId": "54bee389-673f-48a9-ebbb-405a59919d5d"
      },
      "source": [
        "import timeit\n",
        "import numpy as np\n",
        "import matplotlib.pyplot as plt\n",
        "\n",
        "time = []\n",
        "x = np.array(range(41))\n",
        "for i in x:\n",
        "    #initial time \n",
        "    start = timeit.timeit()\n",
        "    # execution of fibonacci\n",
        "    k = fibR(i)\n",
        "    # final time \n",
        "    end = timeit.timeit()\n",
        "    #measure\n",
        "    timeAdd = end - start\n",
        "\n",
        "    time.append(timeAdd)\n",
        "\n",
        "print(time)\n",
        "# data of time \n",
        "plt.plot(time)\n",
        "\n",
        "# array of iterations\n",
        "plt.plot(x)\n",
        "\n",
        "plt.title(\"Recursive Fibonacci Algorithm\")\n",
        "plt.xlabel(\"n\")\n",
        "plt.ylabel(\"Execution Time\")\n",
        "plt.show()"
      ],
      "execution_count": null,
      "outputs": [
        {
          "output_type": "stream",
          "text": [
            "[-0.002758266000000731, 0.000940485000114677, 0.0007488329999887355, -0.0010859640000262516, 1.4610001244363957e-06, 0.0015866830000277332, -0.0003335650000053647, 0.0006929019998551667, 9.458599993195094e-05, 4.7346999849651183e-05, -5.716199984817649e-05, 0.0008508900000379072, -0.0020098509999115777, 0.00024654000003465626, -0.0023830779998661455, 0.000974006999967969, -6.349500006308517e-05, -0.0034795129998883567, 5.939300001500669e-05, -0.00014994399998613517, -5.055100007211877e-05, 4.502399997363682e-05, 0.0040816450000420446, -0.00014553100004377484, -0.0034430450000400015, 0.00020878099996934907, -0.00040064999996047845, 6.4089999796124175e-06, -6.332399993880244e-05, -6.359499991503981e-05]\n"
          ],
          "name": "stdout"
        },
        {
          "output_type": "display_data",
          "data": {
            "image/png": "[encoded data removed]",
            "text/plain": [
              "<Figure size 432x288 with 1 Axes>"
            ]
          },
          "metadata": {
            "tags": [],
            "needs_background": "light"
          }
        }
      ]
    },
    {
      "cell_type": "markdown",
      "metadata": {
        "id": "3dfhpTAXEAjM"
      },
      "source": [
        "## Fibonacci analytical solution\n",
        "\n",
        "The Fibonacci sequence is the solution of the homogenous linear difference equation or  homogenous linear recurrence relation  https://en.wikipedia.org/wiki/Linear_difference_equation\n",
        "\n",
        "$$\n",
        "f_n =  f_{n-1} + f_{n-2} \\ \\ \\ \\ \\ \\ \\ \\text{if}\\ \\ \\ \\ \\ n> 1 \n",
        "$$\n",
        "with intial conditions\n",
        "$$\n",
        "f_0 =0 \\text{ and }f_1 = 1\\\n",
        "$$\n",
        "\n",
        "All linear difference equations have a solution of the from  $\\lambda^n$\n",
        "$$\n",
        "f_n = \\lambda^n\n",
        "$$ \n",
        "so \n",
        "$$ \n",
        "\\lambda^n =  \\lambda^{n-1} + \\lambda^{n-2} \n",
        "$$ \n",
        "divding by $\\lambda^{n-2} $\n",
        "$$ \n",
        "\\lambda^2 -  \\lambda -  1 = 0\n",
        "$$ \n",
        "then\n",
        "$$\n",
        "\\lambda = \\frac{1 \\pm \\sqrt{5}}{2}\n",
        "$$\n",
        "therefore\n",
        "$$\n",
        "f_n =  A \\left( \\frac{1 + \\sqrt{5}}{2} \\right)^n  + B \\left(\\frac{1 - \\sqrt{5}}{2} \\right)^n\n",
        "$$\n",
        "we find $A$ and $B$ with initial conditions\n",
        "$$\n",
        "f_0 = 0  = A \\left( \\frac{1 + \\sqrt{5}}{2} \\right)^0  + B \\left(\\frac{1 - \\sqrt{5}}{2} \\right)^0 = A+B\n",
        "$$\n",
        "so\n",
        "$$\n",
        "B = -A\n",
        "$$\n",
        "and \n",
        "$$\n",
        "f_1 = 1  = A \\left( \\frac{1 + \\sqrt{5}}{2} \\right)^1  + B \\left(\\frac{1 - \\sqrt{5}}{2} \\right)^1 = A \\left( \\frac{1 + \\sqrt{5}}{2} \\right)  - A \\left(\\frac{1 - \\sqrt{5}}{2} \\right) = A \\sqrt{5}\n",
        "$$\n",
        "so \n",
        "$$\n",
        "A =\\frac{1}{\\sqrt{5}}\n",
        "$$\n",
        "then\n",
        "$$\n",
        "f_n =  \\frac{1}{\\sqrt{5}} \\left( \\frac{1 + \\sqrt{5}}{2} \\right)^n  - \\frac{1}{\\sqrt{5}} \\left(\\frac{1 - \\sqrt{5}}{2} \\right)^n\n",
        "$$"
      ]
    },
    {
      "cell_type": "code",
      "metadata": {
        "id": "zJ2XBkns0UzP"
      },
      "source": [
        "import math\n",
        "def fibA(n):\n",
        "  r5= math.sqrt(5)\n",
        "  return  (1/r5)*((1 + r5 )/2)**n - (1/r5)*((1 - r5 )/2)**n"
      ],
      "execution_count": null,
      "outputs": []
    },
    {
      "cell_type": "code",
      "metadata": {
        "colab": {
          "base_uri": "https://localhost:8080/"
        },
        "id": "shhR4n5RHA2j",
        "outputId": "05982ac3-62c4-47ab-c6bc-dfd325b16857"
      },
      "source": [
        " for n in range(0, 11):\n",
        "   print(fibA(n))"
      ],
      "execution_count": null,
      "outputs": [
        {
          "output_type": "stream",
          "text": [
            "0.0\n",
            "1.0\n",
            "0.9999999999999999\n",
            "2.0\n",
            "3.0000000000000004\n",
            "5.000000000000001\n",
            "8.000000000000002\n",
            "13.000000000000004\n",
            "21.000000000000004\n",
            "34.000000000000014\n",
            "55.00000000000002\n"
          ],
          "name": "stdout"
        }
      ]
    },
    {
      "cell_type": "code",
      "metadata": {
        "colab": {
          "base_uri": "https://localhost:8080/"
        },
        "id": "r9AYdb8tHULc",
        "outputId": "7171eb92-6926-44f3-cecb-bef7f6cc9d81"
      },
      "source": [
        "for n in range(0, 11):\n",
        "   print(round(fibA(n)))"
      ],
      "execution_count": null,
      "outputs": [
        {
          "output_type": "stream",
          "text": [
            "0\n",
            "1\n",
            "1\n",
            "2\n",
            "3\n",
            "5\n",
            "8\n",
            "13\n",
            "21\n",
            "34\n",
            "55\n"
          ],
          "name": "stdout"
        }
      ]
    },
    {
      "cell_type": "markdown",
      "metadata": {
        "id": "kOrB14wvK-fS"
      },
      "source": [
        "## The time complexity of Fibonacci recursive algorithm\n",
        "\n",
        "The time complexity (running time in a RAM - number of elementary instructions) of the Fibonacci recursive algorithm \n",
        "\n",
        "```(phyton)\n",
        "def fibR(n):\n",
        "    if n==0 :\n",
        "        return 0\n",
        "    if n==1 :\n",
        "        return 1\n",
        "    return fibR(n-1)+fibR(n-2)\n",
        "```\n",
        "is\n",
        "$$\n",
        "T(n)=  T(n-1) + T(n-1)  + 3 \\ \\ \\ \\ \\ \\ \\ \\text{if}\\ \\ \\ \\ \\ \\ n> 1 \n",
        "$$\n",
        "\n",
        "Changing the notation $T(n) = t_n$ this is an inhomogenous linear difference equation or recurrence relation https://en.wikipedia.org/wiki/Linear_difference_equation\n",
        "$$\n",
        "t_n =  t_{n-1} + t_{n-2} + 3\\ \\ \\ \\ \\ \\ \\ \\text{if}\\ \\ \\ \\ \\ \\ n> 1 \n",
        "$$\n",
        "with intial conditions\n",
        "$$\n",
        "t_0 =1, t_1 = 2 \\text{ and } t_2 = 6   \\\n",
        "$$\n",
        "\n",
        "All inhomogenous linear difference equations  of the from \n",
        "$$\n",
        "a_n t_n + a_{n-1} t_{n-1} + a_{n-1} t_{n-2} + \\cdots + a_{n-k} t_{n-k} = b^n p(n)\n",
        "$$\n",
        "with $b$ constant, $p(n)$ polynomial of degree $d$ and $k$ initial condition have a the solution of the from\n",
        "$$\n",
        "(a_n t_n + a_{n-1} t_{n-1} + a_{n-1} t_{n-2} + \\cdots + a_{n-k} t_{n-k}) (t-b)^{d+1} = 0\n",
        "$$\n",
        "In our case\n",
        "$$\n",
        "t_n -  t_{n-1} - t_{n-2} = 3 = 1^n 3n^0\n",
        "$$\n",
        "so $ b=1$ and $d=0$, so we have $\\lambda =1$ with multiplicity $1$\n",
        "$$\n",
        "t_n =  A \\left( \\frac{1 + \\sqrt{5}}{2} \\right)^n  + B \\left(\\frac{1 - \\sqrt{5}}{2} \\right)^n + C 1^n\n",
        "$$\n",
        "we find $A$ $B$ and $C$ with initial conditions\n",
        "$$\n",
        "\\begin{array}{lll}\n",
        "A + B + C &=&  1\\\\\n",
        " A \\left( \\frac{1 + \\sqrt{5}}{2} \\right) + B\\left( \\frac{1 - \\sqrt{5}}{2} \\right) + C  &=&  2 \\\\\n",
        "A \\left( \\frac{1 + \\sqrt{5}}{2} \\right)^2 + B\\left( \\frac{1 - \\sqrt{5}}{2} \\right)^2 + C  &=& 6 \n",
        "\\end{array}\n",
        "$$\n",
        "so\n",
        "$$\n",
        "\\begin{array}{lll}\n",
        "A &=&  2 + \\frac{3}{\\sqrt(5)}\\\\\n",
        "B &=&  2 - \\frac{3}{\\sqrt(5)} \\\\\n",
        "C &=&  -3 \n",
        "\\end{array}\n",
        "$$\n",
        "then\n",
        "$$\n",
        "t_n = T(n)=   \\left(2 + \\frac{3}{\\sqrt(5)}\\right) \\left( \\frac{1 + \\sqrt{5}}{2} \\right)^n  + \\left(2 - \\frac{3}{\\sqrt(5)}\\right) \\left(\\frac{1 - \\sqrt{5}}{2} \\right)^n - 3 =  O\\left( \\left(\\frac{1 + \\sqrt{5}}{2} \\right)^n \\right) = O \\left(1.6180339887499^n \\right)\n",
        "$$\n",
        "That is aproximated with a very relaxed asymptotic bound by\n",
        "$$ t_n = T(n) =  O \\left( 2^n \\right)$$\n",
        "\n",
        "Having into account that  for large $n$´s  the addition is not a elementary instructions because the numbers are very large  and  will take $lg\\ n$ stetps, then running time is\n",
        "$$\n",
        "t_n = T(n)=  O \\left(\\left( \\frac{1 + \\sqrt{5}}{2} \\right)^n\\ lg\\ n  \\right) = O \\left( 1.6180339887499^n\\ lg\\ n \\right)\n",
        "$$\n",
        "aproximated with a very relaxed asymptotic bound by\n",
        "$$\n",
        "t_n = T(n)=  O \\left( 2^n\\ lg\\ n \\right)\n",
        "$$"
      ]
    },
    {
      "cell_type": "markdown",
      "metadata": {
        "id": "YubnxTUgjqey"
      },
      "source": [
        "# Fibonacci iterartive algoritm (forward) $O(n\\ lgn)$"
      ]
    },
    {
      "cell_type": "code",
      "metadata": {
        "id": "xvN0wMin9HOI"
      },
      "source": [
        "# fibI - Fibonacci Iterartive (forward) O(n lgn)\n",
        "def fibI(n):\n",
        "    if n==0 :\n",
        "        return 0\n",
        "    a, b = 0, 1\n",
        "    for i in range(1, n):\n",
        "        a, b = b, a+b\n",
        "    return b"
      ],
      "execution_count": null,
      "outputs": []
    },
    {
      "cell_type": "code",
      "metadata": {
        "colab": {
          "base_uri": "https://localhost:8080/"
        },
        "id": "B_CYmIdM9NiG",
        "outputId": "7b388980-cf94-4bc4-9af5-8edaaebcca37"
      },
      "source": [
        "from time import process_time\n",
        "n=10\n",
        "t0 = process_time()\n",
        "k = fibI(n)\n",
        "tf =process_time()\n",
        "print(\"n=\",n,\"fib(\",n,\")=\",k,\"time\",tf - t0, \"seconds process time\")"
      ],
      "execution_count": null,
      "outputs": [
        {
          "output_type": "stream",
          "text": [
            "n= 10 fib( 10 )= 55 time 3.5158999992290774e-05 seconds process time\n"
          ],
          "name": "stdout"
        }
      ]
    },
    {
      "cell_type": "code",
      "metadata": {
        "colab": {
          "base_uri": "https://localhost:8080/"
        },
        "id": "jZ-Nfx73_tGV",
        "outputId": "a819dfe4-d654-43da-d85f-9310ee89988e"
      },
      "source": [
        "from time import process_time\n",
        "n=100\n",
        "t0 = process_time()\n",
        "k = fibI(n)\n",
        "tf =process_time()\n",
        "print(\"n=\",n,\"fib(\",n,\")=\",k,\"time\",tf - t0, \"seconds process time\")"
      ],
      "execution_count": null,
      "outputs": [
        {
          "output_type": "stream",
          "text": [
            "n= 100 fib( 100 )= 354224848179261915075 time 4.3787999970845704e-05 seconds process time\n"
          ],
          "name": "stdout"
        }
      ]
    },
    {
      "cell_type": "code",
      "metadata": {
        "colab": {
          "base_uri": "https://localhost:8080/"
        },
        "id": "3jE6xoo2_wgF",
        "outputId": "2d0f0355-47ab-4803-a4df-8096bd7aae6c"
      },
      "source": [
        "from time import process_time\n",
        "n=1000\n",
        "t0 = process_time()\n",
        "k =fibI(n)\n",
        "tf =process_time()\n",
        "print(\"n=\",n,\"fib(\",n,\")=\",k,\"time\",tf - t0, \"seconds process time\")"
      ],
      "execution_count": null,
      "outputs": [
        {
          "output_type": "stream",
          "text": [
            "n= 1000 fib( 1000 )= 43466557686937456435688527675040625802564660517371780402481729089536555417949051890403879840079255169295922593080322634775209689623239873322471161642996440906533187938298969649928516003704476137795166849228875 time 0.00013438700000278914 seconds process time\n"
          ],
          "name": "stdout"
        }
      ]
    },
    {
      "cell_type": "code",
      "metadata": {
        "colab": {
          "base_uri": "https://localhost:8080/"
        },
        "id": "MC3OE5nGT1XP",
        "outputId": "5f7b6dea-5e8c-4698-84ba-b661aef46df8"
      },
      "source": [
        "from time import process_time\n",
        "n=1001\n",
        "t0 = process_time()\n",
        "k =fibI(n)\n",
        "tf =process_time()\n",
        "print(\"n=\",n,\"fib(\",n,\")=\",k,\"time\",tf - t0, \"seconds process time\")"
      ],
      "execution_count": null,
      "outputs": [
        {
          "output_type": "stream",
          "text": [
            "n= 1001 fib( 1001 )= 70330367711422815821835254877183549770181269836358732742604905087154537118196933579742249494562611733487750449241765991088186363265450223647106012053374121273867339111198139373125598767690091902245245323403501 time 0.00012054299999997298 seconds process time\n"
          ],
          "name": "stdout"
        }
      ]
    },
    {
      "cell_type": "code",
      "metadata": {
        "colab": {
          "base_uri": "https://localhost:8080/"
        },
        "id": "0bkmZtweT6M3",
        "outputId": "b03eebed-9f3d-49bf-b68a-cc8516edaa53"
      },
      "source": [
        "from time import process_time\n",
        "n=1002\n",
        "t0 = process_time()\n",
        "k =fibI(n)\n",
        "tf =process_time()\n",
        "print(\"n=\",n,\"fib(\",n,\")=\",k,\"time\",tf - t0, \"seconds process time\")"
      ],
      "execution_count": null,
      "outputs": [
        {
          "output_type": "stream",
          "text": [
            "n= 1002 fib( 1002 )= 113796925398360272257523782552224175572745930353730513145086634176691092536145985470146129334641866902783673042322088625863396052888690096969577173696370562180400527049497109023054114771394568040040412172632376 time 0.00022098400000003515 seconds process time\n"
          ],
          "name": "stdout"
        }
      ]
    },
    {
      "cell_type": "code",
      "metadata": {
        "id": "I9rknG9hYaJT",
        "colab": {
          "base_uri": "https://localhost:8080/",
          "height": 333
        },
        "outputId": "7178d6dd-ac2a-4b1e-d953-efed988eaf0e"
      },
      "source": [
        "import timeit\n",
        "import numpy as np\n",
        "import matplotlib.pyplot as plt\n",
        "\n",
        "time = []\n",
        "x = np.array(range(1002))\n",
        "for i in x:\n",
        "    #initial time \n",
        "    start = timeit.timeit()\n",
        "    # execution of fibonacci\n",
        "    k = fibI(i)\n",
        "    # final time \n",
        "    end = timeit.timeit()\n",
        "    #measure\n",
        "    timeAdd = end - start\n",
        "\n",
        "    time.append(timeAdd)\n",
        "\n",
        "print(time)\n",
        "# data of time \n",
        "plt.plot(time)\n",
        "\n",
        "# array of iterations\n",
        "plt.plot(x)\n",
        "\n",
        "plt.title(\"Fibonacci Iterative Algorithm (Forward)\")\n",
        "plt.xlabel(\"n\")\n",
        "plt.ylabel(\"Execution Time\")\n",
        "plt.show()"
      ],
      "execution_count": null,
      "outputs": [
        {
          "output_type": "stream",
          "text": [
            "[-2.0035999796164106e-05, 0.0014283209998211532, 6.215400003384275e-05, -2.34550000186573e-05, 7.047199983389874e-05, 0.004460150999875623, -0.0005162010002095485, 0.0004165060001923848, 0.00016507899977113993, -0.0002497819998552586, -4.910600000584964e-05, 0.00011198000015610887, 0.00261197600025298, -0.00022119899995232117, -0.00023840199992264388, -0.002001313999926424, 0.00011164900001858769, 0.000564875000009124, 0.005267867000156912, -0.00013816000023325614, 0.0002528760001041519, 0.0007999350000318373, 0.0025762459999896237, -0.0016554379999433877, 0.0008170439998593793, 6.919099996594014e-05, 4.6232000158852316e-05, -7.244599964906229e-05, -0.0007581280001431878, -0.00020293600005061307, -0.0001999959999920975, -2.4640000901854364e-06, 0.00039543699995192583, 5.498299992723332e-05, -0.002740642999924603, 9.709399978419242e-05, 0.0008277180002096429, 0.00012192600001981191, 4.7921000032147276e-05, 0.0009085029998914251, -0.003259781999986444, -2.241700008198677e-05, -0.0004520370002865093, -7.399600008284324e-05, -0.00028630400015572377, -0.00011680200009323016, 4.701400007434131e-05, 0.0029121029999714665, 2.5540000251567108e-05, -6.020699993314338e-05, -0.005797295999855123, 3.413800004636869e-05, 0.0010620499997457955, -0.002193689000023369, -0.0009679150000465597, -0.00020211300011396816, 0.011079329000040161, -0.0035844419999193633, 5.685099995389464e-05, 0.00018346699994253868, -0.0008814339998934884, -0.00015777599992361502, 8.35949999782315e-05, 7.070100014061609e-05, 0.00027006699997400574, 4.430100011632021e-05, -0.0002915840002515324, -0.00023473999976886262, -7.483300009880622e-05, -6.366499997056962e-05, -9.425000143892248e-06, -3.05880000723846e-05, 0.004421089000288703, -3.130001005047234e-07, -0.0011138120000850904, 7.608800001435156e-05, -0.0002292050000960444, -2.4322999934156542e-05, 0.0004706190002252697, -2.9588000188596197e-05, 3.8612000025750604e-05, -1.4429000202653697e-05, 0.00024030500003391353, -0.005560787999911554, -3.22559999403893e-05, 0.0007676249999803986, 0.0007981169999311533, -0.00020711099978143466, -0.0005424099999800092, -9.062499998435669e-05, -4.0616999967824086e-05, -9.06399986888573e-06, 0.00040747499997451087, -0.00021386499997788633, 0.00010327700010748231, -0.0030835289999231463, 0.00031371399995805405, -0.0016445329999896785, -8.945299987317412e-05, 0.0005539220001082867, -0.003063743999973667, -3.3700007406878285e-07, -3.781500004151894e-05, -4.630500006896909e-05, 0.00031005900018499233, -6.320001375570428e-07, 0.00016435899988209712, -3.3368999993399484e-05, -0.00013495199982571648, 7.042200013529509e-05, -0.0002154300000256626, 1.32610002765432e-05, 1.4441999837799813e-05, 2.676300005077792e-05, -4.1712999973242404e-05, -0.00019581300011850544, 0.004430793999972593, -9.346699994239316e-05, 0.00023400300005960162, 0.0007038480000574054, 5.166999699213193e-06, 2.487399979145266e-05, 0.0001162389999080915, 0.00011583400009840261, -0.00018912299992734916, 0.0026572939998459333, 0.00016636400005154428, 0.0007411029998820595, 9.042400006364915e-05, -4.042800014758541e-05, 4.991000196241657e-06, -0.0003978740001002734, -0.0015852300000460673, 4.0162999994208803e-05, -0.00014071799978410127, -0.00010963099998662074, 0.00021168299986129568, -1.0099984137923457e-07, 0.00019802199994956027, -0.00016686699996171228, -5.959500026619935e-05, 0.00023777800015523098, 3.884100010509428e-05, 6.579999990208307e-05, -7.228399999803514e-05, 0.00012472300022636773, 9.262200001103338e-05, -0.00018387699969935056, -3.1976999935068307e-05, 0.0017367670000112412, -0.004136781999932282, -9.516600016468146e-05, -3.383600005690823e-05, -0.00471244399977877, 0.00019132500005980546, -3.0379000008906587e-05, 0.00011388999996597704, -0.0016416680000475026, 0.0018259529997521895, 2.432499991300574e-05, -0.0001802940000743547, -0.0001552399999127374, -0.00018808200002240483, -2.7154000008522416e-05, -0.000780782999981966, -0.0005895440001495444, -0.0001932340001076227, -0.00044593299980988377, 0.00029069099991829717, -0.00020632000018849794, -1.3456999795380398e-05, -6.807300019318063e-05, 0.00023654499977965315, -7.140000002436864e-05, -9.645699992688606e-05, 0.00033627000016167585, -4.205399977763591e-05, 0.0001226560000304744, -0.00010955900006592856, -4.535000016403501e-06, 9.561599995322467e-05, 5.394399977376452e-05, -7.581400018352724e-05, 0.00191108100011661, 3.9692999962426256e-05, -3.550299993548833e-05, -0.0007848489999560115, 0.0006115950002367754, -0.00014660899978480302, -0.002406224000196744, -0.00018517800003792217, -0.0002606660000310512, -0.00010678800003915967, -0.00015748400005577423, -2.8845999850091175e-05, -0.0007383899999240384, 0.00023277400009646954, 0.0001025550002395903, 0.0003479100000731705, -0.0005174280001938314, -1.2244000117789255e-05, -4.294000063964631e-06, -2.8710999913528212e-05, 2.9066999786664383e-05, 3.7003999977969215e-05, 0.00010408200000711076, -8.998800012705033e-05, -0.00011114900007669348, -4.580199993142742e-05, -5.1329000143596204e-05, 0.00014642399992226274, 1.742700010254339e-05, -4.827299994758505e-05, -0.0001781900000423775, 1.315100007559522e-05, -8.723099995222583e-05, 4.488300010052626e-05, -0.005313399999977264, -2.9260999781399732e-05, -0.0013730949999626318, -3.0106999929557787e-05, -0.00015324800028793106, -1.3672000022779685e-05, -0.00016656000002512883, -3.0071000082898536e-05, -0.002154144000087399, 6.188199995449395e-05, -0.00013226100008978392, -1.147600005424465e-05, 0.0003034440001101757, -0.00026729000023806293, 0.0011084990001108963, -0.0010569480000413023, 6.139899983281794e-05, 0.0001859880001120473, -7.493099997191166e-05, 5.7861999948727316e-05, -3.777500000978762e-05, 4.4904999867867446e-05, 0.00011942600008296722, 6.150200010779372e-05, 8.334399990417296e-05, 0.00010996100013471732, -3.619399990384409e-05, -0.00019504400006553624, 2.346700011912617e-05, -0.00019808000001830806, 0.0001473730001180229, 7.108199997674092e-05, -2.5400999902558397e-05, 0.0070017050002206815, -5.3381000043373206e-05, -0.002308964000121705, 0.00023345199997493182, 0.00012075899985575234, -0.0002117700000781042, 9.830099997998332e-05, 0.0043497120000211, -0.00016803800008347025, -4.543799991552078e-05, 6.091800014473847e-05, 0.0001635359999454522, 1.703099997030222e-05, -0.0002024860000346962, 0.0020722490000935068, -0.0003325099999074155, -7.358600009865768e-05, -7.251300007737882e-05, 0.00021937700012131245, 4.6224000016081845e-05, 0.0002266460001010273, -0.00020467399986046075, -0.00016290700000354263, -0.0001990529999602586, 1.4000999954077997e-05, -0.00019672399980663613, 0.00027873300018654845, -0.0002129429999513377, -0.0002236660000107804, -0.00019403900000725116, -4.3593999862423516e-05, -0.0002733920000537182, 0.00012211500006742426, 0.0011113230000319163, -0.004181799999969371, 0.0007865950001360034, -5.5170999985421076e-05, 0.00014116500005911803, -0.00030925400028536387, 3.918800007340906e-05, -2.769099978650047e-05, -0.00013311600014276337, -0.002161459000035393, -0.005631691000189676, 0.0003076119999150251, 0.00017236500002582034, -0.00018901700013884692, 0.0016979410002022632, -4.251499990459706e-05, -0.00018602699992698035, 4.3272000084471074e-05, 0.00026722999996309227, -5.216999988988391e-05, -5.685499991159304e-05, 0.0001729909999994561, -0.00018792199989547953, 0.00031111099997360725, -2.858400011973572e-05, -0.00018497999985811475, -0.0002755649998107401, 0.00033096200013460475, 0.00028252599986444693, -0.00026490400000511727, 2.860600011445058e-05, 8.22070001049724e-05, -0.00013364500000534463, -0.00011428000016167061, -0.005199783999842111, 0.0007786720000240166, 7.759200002510624e-05, -2.6758000103654922e-05, 7.768900013616076e-05, 0.001727671000026021, -1.275599993277865e-05, -0.00016661400013617822, 5.923999879087205e-06, -0.00018770299993775552, -4.733000196210924e-06, -4.852000074606622e-06, 0.0025398690002020885, 0.0017426599999907921, -4.922800007989281e-05, 0.0003682940000544477, 0.00014224899996406748, -0.00026902799982053693, -5.3627999704985996e-05, 0.00012369000000944652, 1.9079999901805422e-05, 1.0079000048790476e-05, 5.470000132845598e-06, 0.00022077499966144387, -4.303199989408313e-05, 7.823800001460768e-05, -0.0002673720002803748, 2.0589000087056775e-05, -0.00010829200027728803, -3.2499000099051045e-05, 1.0942999779217644e-05, -8.17299996924703e-06, -1.4090001059230417e-06, 0.005719986999793036, 0.0010239910000109376, 6.501999996544328e-05, -0.0013387739998051984, 0.0009474920002503495, -4.624800021701958e-05, -6.420400018214423e-05, -0.00024489099996571895, 5.768699998043303e-05, 8.216000196625828e-06, 0.00022565099993698823, 0.00019486499991216988, -5.548599983740132e-05, 0.0010766150001018104, -0.0015012549999937619, 0.0004818739998881938, 4.1906999967977754e-05, 0.00016141800006153062, -3.84980000944779e-05, 7.45899978937814e-06, 0.00020755399987137935, -0.00021479699989868095, -6.938499996067549e-05, 0.00013013300031161634, 0.00015312300001824042, 6.980400007705612e-05, -2.45430003360525e-05, -0.001275677999956315, -4.916699981549755e-05, -8.508699988851731e-05, 0.00018323300014344568, 2.0599999970727367e-05, -4.7683000047982205e-05, 0.00017195400005221018, -0.00753837300021587, -2.1115999970788835e-05, -2.1307999986674986e-05, -9.470700001656951e-05, 7.397800004582678e-05, -0.00020549400005620555, 0.00020294099999773607, -8.939000281316112e-06, 0.00503647200002888, -0.00707062199990105, 0.0003010600000834529, 0.0001564079998388479, 0.0006353819999276311, -9.39810001909791e-05, -0.000176478999946994, -0.0001297290000366047, -3.5166000088793226e-05, 2.8922000183229102e-05, -3.881399993588275e-05, 0.0004076630000326986, -8.427200009464286e-05, 0.0002280420001170569, -0.00017866100006358465, 0.0002106580002418923, -0.00038303399992400955, 0.00012467500005186594, 0.00024920600003497384, 9.617099976821919e-05, 6.663999783995678e-06, 0.0007404539999242843, -0.00030136899999888556, -2.775300004032033e-05, 0.001442583999960334, -0.003217772000198238, -0.00039807899997867935, 3.137799990327039e-05, -3.9680000099906465e-05, 1.9200024325982668e-07, -0.0013947080001344148, -1.7093999986173003e-05, -4.146200012655754e-05, 0.0001314440000896866, -0.00021500699995158357, -6.993200008764688e-05, -9.46490001751954e-05, 0.0014453460000822815, -0.000453092000043398, -6.379700039360614e-05, 0.00011991700012004003, 0.00010531599991736584, -0.00015342000006057788, 9.763599973666715e-05, 0.0003992110000581306, -0.0002460890000293148, -5.954699986432388e-05, 0.0002389860001130728, 4.4441000227379845e-05, 0.00015466999980162655, -8.66989998939971e-05, -8.64159999309777e-05, -0.00010025899996435328, -4.874899991591519e-05, 0.00019934900001317146, 7.958000196595094e-06, -9.620000582799548e-07, 8.548000096197939e-06, 0.00015355300001829164, -0.006562543999734771, -0.00016708099974493962, -8.166899988282239e-05, 0.00018730500005403883, -0.00014518700004373386, 0.0014247909998630348, -8.133300002555188e-05, -0.002029483999876902, 0.00022835900017526, -0.00010437699984322535, 7.215000005089678e-05, 0.0005666110000674962, -0.0034389089998967393, -7.233599990286166e-05, -5.549998149945168e-07, -8.677499999976135e-05, -1.3839999155607074e-06, -0.0002082409998820367, 5.697799997506081e-05, -0.00010735699993347225, 0.000246863000029407, -7.963299981383898e-05, -0.00029529399989769445, -0.0002715259997785324, 9.64220000696514e-05, 0.00035084699993603863, -0.0001141909999660129, -7.758399988233577e-05, 3.4904000131064095e-05, -5.286200007503794e-05, -1.689200007604086e-05, -4.933499985781964e-05, 6.083900007070042e-05, 0.004620235000174944, -6.23079997694731e-05, 6.0137999980725e-05, -0.0004994710000119085, 0.0012417020000157208, 0.0001374220000798232, -0.0002765709998584498, 6.172400003379153e-05, -0.00015673500024604436, -7.729699996161798e-05, -0.0064666289999877336, 0.0017926900000020396, -0.0002501339997706964, -0.00027919099989048846, 1.6060000689321896e-06, -0.0004316509998716356, 0.00015503100007663306, 0.0004059069999584608, 0.00020727600008285663, -6.603299993912515e-05, -0.00013797600013276679, -0.00014220799994291156, 1.2778000154867186e-05, -2.421700014565431e-05, -0.00024367899982280505, 8.814000011625467e-05, 2.9123000103936647e-05, 8.194199995159579e-05, -1.1781999774029828e-05, 0.0001642460001676227, 3.320399991935119e-05, 6.84320000345906e-05, 1.538500009701238e-05, 0.0038747219998640503, -0.000734636000061073, -9.790899980544054e-05, 0.00019067899984293035, -0.0008620819996849605, 7.755999831715599e-06, -3.263900021011068e-05, -0.00016007699991860136, 5.392399998527253e-05, -3.072000004067377e-05, -7.271099980243889e-05, 0.0016941709998263832, -0.0003227719998903922, 3.6844000078417594e-05, -3.5244000173406675e-05, -7.370000048467773e-06, 4.513600038080767e-05, 0.00015908900013528182, 0.0002446960002089327, -6.757400001333735e-05, -0.00014812499989602657, -1.5873999927862315e-05, -0.00045881300002292846, -0.00010880900003940042, -0.0002666539999154338, 6.725599996570963e-05, 1.7762999959813897e-05, 0.00021358100002544234, 3.412299997762602e-05, 9.253900020667061e-05, 4.567599989968585e-05, -1.5849999954298255e-05, 6.130999986453389e-05, -0.0012322549998771137, -0.0015966959997513186, 0.0008166510001501592, 4.727700002149504e-05, -0.00013710700000046927, -0.0001342159998785064, -0.00021785400031149038, 7.71700001678255e-06, 0.00011943900017286069, 0.00017411499993613688, -0.00012481199973990442, 0.002404665000085515, -0.0008845810000366328, 5.039900020165078e-05, -3.5423999861450284e-05, -3.5344999787412235e-05, -0.0001677909999671101, -6.010000106471125e-07, -6.319499993878708e-05, -7.288399979188398e-05, -1.514000132374349e-06, 5.520199988495733e-05, -0.00015209000002869288, -0.0001354180001271743, 6.212799985405582e-05, -0.00021081299996694725, 9.117900003730028e-05, 3.075299991905922e-05, -3.0021999918972142e-05, 8.362399989891856e-05, -0.00024052999992818513, 0.0003834039998764638, -0.00019030799990105152, -0.0008631979999336181, 0.0027060180000262335, -0.0007794849998390418, 4.2649000306482776e-05, -0.0001322969997090695, 0.000159877999976743, 0.00040017100013756135, -0.0015584790000957582, -8.222800011026266e-05, 3.091999997195671e-05, 7.049600003483647e-05, 0.0004941129998314864, -0.0014442080002936564, -0.00010293599984834145, 0.00013711999986298906, 7.423700003528211e-05, 0.0003162829998473171, -0.00023888199984867242, 2.7684999849952874e-05, 0.006631699999843477, 0.0002382050001870084, -2.200800008722581e-05, -0.00018215299996882095, -0.0003914159999567346, -5.502900012288592e-05, -0.00011232199994992698, -1.2393000133670284e-05, 0.00011460600012469513, -0.00011237300009270257, -9.46540001223184e-05, 0.0008473579996461922, 0.0004493919998367346, -0.0019487459999254497, -0.00024859900008777913, -2.9269999686221126e-06, -0.005343929999980901, 0.00024615300003461016, 0.0008149579998644185, 0.000491703000079724, -0.0001186859997233114, -0.00015039799995975045, 0.0002617850002479827, -0.00012132900019423687, -0.00019068100004915323, 0.001466520999883869, -0.00022781600023336068, 2.596699982859718e-05, 0.0002527670001200022, -0.00014852699996481533, -1.968699984900013e-05, 4.2967999888787745e-05, 0.00027242100009061687, -0.00019073699991167814, 1.0944999985440518e-05, -4.293300003155309e-05, -1.98099999124679e-05, 7.909400005701173e-05, 0.000225759000159087, 0.00013875600006940658, -0.00010171200005970604, 1.022100013869931e-05, -8.158300011018582e-05, -0.0009840860002441332, 1.550199999655888e-05, -0.0005426439997791022, 0.0018118000000413303, -0.0007075569999415166, 0.00032785500025056535, 0.004857686999912403, 1.2930000139022013e-05, 0.00016636000009384588, -0.0019326579999869864, 0.00014539200014951348, 7.065899990266189e-05, -0.00029226099991319643, 1.4461999853665475e-05, 6.900000016685226e-06, 0.0012658109999392764, -0.0005188730001464137, -4.0162999994208803e-05, 0.00010548600016591081, -6.238400010261103e-05, 1.0789999805638217e-05, 2.3999973564059474e-08, -0.000222904999873208, -0.00017517900005259435, -0.00014243199984775856, -6.394499973794154e-05, 8.152400005201343e-05, 8.872199987308704e-05, 4.9955999884332414e-05, -0.0002998270001626224, -0.00016083100013020157, -0.0004159919999437989, -0.0001977829999759706, 0.00016728100013096991, 7.290600001397252e-05, 6.834400005573116e-05, -0.00014813099983257416, 0.0006787769998481963, 0.00011157299991282343, -5.888399982723058e-05, -0.005162481000070329, -0.00019000700012838934, 1.3801000022795051e-05, 0.0012520360000962683, -9.965200001715857e-05, 1.3777000049230992e-05, 8.762299967202125e-05, -0.00021216399977674882, 0.0003890440000304807, -0.0008669360001931636, 2.6469999738765182e-05, -8.909800021683623e-05, 3.8789000200267765e-05, 0.000224234999905093, 0.00012583099987750757, -4.868499991061981e-05, -0.00014404299986381375, -3.547200003595208e-05, 0.00020746800009874278, -0.0001778050000211806, -0.0002807129999382596, -9.981099969991192e-05, -1.315300005444442e-05, 0.0004101140000329906, -0.000232797000080609, 5.384599990065908e-05, 3.1784999919182155e-05, -8.523199971932627e-05, 0.00014978599983805907, -4.1409000232306425e-05, 0.0007779980001032527, -4.5733999968433636e-05, -1.0074999863718404e-05, 0.00559610199979943, 0.0010750399999324145, 1.5064999843161786e-05, 8.047499977692496e-05, 8.12640000731335e-05, -0.00020112200013500114, -0.00011337499995534017, 7.381899990832608e-05, 4.9497999953018734e-05, -0.0012656600001719198, 4.017400033262675e-05, 0.0058651750000535685, 0.00010447700014992733, -0.00033761300005608064, 9.401800002706295e-05, -0.00013158500019017083, -0.0002452379999340337, 0.000296963999971922, 0.00028389699991748785, -2.406800012977328e-05, -5.2778000053876895e-05, 0.0003486850000626873, -0.00017906400012179802, 0.00037478199988072447, 3.039900002477225e-05, 0.000229384999784088, 0.00019336200011821347, 7.330300013563829e-05, -9.700400005385745e-05, 0.00017136899987235665, -0.0006977689999985159, 0.0011332469998706074, -0.0006872499998280546, 0.008450196000012511, -0.0015138070000375592, -0.001238452000052348, 0.0002001069999550964, -0.0004133929999170505, -3.0487999993056292e-05, -0.0007243330003348092, 8.767499980422144e-05, 0.0010227609998310072, -4.9535000243849936e-05, 0.00024555200002396305, 0.00022790399975747277, -0.00010027999996964354, 5.0885000064226915e-05, -8.285600006274763e-05, 0.00047591099996679986, 4.768399981003313e-05, 0.00021262700010993285, 0.00021742700005233928, -0.00016416399989793717, -6.934099997124576e-05, 0.00011487400001897186, -2.344200015613751e-05, -0.00010347800002818985, 8.394200017391995e-05, 0.00016568899968660844, 7.10989997969591e-05, 5.523100003301806e-05, 6.7394999859971e-05, -0.0007250989997373836, -0.0007910100000572129, 0.0014433370001825097, 3.316199990877067e-05, 0.00447203199996693, -0.0005772439999418566, -0.00034004199983428407, 0.0023234209998008737, -0.002898293999805901, 3.8301000131468754e-05, 9.123000154431793e-06, -7.656100024178158e-05, -0.00038380799992410175, 3.969700014749833e-05, 7.233299993458786e-05, -6.189600003381202e-05, -0.0001075519999176322, -0.00018793299977915012, -4.784099996868463e-05, 0.0001667890001044725, 0.0002134359999672597, 7.460500000888715e-05, -0.00022573100000045088, -0.00012018699999316595, 0.00027293000016470614, -0.000430644000061875, 7.726500007265713e-05, -6.939699983377068e-05, -0.0001020090001020435, -0.0001494379998803197, -0.00020911599995088181, 1.726699997561809e-05, 0.0004487120002067968, -6.488000008175732e-05, -0.0032378890000472893, 5.3002000186097575e-05, -9.06399986888573e-06, -9.600299995327077e-05, -0.005391385999928389, -0.0007023339999250311, 7.668100010960188e-05, -8.301599996229925e-05, -6.835999784016167e-06, 0.00014794399999118468, -3.618999994614569e-05, -0.0013370770000165066, -4.258699982528924e-05, -0.00012937799988321785, 0.0001983469996957865, 7.991999973455677e-05, -1.6088999927887926e-05, -0.0001141770001140685, 8.905000004233443e-05, -0.00033723499996085593, 4.305800007387006e-05, 0.00012450400004127005, -2.6260999902660842e-05, 2.9657000141014578e-05, 2.432699989185494e-05, -3.1380000109493267e-06, 0.0001245399998879293, 2.5866999976642546e-05, 1.3038999895798042e-05, -5.4578000117544434e-05, 0.000877918000014688, -0.00020482600029936293, -0.000565767999887612, -0.0010110820001045795, -0.0020664279998072743, 0.00018100399984177784, -0.000373544000012771, 0.005375222000111535, -0.00011223299998164293, 0.002178764000063893, 3.246000005674432e-06, 7.984499984559079e-05, 4.480400002648821e-05, -7.23099999504484e-05, 0.0004680980000557611, -5.417999977908039e-05, 0.0001356569998733903, -3.7029999475635123e-06, -0.00017852099995252502, 0.00013170099987291906, -2.934899998763285e-05, 0.0003316639999866311, 9.388000012222619e-05, 7.65030001730338e-05, -0.00010813600010806113, -1.9367000049896888e-05, 0.0004728830001567985, -6.062000011297641e-06, -0.0001695279997875332, -5.419200010692293e-05, -2.4469999971188372e-05, -0.00016854600016813492, 0.0010540160001255572, 0.004321976000028371, -7.87929998296022e-05, -2.1456000013131415e-05, -0.0005116590000397991, -1.8506999822420767e-05, 8.03999978415959e-06, -0.0029696439999042923, 0.0010840449999705015, -0.004210905000036291, -1.62070000442327e-05, 0.00012089300003026437, -5.371000042941887e-06, -8.237300016844529e-05, -7.747500012555975e-05, -0.0006230059998415527, 3.232099970773561e-05, 0.0003056500002003304, 3.926899989892263e-05, 0.00010834199997589167, 0.00023370600001726416, -0.0003030749999197724, 9.649999992689118e-05, -8.229099989875976e-05, 5.18810002176906e-05, 0.00017606099982003798, -0.0002780000002076122, -1.6385999970225384e-05, -3.893899997819972e-05, 2.563799989729887e-05, 8.917199966163025e-05, -0.00033344999997098057, 0.00013455700013764726, -8.984099986264482e-05, -0.00012212799992994405, -7.97999996393628e-06, 0.000334040999860008, 0.000983156000074814, 5.32750000274973e-05, 0.00010697799984882295, -7.375299969680782e-05, -0.00035447499999463616, 0.006172606999825803, 0.00014176600006976514, -0.0023006819999409345, -4.0346999867324485e-05, -0.00039957699982551276, 4.060699984620442e-05, 0.0008669840001402918, -0.00011401100005059561, 1.6899000002013054e-05, 3.3264999956372776e-05, -0.00019321499985380797, 0.0005907779998324258, -0.00010560500004430651, 0.0002704660000745207, -5.535900004360883e-05, 8.641900012662518e-05, 0.0003115570002591994, -0.00021103299968672218, 0.00011923700003535487, 0.00015222000001813285, 0.00019068500000685162, 0.00033527000027788745, -0.00011826600007225352, -0.00015085699988048873, -0.00022454899999502231, 0.0001228219998665736, -4.9525999656907516e-05, 0.00015832399981263734, 0.0008795349999672908, 9.717899979477806e-05, 2.2583999907510588e-05, 5.472000111694797e-06, -0.0007538550000845134, 0.002142125000091255, -0.0037287610002749716, -0.0016650510001454677, 0.00025385799995092384, 0.00014833599993835378, -5.130699992150767e-05, 0.00045865199990657857, 0.002119192000009207, 5.515799989552761e-05, -6.286400002863957e-05, -0.000348296000083792, -0.0005694200001471472, 4.194200027995976e-05, 0.00014049300011720334, 0.00021670000023732428, 2.3553000119136414e-05, 0.0001499339998645155, -0.00011797000001934066, 5.5295000038313447e-05, 1.899099993352138e-05, 0.00025014499988174066, -6.845400002930546e-05, -2.8181999823573278e-05, 0.00028720199998133467, -0.0002265420000640006, -0.00010376199998063385, -0.00014526399991154904, 8.202699996218143e-05, 0.000794899000084115, 7.400699996651383e-05, 0.0004206349997275538, 0.0002614739998989535, 2.3198000235424843e-05, -6.880599994474323e-05, 0.0014305129998319899, -0.00011550599992915522, 2.5950999997803592e-05, -6.519199973809009e-05, -0.0002898509999340604, 0.0015296960000341642, -0.00018863800005419762, -0.00038402399991355196, 5.9135000128662796e-05, -0.00010361200020270189, -1.910600030896603e-05, -9.007999778987141e-06, 0.00021753900000476278, -0.0001528609998331376, -6.948599980205472e-05, -6.126299990683037e-05, 4.984399993190891e-05]\n"
          ],
          "name": "stdout"
        },
        {
          "output_type": "display_data",
          "data": {
            "image/png": "[encoded data removed]",
            "text/plain": [
              "<Figure size 432x288 with 1 Axes>"
            ]
          },
          "metadata": {
            "tags": [],
            "needs_background": "light"
          }
        }
      ]
    },
    {
      "cell_type": "markdown",
      "metadata": {
        "id": "1zWAZdcikD1V"
      },
      "source": [
        "# Fibonacci memoization (dynamic programming)  algoritm  (backward) $O(n\\ lgn)$"
      ]
    },
    {
      "cell_type": "code",
      "metadata": {
        "id": "XDct88yn74Lu"
      },
      "source": [
        "# fibI - Fibonacci Memoization (dynamic programming) (backward) O(n lg n)\n",
        "\n",
        "def fibM(n):\n",
        "    memo = {}\n",
        "    def fib(n):\n",
        "        if n==0 :\n",
        "            return 0\n",
        "        if n==1 :\n",
        "            return 1\n",
        "        if (n-2) not in memo:\n",
        "            memo[n-2] = fib(n-2)\n",
        "        if (n-1) not in memo:\n",
        "            memo[n-1] = fib(n-1)\n",
        "        return memo[n-1] + memo[n-2]\n",
        "    return fib(n)"
      ],
      "execution_count": null,
      "outputs": []
    },
    {
      "cell_type": "code",
      "metadata": {
        "colab": {
          "base_uri": "https://localhost:8080/"
        },
        "id": "IPG-IF2-79_s",
        "outputId": "0d9eae2e-775c-4de5-acd5-73b3a0dd0ab9"
      },
      "source": [
        "from time import process_time\n",
        "n=10\n",
        "t0 = process_time()\n",
        "k = fibM(n)\n",
        "tf =process_time()\n",
        "print(\"n=\",n,\"fib(\",n,\")=\",k,\"time\",tf - t0, \"seconds process time\")"
      ],
      "execution_count": null,
      "outputs": [
        {
          "output_type": "stream",
          "text": [
            "n= 10 fib( 10 )= 55 time 4.459899997755201e-05 seconds process time\n"
          ],
          "name": "stdout"
        }
      ]
    },
    {
      "cell_type": "code",
      "metadata": {
        "colab": {
          "base_uri": "https://localhost:8080/"
        },
        "id": "NDZ1mxQPAjiY",
        "outputId": "6d5af9ec-e9f1-44e9-8d21-ed3aed8492d2"
      },
      "source": [
        "from time import process_time\n",
        "n=100\n",
        "t0 = process_time()\n",
        "k = fibM(n)\n",
        "tf =process_time()\n",
        "print(\"n=\",n,\"fib(\",n,\")=\",k,\"time\",tf - t0, \"seconds process time\")"
      ],
      "execution_count": null,
      "outputs": [
        {
          "output_type": "stream",
          "text": [
            "n= 100 fib( 100 )= 354224848179261915075 time 0.00019928299997218346 seconds process time\n"
          ],
          "name": "stdout"
        }
      ]
    },
    {
      "cell_type": "code",
      "metadata": {
        "colab": {
          "base_uri": "https://localhost:8080/"
        },
        "id": "xC6tLnv1AlQD",
        "outputId": "e7cfd74b-e6ab-457e-ecc7-224feb8c3086"
      },
      "source": [
        "from time import process_time\n",
        "n=1000\n",
        "t0 = process_time()\n",
        "k = fibM(n)\n",
        "tf =process_time()\n",
        "print(\"n=\",n,\"fib(\",n,\")=\",k,\"time\",tf - t0, \"seconds process time\")"
      ],
      "execution_count": null,
      "outputs": [
        {
          "output_type": "stream",
          "text": [
            "n= 1000 fib( 1000 )= 43466557686937456435688527675040625802564660517371780402481729089536555417949051890403879840079255169295922593080322634775209689623239873322471161642996440906533187938298969649928516003704476137795166849228875 time 0.0012733259999890834 seconds process time\n"
          ],
          "name": "stdout"
        }
      ]
    },
    {
      "cell_type": "code",
      "metadata": {
        "id": "UgCSkL3-0u2Y",
        "colab": {
          "base_uri": "https://localhost:8080/"
        },
        "outputId": "5acbd3e7-f52a-429f-8141-da3a2cdeb48b"
      },
      "source": [
        "from time import process_time\n",
        "n=10\n",
        "t0 = process_time()\n",
        "k = fibA(n)\n",
        "tf =process_time()\n",
        "print(\"n=\",n,\"fib(\",n,\")=\",k,\"time\",tf - t0, \"seconds process time\")"
      ],
      "execution_count": null,
      "outputs": [
        {
          "output_type": "stream",
          "text": [
            "n= 10 fib( 10 )= 55.00000000000002 time 7.380100004183987e-05 seconds process time\n"
          ],
          "name": "stdout"
        }
      ]
    },
    {
      "cell_type": "code",
      "metadata": {
        "colab": {
          "base_uri": "https://localhost:8080/"
        },
        "id": "bNJhztlfIcNT",
        "outputId": "4c656739-9a6b-4cae-8eab-0a0c060f7b8f"
      },
      "source": [
        "from time import process_time\n",
        "n=100\n",
        "t0 = process_time()\n",
        "k = fibA(n)\n",
        "tf =process_time()\n",
        "print(\"n=\",n,\"fib(\",n,\")=\",k,\"time\",tf - t0, \"seconds process time\")"
      ],
      "execution_count": null,
      "outputs": [
        {
          "output_type": "stream",
          "text": [
            "n= 100 fib( 100 )= 3.542248481792631e+20 time 4.480699999476201e-05 seconds process time\n"
          ],
          "name": "stdout"
        }
      ]
    },
    {
      "cell_type": "code",
      "metadata": {
        "colab": {
          "base_uri": "https://localhost:8080/"
        },
        "id": "DWNNTiw4HceL",
        "outputId": "02ee34b5-fb39-4d17-cdf6-d4cfd9ff8aa6"
      },
      "source": [
        "from time import process_time\n",
        "n=1000\n",
        "t0 = process_time()\n",
        "k = fibA(n)\n",
        "tf =process_time()\n",
        "print(\"n=\",n,\"fib(\",n,\")=\",k,\"time\",tf - t0, \"seconds process time\")"
      ],
      "execution_count": null,
      "outputs": [
        {
          "output_type": "stream",
          "text": [
            "n= 1000 fib( 1000 )= 4.3466557686938915e+208 time 5.118799998626855e-05 seconds process time\n"
          ],
          "name": "stdout"
        }
      ]
    },
    {
      "cell_type": "code",
      "metadata": {
        "id": "exfx2zclXK59",
        "colab": {
          "base_uri": "https://localhost:8080/",
          "height": 333
        },
        "outputId": "1c65d95a-4284-4c96-e6e4-edfad7317e36"
      },
      "source": [
        "import timeit\n",
        "import numpy as np\n",
        "import matplotlib.pyplot as plt\n",
        "\n",
        "time = []\n",
        "x = np.array(range(1000))\n",
        "for i in x:\n",
        "    #initial time \n",
        "    start = timeit.timeit()\n",
        "    # execution of fibonacci\n",
        "    k = fibM(i)\n",
        "    # final time \n",
        "    end = timeit.timeit()\n",
        "    #measure\n",
        "    timeAdd = end - start\n",
        "\n",
        "    time.append(timeAdd)\n",
        "\n",
        "print(time)\n",
        "# data of time \n",
        "plt.plot(time)\n",
        "\n",
        "# array of iterations\n",
        "plt.plot(x)\n",
        "\n",
        "plt.title(\"Fibonacci Memoization Algorithm (Backward)\")\n",
        "plt.xlabel(\"n\")\n",
        "plt.ylabel(\"Execution Time\")\n",
        "plt.show()"
      ],
      "execution_count": null,
      "outputs": [
        {
          "output_type": "stream",
          "text": [
            "[-0.00020688399990831385, -0.00025223900001947186, -1.8505000070945243e-05, 0.00033412199991289526, -0.0001258580000467191, -0.0015836610000405926, 0.00010424499987493618, -0.00012904399977742287, 5.634099989038077e-05, -0.00012785600006282039, -4.6838000116622425e-05, 0.002559399000119811, -3.410199997233576e-05, 0.0015059360000577726, -0.002037399000073492, -0.002437879000126486, 0.00046513600000253064, -0.00010609099990688264, -0.003932973000019047, -7.804599999872153e-05, 0.004180019999921569, -0.0012191580001399416, 2.0418000076460885e-05, -0.00024792299996079237, 0.0001257039998563414, -0.00048769499994705257, 0.00245675500013931, -0.0003762500000448199, 0.0012739520000195625, -0.0010796159997426003, 0.005860133000169299, -0.00010812900018208893, 9.559300019645889e-05, -0.0034830009999495815, -0.0006179350000365957, -0.0002475740000136284, -0.00013208499990469136, -2.030099994954071e-05, -6.688399980703252e-05, -3.379099985068024e-05, -0.00023873000009189127, -0.0001661969997712731, -9.885299982670404e-05, -0.0004899900000054913, 0.0008951969998634013, -0.001093770999887056, 0.00031275800006369536, 0.00010014100007538218, 0.00010137900017070933, -1.0100000054080738e-05, 0.0006991119998929207, 1.5562000044155866e-05, 2.612299999782408e-05, -2.0605999907274963e-05, 0.0002030359999025677, -6.426700019801501e-05, -6.761000122423866e-06, -5.409300001701922e-05, -0.0004564680000385124, -0.0001113089999762451, -0.0007628419996308367, -2.5824999966062023e-05, 0.00014581100003852043, 0.003088972999876205, -0.0013392419998581317, 2.185900007134478e-05, -0.002972886999941693, 0.00020520400016721396, -8.38610001210327e-05, 0.00034706500014181074, -0.00011850799978674331, 7.064499982334382e-05, 1.5646000065316912e-05, 0.002121938999835038, 0.0002304700001332094, -8.335099983014516e-05, 0.00013015599984100845, -0.00021856400007891352, 0.0008818359999622771, 2.793799990286061e-05, -8.595799999966403e-05, 0.00010785599988594186, -5.9082999996462604e-05, 0.0001754309998887038, 0.0004601650000495283, 0.001783573000011529, 7.569999525003368e-07, -0.001895146999913777, -8.97180002539244e-05, -6.764599993402953e-05, -0.0002697319996514125, 3.0359999527718173e-06, 0.002520220999713274, 0.002270588999863321, -5.198700000619283e-05, 0.004348781999851781, -0.009145566999904986, 0.00039991299991015694, -5.83109999752196e-05, -0.0001790310000160389, -2.8135999855294358e-05, -3.608500014706806e-05, 3.969899989897385e-05, 0.00028853799994976725, 0.00015962299994498608, -9.061799983101082e-05, 1.5278999853762798e-05, -9.497099995314784e-05, -0.00013243799980955373, 0.00017145400011031597, 1.266399999622081e-05, -0.0011263140002029104, -2.9526000162150012e-05, -0.00011315899973851629, -1.6395999864471378e-05, -0.0013612850000299659, -0.001875255999948422, 0.00037278600007084606, -0.0002220279998255137, 3.065300029447826e-05, -1.5782999980729073e-05, 0.00010163399997509259, -0.0011960239999098121, -4.870100019616075e-05, -2.761899986580829e-05, -0.0021620449999772973, 0.00011187800009793136, 5.621700006486208e-05, 0.00010027999996964354, 0.005610505999811721, -7.492099985029199e-05, -0.00016191899999284942, -0.0002630560002216953, -9.940799986907223e-05, 5.6795000318743405e-05, -0.00011097299989160092, -4.360000048109214e-06, -1.931700012391957e-05, 5.974099985905923e-05, -6.582599985449633e-05, 4.5177999936640845e-05, 3.127300010419276e-05, 6.17260002400144e-05, -7.592200017825235e-05, -0.0012394820000736217, -0.000637529999949038, 5.440499990072567e-05, 0.0007257049999225273, -7.928600030027155e-05, -3.891699998348486e-05, 0.00011166600006617955, -0.00015415499979098968, -7.512000001952401e-05, -2.4368999902435462e-05, 0.00011129499989692704, 9.583899986864708e-05, -9.377400010635029e-05, -0.0001279059999887977, -0.0015615019999586366, -6.779600016670884e-05, 2.4732999918342102e-05, 4.3620000269584125e-06, 0.0002612349999253638, -0.005092475000083141, 0.0001477670000440412, 9.849000207395875e-06, 8.78569999258616e-05, -0.00028309200024523307, -0.00041798999995990016, 6.408299987015198e-05, -0.00017226399995706743, 0.00036189700017530413, -2.0702000028904877e-05, -1.7750001006788807e-06, -2.5709000055940123e-05, 4.437500001586159e-05, 0.0007469540000784036, 7.22029999451479e-05, -0.0004171069997482846, -0.0015116050001324766, -8.34810000469588e-05, -0.0002954289998342574, 0.0003480320001472137, 4.469799978323863e-05, 0.000144109000075332, -0.002378256000156398, -8.301000002575165e-05, -0.0005369309999423422, -3.54759997662768e-05, -0.0002203619999363582, 0.001880506000134119, 0.00042274999987057527, -2.6357000024290755e-05, -8.151899987751676e-05, -5.057399994257139e-05, 0.002384103999929721, -0.0034364289999757602, 2.779399983410258e-05, 0.0006200369998623501, -0.00021170499985601055, 0.0003203060000487312, -2.4665999717399245e-05, 1.3070002751192078e-06, -7.968600016283744e-05, 4.2424000184837496e-05, -0.00014895799995429115, -6.748300006620411e-05, 5.611500000668457e-05, 0.0004342419999829872, -0.0021853779999219114, 0.002164462000109779, -1.2351000123089761e-05, 8.032200025809288e-05, -2.584800017757516e-05, -6.147599992800679e-05, -6.640900005550066e-05, 0.002003802999979598, 8.672399985698576e-05, 4.875700005868566e-05, -0.00022833499997432227, -0.00014225300014913955, -0.00019952800016653782, 4.7024999958011904e-05, -0.0007073209999362007, -0.00030768100009481714, -0.00010986100005538901, -9.518000001662585e-05, -2.9400000130408444e-05, 0.004582367000239174, -0.0016040699997574848, -0.00025756699983503495, -0.00016738499994062295, 0.0001687969997874461, -3.0903000151738524e-05, 0.0004087170000275364, 0.0002831310000601661, 1.844799976424838e-05, -4.3214000015723286e-05, 0.00014921999991202028, 5.677400008607947e-05, 0.00017038000009961252, 0.0005107759998281836, 0.002673628000138706, -1.778900013960083e-05, -0.00018668799998522445, 0.0001196149999032059, 0.00010054599988507107, -0.002861806000055367, 0.0009264729997084942, 0.0024595150000550348, 5.32710000697989e-05, 0.00012729199988825712, -7.216299991341657e-05, -0.0001917059998959303, 6.565599983332504e-05, 0.0005130470001404319, 9.823499999583873e-05, 1.6199000128835905e-05, -0.00011768599983952299, 4.540800000540912e-05, -2.5456999992456986e-05, 0.0031943100000262348, 3.469300008873688e-05, -0.009128991000125097, 0.000946813000155089, -7.991000006768445e-05, -0.00038934700000936573, 0.0006796580000809627, -0.001474034000239044, -0.00020874100005130458, 2.6936000040223007e-05, 0.0001039520000176708, -7.52509997710149e-05, 0.0010445939999499387, 3.348300015204586e-05, 7.833699987713771e-05, 0.00012732099980894418, 0.00042723100023067673, 7.695600015722448e-05, 0.00015435800014529377, -0.0019508799998675386, -0.00014275600005930755, 4.700699992099544e-05, 0.0003168359999108361, 2.198400011366175e-05, -0.0001922960000229068, -4.7421999852304e-05, -0.0011266399999385612, -0.0003262059997268807, 0.00015304299995477777, -0.00041053199993257294, 3.373499998815532e-05, -0.00024297599975398043, 0.005130130000225108, -7.46730001992546e-05, 1.8297999986316427e-05, -0.0002238890001535765, -0.0003759600001558283, -0.00019835300008708145, 0.00011764200007746695, 5.09520000377961e-05, -0.004626923999921928, -0.00011904500024684239, -0.00044597500004783797, -3.430099968682043e-05, 0.0007263200002398662, 0.00014630700002271624, -0.00021362799998314586, -0.00012087499999324791, 0.001344193000022642, 0.00021991800008436257, -0.0012341679998826294, -0.00015631200017196534, -0.00020604099995580327, 0.00016351499994016194, -2.144800009773462e-05, 0.00012323600003583124, -0.0001546840001083183, 4.238999986228009e-05, 0.0014494650001779519, -0.00032540099982725224, -5.187799979466945e-05, -1.7755999806468026e-05, 4.3804000142699806e-05, 0.0004029799999898387, -0.00015177500017671264, -0.001379112999757126, -6.69910000397067e-05, 1.4686999975310755e-05, -0.0003369590001511824, -0.00016584499985583534, -5.078100025457388e-05, 6.645400003435498e-05, 0.00021460700008901767, -2.230999825769686e-06, -1.020499985315837e-05, 9.706100013318064e-05, -0.00015434999977514963, -0.0006620940000630071, 0.0016920539999318862, 0.00010018599982686283, -0.00012317600021560793, 1.1287999996056897e-05, -6.112499977461994e-05, 0.00022341200019582175, -0.0007500329998038069, 0.00019438499998614134, 1.5147000112847309e-05, 6.043100006536406e-05, 0.0002714339998419746, 6.9650002387788845e-06, 0.0010943580000457587, -0.0007525109999733104, 0.0029063669999231934, 6.550200009769469e-05, -0.00013191800030654122, -0.00020575000007738709, 0.0002867400000923226, 0.0007146960001591651, -0.004931972000122187, -3.1450000051336247e-05, 0.00021586399998341221, -0.00016002600000319944, 2.429600021969236e-05, -0.0001385190000746661, 1.9520999785527238e-05, -0.00012423299995134585, 2.9909999739174964e-06, 9.938299990608357e-05, -0.00336547500000961, 0.0007128069998998399, 4.932100000587525e-05, 1.5491000112888287e-05, -5.670500036103476e-05, 2.8121000013925368e-05, -0.0017520229998808645, -6.319899989648547e-05, -0.0001083199999811768, 2.0872000050076167e-05, -0.0002242929997464671, 4.8157000264836824e-05, 0.0003205959999377228, 4.452300004231802e-05, 0.0007724280001184525, -0.001633020999861401, 0.000125526000147147, -0.00026463100016371754, 0.00021899300008954015, 0.0002715660000376374, 0.00020395400019879162, 0.00015973600011420785, 0.0031086149999737245, 0.0002670260000741109, 0.0003640170000380749, -0.00015747299994472996, -9.948000001713808e-05, -5.130000317876693e-07, 0.00019062399996983004, 8.445800017398142e-05, -4.914999863103731e-06, -0.00014496100016003766, -5.762300020251132e-05, 0.0007433750001837325, -6.547599991790776e-05, 3.1467999860979035e-05, -0.0002559010001732531, -0.0001449910000701493, 7.916300023680378e-05, 0.00018692199978431745, -0.00042928400011987833, 0.001600088000031974, -2.7817000045615714e-05, -0.00032842500013430254, 6.88259999606089e-05, 3.495999999358901e-05, 0.0002711349998207879, 0.0009499150000920054, -0.0007660629999008961, 3.628199988270353e-05, -0.0001476009999805683, 2.5558000061209896e-05, -5.1723999831665424e-05, 0.0002142119999462011, 0.005367959999830418, -0.0008609389999492123, 0.00923203199999989, -0.0031706419997590274, 0.0005470129999594064, -0.0005877670000700164, -0.00022116099989943905, -0.0002970269999877928, 5.282699999042961e-05, -4.028000148537103e-06, 0.0006835469998804911, -0.0020907009998154535, -0.00011505500015118741, 5.241700000624405e-05, 0.0007706430001235276, 0.0014552289999301138, -0.0005049540000072739, -0.00011247700012972928, -6.1949999690114055e-06, -0.00015414499989674368, -0.0002450770000450575, 0.0007664730001124553, -0.0002371709999806626, 0.0007055589999254153, -0.0013151970001672453, 0.00026171100012106763, 3.801499997280189e-05, 0.00022417900004256808, -1.2543000138975913e-05, 0.00010137200001736346, -0.00014408300012291875, -0.00017441499994674814, -0.002179271999921184, 6.096799984334211e-05, 5.278399999042449e-05, 8.153499993568403e-05, -3.538299984029436e-05, 0.0002837609999915003, 3.377400003046205e-05, 0.0002454159998706018, -5.500800011759566e-05, -6.591400006072945e-05, 0.0006654700000581215, -0.00013790299999527633, 0.00014747000000170374, -0.0032611159999760275, 0.0001519829997960187, 0.00047109500019359984, 8.587399997850298e-05, 6.824599995525205e-05, 0.002026222000040434, 0.00011888299991369422, -8.118499999909545e-05, 5.909899982725619e-05, 4.114099988328235e-05, 0.00033230600001843413, -0.0009675659998720221, -3.7539000004471745e-05, -4.957999863108853e-06, 0.00030973499997344334, -0.0002014849999341095, 0.0001031249998959538, 0.00011183299989170337, -8.883600003173342e-05, 0.005360160999998698, -4.772300007971353e-05, -9.986600002775958e-05, -6.056499978512875e-05, 0.00020334099986030196, -1.2989999959245324e-05, -4.2031000020870124e-05, 8.578400024816801e-05, -9.585900011188642e-05, -0.00014531000010720163, -3.6615999988498515e-05, 0.0017715379999572178, -1.27180001072702e-05, -2.5570000161678763e-05, 4.928499993184232e-05, -0.0021541860000979796, -7.307499981834553e-05, -0.0032214449997809425, -1.9522999764376436e-05, 0.0001606030000402825, 7.592099996145407e-05, 0.00010275899990119797, -0.00017474999981459405, 0.0018645039999682922, -0.00038125700007185515, -0.0001871059998848068, 6.743799985997612e-05, 0.0002153809998617362, -4.086399985681055e-05, 9.733300021252944e-05, 0.0002469549999659648, -3.308500004095549e-05, 0.005322637000062969, 0.00020080099989172595, -0.00019903299994439294, 2.3335999912887928e-05, -5.568000005951035e-05, -0.0001380389999212639, -3.9818000004743226e-05, -0.00013983399981043476, 1.6620000224065734e-05, -4.6041000132390764e-05, 0.00038477100019918, 6.120900002315466e-05, -6.589600002371299e-05, 0.00015963800001372874, -6.708300020363822e-05, 0.0001448310001705977, -4.818800016437308e-05, -0.0017393230000379845, -2.014500023506116e-05, 7.097599996086501e-05, 0.0001667380001890706, 0.00048022900000432855, -0.0001420129999587516, 0.001219758999923215, -0.00030727600005775457, -0.00012604800008375605, 4.882600001110404e-05, -0.000266869999904884, -0.00011004800012415217, -5.163100013305666e-05, 0.00022799500015935337, -0.00011651299973891582, -0.00021634299992001615, -0.0054480199999034085, -7.427600007758883e-05, -7.805699988239212e-05, 0.00022524700011672394, -4.690299988396873e-05, -9.287000011681812e-06, -0.00017743200010045257, 2.7292999902783777e-05, -2.2360000002663583e-06, -0.0004987719996734086, 7.49169998925936e-05, -6.890000008752395e-05, 3.257299977121875e-05, 0.0017814769998949487, -0.0003130810000584461, -0.0003124029999526101, 0.0001104180000766064, -0.00015935499982333567, 5.725000005440961e-05, -0.0008030019998841453, -8.948100003181025e-05, 1.7762999959813897e-05, -0.0013840920000802726, -1.5295999901354662e-05, -1.3136000006852555e-05, 0.00040746400009084027, -1.1250999705225695e-05, -0.00013493800020114577, 0.00012196199986647116, -3.197000000909611e-05, 3.026699982910941e-05, 0.00357094900004995, -0.0024429790000795037, 1.9769000118685653e-05, 4.558000000542961e-06, 0.000143890000117608, 0.0001510290001078829, 0.0001826359998631233, 5.037699997956224e-05, 2.9065999797239783e-05, 0.0009913229998801398, -0.0006079770000724238, -0.0005855220001649286, -0.00015902899986031116, -0.0004828149999411835, 6.880800015096611e-05, -0.0009953289998065884, -4.681099994741089e-05, -0.00013293499978317413, 0.0001271820001420565, -6.197400011842547e-05, 0.00022574200011149514, 1.261600004909269e-05, 0.0011434350001309213, -0.0006062310001198057, 6.182499987517076e-05, -0.0001818960001855885, -9.422999937669374e-06, -0.00012109899989809492, -0.00010032499994849786, 0.00033008700006575964, 0.00015175700013969617, -0.00014740300002813456, 0.0014381200001025718, -0.004609260000052018, 0.00020173200005046965, 2.7771999839387718e-05, 9.448000128031708e-06, 0.00011016500002369867, 0.00026930299986815953, 0.00011563199996089679, -2.8718000066874083e-05, 0.000649363999855268, 0.0011000050001257478, -0.0018847120002192241, 0.00012600800005202473, -9.881500000119559e-05, 1.7057999912140076e-05, -5.8832999911828665e-05, -0.004255034000152591, 4.120499988857773e-05, -3.744899981938943e-05, -0.00015094700006557105, -0.00021126399997228873, 5.1879000011467724e-05, -0.0023950269999204465, -3.1613999908586266e-05, 1.5910000001895241e-06, 4.7537000000374974e-05, 0.0001349150002170063, -0.001003290000198831, 2.926600018327008e-05, -1.073300018106238e-05, 8.957900013228937e-05, -0.00012811400006285112, 0.001955078999799298, -2.1766999907413265e-05, -4.201699994155206e-05, -0.00012891699998363038, 0.00018033099991043855, -4.9084000011134776e-05, -0.000126491999708378, 0.0034737260000383685, 0.0010397309999916615, -0.00041732099998625927, 9.857100008048292e-05, 0.0001053860000865825, -5.7155999911628896e-05, -0.0004915849999633792, -0.00022389900004782248, -0.00011353599984431639, -9.47499984249589e-06, 8.292200004689221e-05, -0.00012832699985665386, 0.0003101900001638569, 4.562599997370853e-05, 0.0003079769999203563, 5.89730000228883e-05, -5.842600012329058e-05, 5.9856000007130206e-05, -0.00032554700010223314, 0.0005916679999700136, -8.66850000420527e-05, -0.0002669489999789221, -0.00010926100026154018, 0.00010118400018654938, -0.00020472100004553795, -0.005264929999839296, 2.7144000114276423e-05, 2.3515000066254288e-05, -4.560999741443084e-06, -0.0003023850001682149, 0.000178530999846771, 5.107799984216399e-05, 1.4604999932998908e-05, -0.0010203619999629154, 7.448900032613892e-05, -2.0692999896709807e-05, -4.749499998979445e-05, 5.13300001330208e-05, -6.253799983824138e-05, -0.0003966839999520744, -0.00016833599988785863, 3.6034999993717065e-05, -0.0021642819997396145, 0.00045678099991164345, -5.3551000064544496e-05, 0.001282696000089345, -0.0005678779998561367, 0.0018084259997976915, 7.140200000321784e-05, -2.868899991881335e-05, 2.0444999790925067e-05, -0.000151411000160806, 5.752099968958646e-05, 2.52800009548082e-06, -0.0002808630001709389, -0.00017101599996749428, 0.004478885000025912, -0.0012317160001202865, 6.4509999901929405e-06, 0.00020868199976575852, 9.428000112166046e-06, 1.3986000112709007e-05, -0.00014633600017077697, 7.312499997169652e-05, -0.0007977489999575482, 7.011799993961176e-05, -0.0002565790002790891, -0.00010587799988570623, 0.0003860520000671386, 0.0004732309998871642, -8.328999911100254e-06, 5.605000069408561e-06, 0.00013397999987319054, -7.766899989292142e-05, 9.481300003244542e-05, -4.3760000153270084e-05, 0.0014491270001144585, -0.0002533150000090245, -9.325299993179215e-05, -0.00036742500014952384, -6.542699998135504e-05, 0.00010568099992269708, 2.1025000023655593e-05, 0.00021893700022701523, 4.949999947712058e-07, 0.00012301600008868263, 0.00010787199994410912, 1.6041999970184406e-05, -0.004844348999995418, 1.6745999801059952e-05, -0.0002091839999138756, 6.247399983294599e-05, 0.007182205999924918, -0.006051201999980549, 0.0002353390000280342, -0.0008247159998973075, -0.0006243689999791968, 0.00015826899993953703, -0.0020912530003442953, 3.873800005749217e-05, 3.5360001220396953e-06, 0.0004100380001546, 0.0007780599999023252, 3.0030999823793536e-05, 5.3860999969401746e-05, 0.00017322600001534738, 2.1215000060692546e-05, 0.0004576860001179739, -0.00036676800004897814, 3.901000013684097e-05, -0.00010102600026584696, -0.00043630799996208225, 8.798399994702777e-05, 2.4889998258004198e-06, -0.00033097400000769994, -3.398999979253858e-05, 0.00019355500012352422, -0.00025311900003543997, -5.2026000048499554e-05, 0.0001535249998596555, 0.00012786100000994338, -0.00018391300000075717, -7.050300018818234e-05, -1.8578999743112945e-05, -4.803599995284458e-05, 6.149999762783409e-06, 0.00035343000013199344, 0.0007356420001087827, -0.0009600209996278863, 4.464999847186846e-06, -2.128299979631265e-05, 4.754000201501185e-06, 2.7255000077275326e-05, -0.0006774200001018471, 3.045099970222509e-05, 0.0001748770000631339, 3.080700003010861e-05, 4.468500014809251e-05, 0.00130659900014507, -0.00024224100002356863, -6.504599991785653e-05, 2.4530999780836282e-05, -0.00033505500005048816, -3.497900002003007e-05, -0.00010664600017662451, -7.646999847565894e-06, 0.0001896039998428023, -0.00016904999984035385, 0.00011951700003010046, -5.7018000006792136e-05, 0.003067732000090473, -0.0022935069998766267, -8.46800003273529e-06, 6.884999993417296e-05, 0.00032307799983755103, -0.0030141650001951348, 0.0002740960003393411, -0.0006627989998833073, 0.00018548799994277942, 0.00011301299991828273, 0.002548890000070969, 8.721099993636017e-05, 3.441099988776841e-05, 6.366000002344663e-05, -0.00026398299996799324, -4.147399999965273e-05, 0.0001509759999862581, 3.971199998886732e-05, 2.4229000018749502e-05, 0.002051200000096287, -0.0010376870000072813, -2.0529000039459788e-05, -0.00016019999998206913, -3.9353999909508275e-05, 0.00010505299974283844, 2.278100009789341e-05, -0.0002321399999800633, -5.584600012298324e-05, -0.0001055010000072798, 9.183800011669518e-05, -2.0763000293300138e-05, 4.03270000788325e-05, -0.005101386999967872, -0.00017556300008436665, 4.070599993610813e-05, -3.017299991370237e-05, -0.00017038899977706023, -0.00013815900001645787, -0.0005950730001131888, -0.0002027109999289678, 3.243300011490646e-05, 3.3458999951108126e-05, 0.0016393309999784833, 1.6332999848600593e-05, -0.0013347079998311528, 4.43129999894154e-05, -0.00013440299994726956, -5.0340999905529316e-05, -0.00012814100000468898, 0.0028414270000212127, -0.0010610000001634035, -4.589900004248193e-05, 6.476199973803887e-05, 0.00026868699978876975, -1.8573000033939024e-05, -2.2118000060800114e-05, 0.0002561519997925643, 0.00015524900004493247, -1.4861000181554118e-05, 6.025800007591897e-05, 0.00022247400011110585, 5.6963999895742745e-05, 0.00115452699992602, -0.004477127999962249, 7.066399984978489e-05, 9.984000143958838e-06, -8.409999963987502e-06, 1.6271000049528084e-05, 0.0007832979999875533, -0.0001284049999412673, -0.00021002500011491065, -0.00023979800016604713, -0.0007489069998882769, 0.0017358030002014857, -3.245599987167225e-05, -0.0005465429997002502, -8.834200002638681e-05, -4.604300011123996e-05, 0.0020061669999904552, -0.00025074599989238777, 0.0012893789998997818, -0.0007723020000867109, -0.0001257559999885416, 0.0001141820000611915, -0.00014142500026537164, 3.1980999892766704e-05, -5.7359000038559316e-05, 5.802900000162481e-05, 0.00017181100020025042, 0.00014790699970035348, 0.00030253100021582213, -0.0003277140001500811, 0.0001582379998126271, -3.854399983538315e-05, -0.005563014999779625, -4.261399999450077e-05, -6.260499981181056e-05, 0.0001385489997574041, -0.00022044999991521763, 0.0006290199999057222, 0.003136519000008775, -5.4418999980043736e-05, -0.0002093479999984993, 4.5753000222248374e-05, -0.0003927319999093015, -3.0486000014207093e-05, -0.001116524000053687, -2.7027999976780848e-05, -5.026000008001574e-05, 0.0001864369999111659, 6.474199994954688e-05, 0.0004883919998519559, -0.00040066600013233256, 0.0001159629998710443, 0.0002121059999353747, 0.0002273389998208586, 0.00013274299999466166, -5.108199979986239e-05, -0.00017945199988389504, -0.00012212800015731773, 0.00017973700028051098, 4.771699991579226e-05, -5.138599976817204e-05, -5.9529999816732015e-05, -4.1113000179393566e-05, -0.005370330000005197, -0.00018750300000647258, 5.244600038167846e-05, 0.003161778999810849, 6.9751000182805e-05, -0.0010362729999542353, 7.24720000562229e-05, 3.2369998734793626e-06, 0.0015956639999785693, -0.0005096469999443798, -2.9224000172689557e-05, 0.0001435060000858357, 9.833100011746865e-05, 3.5949000221080496e-05, 2.6300017452740576e-07, -9.705799993753317e-05, -1.8762000081551378e-05, -0.0005177810000986938, -4.414299974087044e-05, 2.9822999977113795e-05, 7.323199997699703e-05, -1.4812000017627724e-05, -9.838800019679184e-05, 0.00011698400021487032, -7.5957000035487e-05, -0.00013901499983148824, 0.00012861999994129292, -0.00016819999996187107, 3.896899988831137e-05, -0.00032570500002293556, 0.0023357400000350026, -0.003276885000104812, 2.046300028268888e-05, -1.3592000186690711e-05, -2.6047000119433505e-05, 0.0008726630001092417, 0.00022324100018522586, -0.00012772200011568202, 4.639500025405141e-05, 0.00011088299993389228, 0.0009833470001012756, -0.00034983499995178136, -0.002002100999789036, 0.00030336099985106557, -6.790900010855694e-05, 0.00010618900023473543, -8.837199993649847e-05, 0.0027233749999595602, -0.0009589740000137681, -7.849500002521381e-05, -0.0008071960000961553, 2.730999995037564e-05, 0.0001221589998294803, 7.921299993540742e-05, -0.0001618670000880229, 9.860500017566665e-05, -0.0002506159999029478, -7.265200019901386e-05, -1.8309999632037943e-06, -1.7209999896294903e-06, -0.00011823600016214186, 0.005642860000079963, -0.0001945110000178829, -4.562999993140693e-05, -1.1923000101887737e-05, -3.2841000120242825e-05, -0.0008920970001327078, -1.2212000001454726e-05, 0.0005892489998586825, 0.0022143270000469784, -0.00014751600019735633]\n"
          ],
          "name": "stdout"
        },
        {
          "output_type": "display_data",
          "data": {
            "image/png": "[encoded data removed]",
            "text/plain": [
              "<Figure size 432x288 with 1 Axes>"
            ]
          },
          "metadata": {
            "tags": [],
            "needs_background": "light"
          }
        }
      ]
    },
    {
      "cell_type": "markdown",
      "metadata": {
        "id": "yxLkXgpNkPrS"
      },
      "source": [
        "# Fibonacci  binary exponentiation matrix algorithm $O(lg^2 n) $"
      ]
    },
    {
      "cell_type": "markdown",
      "metadata": {
        "id": "O9sNNaXwIBWl"
      },
      "source": [
        "The Fibonacci Q-matrix | Lecture 6 | Fibonacci Numbers and the Golden Ratio https://youtu.be/lTHVwsHJrG0\n",
        "\n",
        "Exercise 0.4. Dasgupta S., Papadimitriou C., Vazirani U. , “Algorithms” , McGraw Hill, 2007.\n",
        "\n",
        "Fast matrix solution https://stackoverflow.com/a/40117659\n",
        "\n",
        "This is a superfast solution refer to https://stackoverflow.com/a/23462371/3700852\n",
        "\n",
        "You can read some more about involved math here https://en.wikipedia.org/wiki/Fibonacci_number#Matrix_form\n",
        "\n",
        "Efficient calculation of Fibonacci series https://stackoverflow.com/questions/18172257/efficient-calculation-of-fibonacci-series\n",
        "\n",
        "Python: Compute a Huge Fibonacci Number Modulo m https://stackoverflow.com/questions/40096097/python-compute-a-huge-fibonacci-number-modulo-m#:~:text=Pisano%20periods%20follows%20a%20Fibonacci,in%20finding%20the%20Pisano%20period.\n",
        "\n",
        "Binary Exponentiation https://cp-algorithms.com/algebra/binary-exp.html\n",
        "\n",
        "Exponentiation by squaring https://en.wikipedia.org/wiki/Exponentiation_by_squaring "
      ]
    },
    {
      "cell_type": "code",
      "metadata": {
        "id": "VcNX7LjMICLz"
      },
      "source": [
        "# Fibonacci fast matrix O(lg^2 n) - https://stackoverflow.com/a/40117659  \n",
        "\n",
        "def fib_fast_matrix(n):\n",
        "\n",
        "    if n==0: return 0\n",
        "\n",
        "    # Initialize a matrix [[1,1],[1,0]]    \n",
        "    v1, v2, v3 = 1, 1, 0  \n",
        "    # Perform fast exponentiation of the matrix (quickly raise it to the nth power)\n",
        "    for rec in bin(n)[3:]:\n",
        "        calc = (v2*v2) \n",
        "        v1, v2, v3 = (v1*v1+calc) , ((v1+v3)*v2) , (calc+v3*v3) \n",
        "        if rec == '1': v1, v2, v3 = (v1+v2), v1, v2\n",
        "    return v2;    "
      ],
      "execution_count": null,
      "outputs": []
    },
    {
      "cell_type": "code",
      "metadata": {
        "colab": {
          "base_uri": "https://localhost:8080/"
        },
        "id": "6ONxPvSdI9mr",
        "outputId": "24a86a40-c8ab-405d-c001-8cd6f815a24f"
      },
      "source": [
        " for n in range(0, 20):\n",
        "   print(fib_fast_matrix(n))"
      ],
      "execution_count": null,
      "outputs": [
        {
          "output_type": "stream",
          "text": [
            "0\n",
            "1\n",
            "1\n",
            "2\n",
            "3\n",
            "5\n",
            "8\n",
            "13\n",
            "21\n",
            "34\n",
            "55\n",
            "89\n",
            "144\n",
            "233\n",
            "377\n",
            "610\n",
            "987\n",
            "1597\n",
            "2584\n",
            "4181\n"
          ],
          "name": "stdout"
        }
      ]
    },
    {
      "cell_type": "code",
      "metadata": {
        "colab": {
          "base_uri": "https://localhost:8080/"
        },
        "id": "xij3BFA0H3sM",
        "outputId": "99024659-fa19-47e0-d86a-025f79f4a790"
      },
      "source": [
        "from time import process_time\n",
        "n=10\n",
        "t0 = process_time()\n",
        "k = fib_fast_matrix(n)\n",
        "tf =process_time()\n",
        "print(\"n=\",n,\"fib(\",n,\")=\",k,\"time\",tf - t0, \"seconds process time\")"
      ],
      "execution_count": null,
      "outputs": [
        {
          "output_type": "stream",
          "text": [
            "n= 10 fib( 10 )= 55 time 6.432500003938912e-05 seconds process time\n"
          ],
          "name": "stdout"
        }
      ]
    },
    {
      "cell_type": "code",
      "metadata": {
        "colab": {
          "base_uri": "https://localhost:8080/"
        },
        "id": "9G6c4AX_KcAS",
        "outputId": "5f3141d4-8ace-42fa-db61-ca372e591b91"
      },
      "source": [
        "from time import process_time\n",
        "n=100\n",
        "t0 = process_time()\n",
        "k = fib_fast_matrix(n)\n",
        "tf =process_time()\n",
        "print(\"n=\",n,\"fib(\",n,\")=\",k,\"time\",tf - t0, \"seconds process time\")"
      ],
      "execution_count": null,
      "outputs": [
        {
          "output_type": "stream",
          "text": [
            "n= 100 fib( 100 )= 354224848179261915075 time 6.234999995058388e-05 seconds process time\n"
          ],
          "name": "stdout"
        }
      ]
    },
    {
      "cell_type": "code",
      "metadata": {
        "colab": {
          "base_uri": "https://localhost:8080/"
        },
        "id": "rkJvGhmQKe45",
        "outputId": "62863815-04a7-45b8-8a51-615b74f17ee4"
      },
      "source": [
        "from time import process_time\n",
        "n=1000\n",
        "t0 = process_time()\n",
        "k = fib_fast_matrix(n)\n",
        "tf =process_time()\n",
        "print(\"n=\",n,\"fib(\",n,\")=\",k,\"time\",tf - t0, \"seconds process time\")"
      ],
      "execution_count": null,
      "outputs": [
        {
          "output_type": "stream",
          "text": [
            "n= 1000 fib( 1000 )= 43466557686937456435688527675040625802564660517371780402481729089536555417949051890403879840079255169295922593080322634775209689623239873322471161642996440906533187938298969649928516003704476137795166849228875 time 4.804599996077741e-05 seconds process time\n"
          ],
          "name": "stdout"
        }
      ]
    },
    {
      "cell_type": "code",
      "metadata": {
        "colab": {
          "base_uri": "https://localhost:8080/"
        },
        "id": "bOzN2bmAmv76",
        "outputId": "01ac2a50-7bc8-4c67-f271-89d35642a045"
      },
      "source": [
        "from time import process_time\n",
        "n=100000\n",
        "m=10\n",
        "t0 = process_time()\n",
        "k = fib_fast_matrix(n)\n",
        "tf =process_time()\n",
        "print(\"n=\",n,\"fib(\",n,\")=\",k,\"time\",tf - t0, \"seconds process time\")"
      ],
      "execution_count": null,
      "outputs": [
        {
          "output_type": "stream",
          "text": [
            "n= 100000 fib( 100000 )= 2597406934722172416615503402127591541488048538651769658472477070395253454351127368626555677283671674475463758722307443211163839947387509103096569738218830449305228763853133492135302679278956701051276578271635608073050532200243233114383986516137827238124777453778337299916214634050054669860390862750996639366409211890125271960172105060300350586894028558103675117658251368377438684936413457338834365158775425371912410500332195991330062204363035213756525421823998690848556374080179251761629391754963458558616300762819916081109836526352995440694284206571046044903805647136346033000520852277707554446794723709030979019014860432846819857961015951001850608264919234587313399150133919932363102301864172536477136266475080133982431231703431452964181790051187957316766834979901682011849907756686456845066287392485603914047605199550066288826345877189410680370091879365001733011710028310473947456256091444932821374855573864080579813028266640270354294412104919995803131876805899186513425175959911520563155337703996941035518275274919959802257507902037798103089922984996304496255814045517000250299764322193462165366210841876745428298261398234478366581588040819003307382939500082132009374715485131027220817305432264866949630987914714362925554252624043999615326979876807510646819068792118299167964409178271868561702918102212679267401362650499784968843680975254700131004574186406448299485872551744746695651879126916993244564817673322257149314967763345846623830333820239702436859478287641875788572910710133700300094229333597292779191409212804901545976262791057055248158884051779418192905216769576608748815567860128818354354292307397810154785701328438612728620176653953444993001980062953893698550072328665131718113588661353747268458543254898113717660519461693791688442534259478126310388952047956594380715301911253964847112638900713362856910155145342332944128435722099628674611942095166100230974070996553190050815866991144544264788287264284501725332048648319457892039984893823636745618220375097348566847433887249049337031633826571760729778891798913667325190623247118037280173921572390822769228077292456662750538337500692607721059361942126892030256744356537800831830637593334502350256972906515285327194367756015666039916404882563967693079290502951488693413799125174856667074717514938979038653338139534684837808612673755438382110844897653836848318258836339917310455850905663846202501463131183108742907729262215943020429159474030610183981685506695026197376150857176119947587572212987205312060791864980361596092339594104118635168854883911918517906151156275293615849000872150192226511785315089251027528045151238603792184692121533829287136924321527332714157478829590260157195485316444794546750285840236000238344790520345108033282013803880708980734832620122795263360677366987578332625485944906021917368867786241120562109836985019729017715780112040458649153935115783499546100636635745448508241888279067531359950519206222976015376529797308588164873117308237059828489404487403932053592935976454165560795472477862029969232956138971989467942218727360512336559521133108778758228879597580320459608479024506385194174312616377510459921102486879496341706862092908893068525234805692599833377510390101316617812305114571932706629167125446512151746802548190358351688971707570677865618800822034683632101813026232996027599403579997774046244952114531588370357904483293150007246173417355805567832153454341170020258560809166294198637401514569572272836921963229511187762530753402594781448204657460288485500062806934811398276016855584079542162057543557291510641537592939022884356120792643705560062367986544382464373946972471945996555795505838034825597839682776084731530251788951718630722761103630509360074262261717363058613291544024695432904616258691774630578507674937487992329181750163484068813465534370997589353607405172909412697657593295156818624747127636468836551757018353417274662607306510451195762866349922848678780591085118985653555434958761664016447588028633629704046289097067736256584300235314749461233912068632146637087844699210427541569410912246568571204717241133378489816764096924981633421176857150311671040068175303192115415611958042570658693127276213710697472226029655524611053715554532499750843275200199214301910505362996007042963297805103066650638786268157658772683745128976850796366371059380911225428835839194121154773759981301921650952140133306070987313732926518169226845063443954056729812031546392324981793780469103793422169495229100793029949237507299325063050942813902793084134473061411643355614764093104425918481363930542369378976520526456347648318272633371512112030629233889286487949209737847861884868260804647319539200840398308008803869049557419756219293922110825766397681361044490024720948340326796768837621396744075713887292863079821849314343879778088737958896840946143415927131757836511457828935581859902923534388888846587452130838137779443636119762839036894595760120316502279857901545344747352706972851454599861422902737291131463782045516225447535356773622793648545035710208644541208984235038908770223039849380214734809687433336225449150117411751570704561050895274000206380497967960402617818664481248547269630823473377245543390519841308769781276565916764229022948181763075710255793365008152286383634493138089971785087070863632205869018938377766063006066757732427272929247421295265000706646722730009956124191409138984675224955790729398495608750456694217771551107346630456603944136235888443676215273928597072287937355966723924613827468703217858459948257514745406436460997059316120596841560473234396652457231650317792833860590388360417691428732735703986803342604670071717363573091122981306903286137122597937096605775172964528263757434075792282180744352908669606854021718597891166333863858589736209114248432178645039479195424208191626088571069110433994801473013100869848866430721216762473119618190737820766582968280796079482259549036328266578006994856825300536436674822534603705134503603152154296943991866236857638062351209884448741138600171173647632126029961408561925599707566827866778732377419444462275399909291044697716476151118672327238679208133367306181944849396607123345271856520253643621964198782752978813060080313141817069314468221189275784978281094367751540710106350553798003842219045508482239386993296926659221112742698133062300073465628498093636693049446801628553712633412620378491919498600097200836727876650786886306933418995225768314390832484886340318940194161036979843833346608676709431643653538430912157815543512852077720858098902099586449602479491970687230765687109234380719509824814473157813780080639358418756655098501321882852840184981407690738507369535377711880388528935347600930338598691608289335421147722936561907276264603726027239320991187820407067412272258120766729040071924237930330972132364184093956102995971291799828290009539147382437802779051112030954582532888721146170133440385939654047806199333224547317803407340902512130217279595753863158148810392952475410943880555098382627633127606718126171022011356181800775400227516734144169216424973175621363128588281978005788832454534581522434937268133433997710512532081478345067139835038332901313945986481820272322043341930929011907832896569222878337497354301561722829115627329468814853281922100752373626827643152685735493223028018101449649009015529248638338885664893002250974343601200814365153625369199446709711126951966725780061891215440222487564601554632812091945824653557432047644212650790655208208337976071465127508320487165271577472325887275761128357592132553934446289433258105028633583669291828566894736223508250294964065798630809614341696830467595174355313224362664207197608459024263017473392225291248366316428006552870975051997504913009859468071013602336440164400179188610853230764991714372054467823597211760465153200163085336319351589645890681722372812310320271897917951272799656053694032111242846590994556380215461316106267521633805664394318881268199494005537068697621855231858921100963441012933535733918459668197539834284696822889460076352031688922002021931318369757556962061115774305826305535862015637891246031220672933992617378379625150999935403648731423208873977968908908369996292995391977217796533421249291978383751460062054967341662833487341011097770535898066498136011395571584328308713940582535274056081011503907941688079197212933148303072638678631411038443128215994936824342998188719768637604496342597524256886188688978980888315865076262604856465004322896856149255063968811404400429503894245872382233543101078691517328333604779262727765686076177705616874050257743749983775830143856135427273838589774133526949165483929721519554793578923866762502745370104660909382449626626935321303744538892479216161188889702077910448563199514826630802879549546453583866307344423753319712279158861707289652090149848305435983200771326653407290662016775706409690183771201306823245333477966660525325490873601961480378241566071271650383582257289215708209369510995890132859490724306183325755201208090007175022022949742801823445413711916298449914722254196594682221468260644961839254249670903104007581488857971672246322887016438403908463856731164308169537326790303114583680575021119639905615169154708510459700542098571797318015564741406172334145847111268547929892443001391468289103679179216978616582489007322033591376706527676521307143985302760988478056216994659655461379174985659739227379416726495377801992098355427866179123126699374730777730569324430166839333011554515542656864937492128687049121754245967831132969248492466744261999033972825674873460201150442228780466124320183016108232183908654771042398228531316559685688005226571474428823317539456543881928624432662503345388199590085105211383124491861802624432195540433985722841341254409411771722156867086291742124053110620522842986199273629406208834754853645128123279609097213953775360023076765694208219943034648783348544492713539450224591334374664937701655605763384697062918725745426505879414630176639760457474311081556747091652708748125267159913793240527304613693961169892589808311906322510777928562071999459487700611801002296132304588294558440952496611158342804908643860880796440557763691857743754025896855927252514563404385217825890599553954627451385454452916761042969267970893580056234501918571489030418495767400819359973218711957496357095967825171096264752068890806407651445893132870767454169607107931692704285168093413311046353506242209810363216771910420786162184213763938194625697286781413636389620123976910465418956806197323148414224550071617215851321302030684176087215892702098879108938081045903397276547326416916845445627600759561367103584575649094430692452532085003091068783157561519847567569191284784654692558665111557913461272425336083635131342183905177154511228464455136016013513228948543271504760839307556100908786096663870612278690274831819331606701484957163004705262228238406266818448788374548131994380387613830128859885264201992286188208499588640888521352501457615396482647451025902530743172956899636499615707551855837165935367125448515089362904567736630035562457374779100987992499146967224041481601289530944015488942613783140087804311431741858071826185149051138744831358439067228949408258286021650288927228387426432786168690381960530155894459451808735197246008221529343980828254126128257157209350985382800738560472910941184006084485235377833503306861977724501886364070344973366473100602018128792886991861824418453968994777259482169137133647470453172979809245844361129618997595696240971845564020511432589591844724920942930301651488713079802102379065536525154780298059407529440513145807551537794861635879901158192019808879694967187448224156836463534326160242632934761634458163890163805123894184523973421841496889262398489648642093409816681494771155177009562669029850101513537599801272501241971119871526593747484778935488777815192931171431167444773882941064615028751327709474504763922874890662989841540259350834035142035136168819248238998027706666916342133424312054507359388616687691188185776118135771332483965209882085982391298606386822804754362408956522921410859852037330544625953261340234864689275060526893755148403298542086991221052597005628576707702567695300978970046408920009852106980295419699802138053295798159478289934443245491565327845223840551240445208226435420656313310702940722371552770504263482073984454889589248861397657079145414427653584572951329719091947694411910966797474262675590953832039169673494261360032263077428684105040061351052194413778158095005714526846009810352109249040027958050736436961021241137739717164869525493114805040126568351268829598413983222676377804500626507241731757395219796890754825199329259649801627068665658030178877405615167159731927320479376247375505855052839660294566992522173600874081212014209071041937598571721431338017425141582491824710905084715977249417049320254165239323233258851588893337097136310892571531417761978326033750109026284066415801371359356529278088456305951770081443994114674291850360748852366654744869928083230516815711602911836374147958492100860528981469547750812338896943152861021202736747049903930417035171342126923486700566627506229058636911882228903170510305406882096970875545329369434063981297696478031825451642178347347716471058423238594580183052756213910186997604305844068665712346869679456044155742100039179758348979935882751881524675930878928159243492197545387668305684668420775409821781247053354523194797398953320175988640281058825557698004397120538312459428957377696001857497335249965013509368925958021863811725906506436882127156815751021712900765992750370228283963962915973251173418586721023497317765969454283625519371556009143680329311962842546628403142444370648432390374906410811300792848955767243481200090309888457270907750873638873299642555050473812528975962934822878917619920725138309388288292510416837622758204081918933603653875284116785703720989718832986921927816629675844580174911809119663048187434155067790863948831489241504300476704527971283482211522202837062857314244107823792513645086677566622804977211397140621664116324756784216612961477109018826094677377686406176721484293894976671380122788941309026553511096118347012565197540807095384060916863936906673786627209429434264260402902158317345003727462588992622049877121178405563348492490326003508569099382392777297498413565614830788262363322368380709822346012274241379036473451735925215754757160934270935192901723954921426490691115271523338109124042812102893738488167358953934508930697715522989199698903885883275409044300321986834003470271220020159699371690650330547577095398748580670024491045504890061727189168031394528036165633941571334637222550477547460756055024108764382121688848916940371258901948490685379722244562009483819491532724502276218589169507405794983759821006604481996519360110261576947176202571702048684914616894068404140833587562118319210838005632144562018941505945780025318747471911604840677997765414830622179069330853875129298983009580277554145435058768984944179136535891620098725222049055183554603706533183176716110738009786625247488691476077664470147193074476302411660335671765564874440577990531996271632972009109449249216456030618827772947750764777446452586328919159107444252320082918209518021083700353881330983215894608680127954224752071924134648334963915094813097541433244209299930751481077919002346128122330161799429930618800533414550633932139339646861616416955220216447995417243171165744471364197733204899365074767844149929548073025856442942381787641506492878361767978677158510784235702640213388018875601989234056868423215585628508645525258377010620532224244987990625263484010774322488172558602233302076399933854152015343847725442917895130637050320444917797752370871958277976799686113626532291118629631164685159934660693460557545956063155830033697634000276685151293843638886090828376141157732003527565158745906567025439437931104838571313294490604926582363108949535090082673154497226396648088618041573977888472892174618974189721700770009862449653759012727015227634510874906948012210684952063002519011655963580552429180205586904259685261047412834518466736938580027700252965356366721619883672428226933950325930390994583168665542234654857020875504617520521853721567282679903418135520602999895366470106557900532129541336924472492212436324523042895188461779122338069674233980694887270587503389228395095135209123109258159006960395156367736067109050566299603571876423247920752836160805597697778756476767210521222327184821484446631261487584226092608875764331731023263768864822594691211032367737558122133470556805958008310127481673962019583598023967414489867276845869819376783757167936723213081586191045995058970991064686919463448038574143829629547131372173669836184558144505748676124322451519943362182916191468026091121793001864788050061351603144350076189213441602488091741051232290357179205497927970924502479940842696158818442616163780044759478212240873204124421169199805572649118243661921835714762891425805771871743688000324113008704819373962295017143090098476927237498875938639942530595331607891618810863505982444578942799346514915952884869757488025823353571677864826828051140885429732788197765736966005727700162592404301688659946862983717270595809808730901820120931003430058796552694788049809205484305467611034654748067290674399763612592434637719995843862812391985470202414880076880818848087892391591369463293113276849329777201646641727587259122354784480813433328050087758855264686119576962172239308693795757165821852416204341972383989932734803429262340722338155102209101262949249742423271698842023297303260161790575673111235465890298298313115123607606773968998153812286999642014609852579793691246016346088762321286205634215901479188632194659637483482564291616278532948239313229440231043277288768139550213348266388687453259281587854503890991561949632478855035090289390973718988003999026132015872678637873095678109625311008054489418857983565902063680699643165033912029944327726770869305240718416592070096139286401966725750087012218149733133695809600369751764951350040285926249203398111014953227533621844500744331562434532484217986108346261345897591234839970751854223281677187215956827243245910829019886390369784542622566912542747056097567984857136623679023878478161201477982939080513150258174523773529510165296934562786122241150783587755373348372764439838082000667214740034466322776918936967612878983488942094688102308427036452854504966759697318836044496702853190637396916357980928865719935397723495486787180416401415281489443785036291071517805285857583987711145474240156416477194116391354935466755593592608849200546384685403028080936417250583653368093407225310820844723570226809826951426162451204040711501448747856199922814664565893938488028643822313849852328452360667045805113679663751039248163336173274547275775636810977344539275827560597425160705468689657794530521602315939865780974801515414987097778078705357058008472376892422189750312758527140173117621279898744958406199843913365680297721208751934988504499713914285158032324823021340630312586072624541637765234505522051086318285359658520708173392709566445011404055106579055037417780393351658360904543047721422281816832539613634982525215232257690920254216409657452618066051777901592902884240599998882753691957540116954696152270401280857579766154722192925655963991820948894642657512288766330302133746367449217449351637104725732980832812726468187759356584218383594702792013663907689741738962252575782663990809792647011407580367850599381887184560094695833270775126181282015391041773950918244137561999937819240362469558235924171478702779448443108751901807414110290370706052085162975798361754251041642244867577350756338018895379263183389855955956527857227926155524494739363665533904528656215464288343162282921123290451842212532888101415884061619939195042230059898349966569463580186816717074818823215848647734386780911564660755175385552224428524049468033692299989300783900020690121517740696428573930196910500988278523053797637940257968953295112436166778910585557213381789089945453947915927374958600268237844486872037243488834616856290097850532497036933361942439802882364323553808208003875741710969289725499878566253048867033095150518452126944989251596392079421452606508516052325614861938282489838000815085351564642761700832096483117944401971780149213345335903336672376719229722069970766055482452247416927774637522135201716231722137632445699154022395494158227418930589911746931773776518735850032318014432883916374243795854695691221774098948611515564046609565094538115520921863711518684562543275047870530006998423140180169421109105925493596116719457630962328831271268328501760321771680400249657674186927113215573270049935709942324416387089242427584407651215572676037924765341808984312676941110313165951429479377670698881249643421933287404390485538222160837088907598277390184204138197811025854537088586701450623578513960109987476052535450100439353062072439709976445146790993381448994644609780957731953604938734950026860564555693224229691815630293922487606470873431166384205442489628760213650246991893040112513103835085621908060270866604873585849001704200923929789193938125116798421788115209259130435572321635660895603514383883939018953166274355609970015699780289236362349895374653428746875 time 0.004004439000000026 seconds process time\n"
          ],
          "name": "stdout"
        }
      ]
    },
    {
      "cell_type": "markdown",
      "metadata": {
        "id": "AJfON0LwHkTF"
      },
      "source": [
        "## Fibonacci $\\mod m$ and Pisano periods\n",
        "\n",
        "To know about Fibonacci $\\mod m$ and Pisano periods, I recommend that you watch this video: Fibonacci Mystery - Numberphile https://www.youtube.com/watch?v=Nu-lW-Ifyec\n",
        "\n"
      ]
    },
    {
      "cell_type": "markdown",
      "metadata": {
        "id": "gvFXy7DaHwcR"
      },
      "source": [
        "### Pisano period https://en.wikipedia.org/wiki/Pisano_period\n",
        "\n",
        "In number theory, the nth Pisano period, written π(n), is the period with which the sequence of Fibonacci numbers taken modulo n repeats. Pisano periods are named after Leonardo Pisano, better known as Fibonacci. The existence of periodic functions in Fibonacci numbers was noted by Joseph Louis Lagrange in 1774."
      ]
    },
    {
      "cell_type": "markdown",
      "metadata": {
        "id": "7I8lHMWDIKpZ"
      },
      "source": [
        "### Pisano period https://mathworld.wolfram.com/PisanoPeriod.html\n",
        "The sequence of Fibonacci numbers $\\{F_n\\}$ is periodic modulo any modulus $m$ (Wall 1960), and the period ($\\mod m$) is the known as the Pisano period $\\pi(m)$ (Wrench 1969). For m=1, 2, ..., the values of $\\pi(m)$ are $1, 3, 8, 6, 20, 24, 16, 12, 24, 60, 10, ...$ (OEIS A001175).\n",
        "\n",
        "Since $\\pi(10)=60$, the last digit of $F_n$ repeats with period $60$, as first noted by Lagrange in 1774 (Livio 2002, p. 105). The last two digits repeat with a period of $300$, and the last three with a period of $1500$. In 1963, Geller found that the last four digits have a period of 15000 and the last five a period of $150000$. Jarden subsequently showed that for $d>=3$, the last d digits have a period of $15·10^{(d-1)}$ (Livio 2002, pp. 105-106). The sequence of Pisano periods for $n=1, 10, 100, 1000, ...$ are therefore $60, 300, 1500, 15000, 150000, 1500000, ...$ (OEIS A096363).\n"
      ]
    },
    {
      "cell_type": "markdown",
      "metadata": {
        "id": "hgcrw9veJSx9"
      },
      "source": [
        "Python: Compute a Huge Fibonacci Number Modulo m https://stackoverflow.com/questions/40096097/python-compute-a-huge-fibonacci-number-modulo-m#:~:text=Pisano%20periods%20follows%20a%20Fibonacci,in%20finding%20the%20Pisano%20period.\n",
        "\n",
        "https://stackoverflow.com/a/51874771\n",
        "\n",
        "In the below code we are using two concepts of Fibonacci series:\n",
        "\n",
        "1. Pisano periods follows a Fibonacci sequence and hence each repetition(pattern) begins with 0 and 1 appearing consecutively one after the other.\n",
        "\n",
        "2. fib(n) divides fib(m) only when n divides m which means if fib(4)%3==0,then fib(4+4)%3==0,fib(4+4+4)%3==0 and so on.This helps us in finding the Pisano period.\n",
        "\n"
      ]
    },
    {
      "cell_type": "markdown",
      "metadata": {
        "id": "ejGRtbnblTcy"
      },
      "source": [
        "## Fibonacci $\\mod m$ binary exponentiation matrix algorithm   $O(lg\\ n)$\n",
        "\n"
      ]
    },
    {
      "cell_type": "code",
      "metadata": {
        "id": "Ut-xhYfYB7pV"
      },
      "source": [
        "# Fibonacci module fast matrix O(lg n) - https://stackoverflow.com/a/40117659  \n",
        "\n",
        "def Huge_Fib_Mod(n,m):\n",
        "\n",
        "    if n==0: return 0\n",
        "\n",
        "    # Initialize a matrix [[1,1],[1,0]]    \n",
        "    v1, v2, v3 = 1, 1, 0  \n",
        "    # Perform fast exponentiation of the matrix (quickly raise it to the nth power)\n",
        "    for rec in bin(n)[3:]:\n",
        "        calc = (v2*v2) % m\n",
        "        v1, v2, v3 = (v1*v1+calc)% m , ((v1+v3)*v2) % m, (calc+v3*v3) % m\n",
        "        if rec == '1': v1, v2, v3 = (v1+v2)% m, v1, v2\n",
        "    return v2;  "
      ],
      "execution_count": null,
      "outputs": []
    },
    {
      "cell_type": "code",
      "metadata": {
        "colab": {
          "base_uri": "https://localhost:8080/"
        },
        "id": "kkH0yEV_npaL",
        "outputId": "97b712fc-6e44-4b77-8d9e-4386db6fd8ec"
      },
      "source": [
        "m=10\n",
        "for n in range(0,65):\n",
        "   print(n,\" \",Huge_Fib_Mod(n,m))"
      ],
      "execution_count": null,
      "outputs": [
        {
          "output_type": "stream",
          "text": [
            "0   0\n",
            "1   1\n",
            "2   1\n",
            "3   2\n",
            "4   3\n",
            "5   5\n",
            "6   8\n",
            "7   3\n",
            "8   1\n",
            "9   4\n",
            "10   5\n",
            "11   9\n",
            "12   4\n",
            "13   3\n",
            "14   7\n",
            "15   0\n",
            "16   7\n",
            "17   7\n",
            "18   4\n",
            "19   1\n",
            "20   5\n",
            "21   6\n",
            "22   1\n",
            "23   7\n",
            "24   8\n",
            "25   5\n",
            "26   3\n",
            "27   8\n",
            "28   1\n",
            "29   9\n",
            "30   0\n",
            "31   9\n",
            "32   9\n",
            "33   8\n",
            "34   7\n",
            "35   5\n",
            "36   2\n",
            "37   7\n",
            "38   9\n",
            "39   6\n",
            "40   5\n",
            "41   1\n",
            "42   6\n",
            "43   7\n",
            "44   3\n",
            "45   0\n",
            "46   3\n",
            "47   3\n",
            "48   6\n",
            "49   9\n",
            "50   5\n",
            "51   4\n",
            "52   9\n",
            "53   3\n",
            "54   2\n",
            "55   5\n",
            "56   7\n",
            "57   2\n",
            "58   9\n",
            "59   1\n",
            "60   0\n",
            "61   1\n",
            "62   1\n",
            "63   2\n",
            "64   3\n"
          ],
          "name": "stdout"
        }
      ]
    },
    {
      "cell_type": "code",
      "metadata": {
        "colab": {
          "base_uri": "https://localhost:8080/"
        },
        "id": "jGCOk0ZmMhz3",
        "outputId": "e750e6cc-0387-4065-9077-d732ead25e0f"
      },
      "source": [
        "import sys\n",
        "\n",
        "def fibmod(n,m): \n",
        "    if n <= 1:\n",
        "        return n\n",
        "\n",
        "    previous = 0\n",
        "    current  = 1\n",
        "\n",
        "    for _ in range(n - 1):\n",
        "        previous, current = current, (previous + current) % m\n",
        "    \n",
        "    return current\n",
        "\n",
        "# Pisano periods https://stackoverflow.com/a/51874771\n",
        "# 1. Pisano periods follows  follows a Fibonacci sequence and hence each repetition(pattern) \n",
        "#    begins with 0 and 1 appearing consecutively one after the other.\n",
        "# 2. fib(n) divides fib(m) only when n divides m which means if fib(4)%3==0,\n",
        "#    then fib(4+4)%3==0,fib(4+4+4)%3==0 and so on.This helps us in finding the Pisano period.\n",
        "def pisano_period(m):\n",
        "    i=2\n",
        "    while(fibmod(i,m)!=0):\n",
        "        i+=1\n",
        "    if(fibmod(i+1,m)!=1):\n",
        "        while(fibmod(i+1,m)!=1):\n",
        "            i+=i\n",
        "    return i\n",
        "\n",
        "def get_fibonacci_huge_pissano(n, m):\n",
        "   \n",
        "    n = n % pisano_period(m) \n",
        "\n",
        "    return fibmod(n,m)\n",
        "\n",
        "if __name__ == '__main__':\n",
        "    n, m = map(int, input().split())\n",
        "    print(get_fibonacci_huge_pissano(n, m))"
      ],
      "execution_count": null,
      "outputs": [
        {
          "output_type": "stream",
          "text": [
            "239 1000\n",
            "161\n"
          ],
          "name": "stdout"
        }
      ]
    },
    {
      "cell_type": "code",
      "metadata": {
        "colab": {
          "base_uri": "https://localhost:8080/"
        },
        "id": "x3VuzoHbOlQJ",
        "outputId": "a626332c-2746-4800-9622-63653f661115"
      },
      "source": [
        "if __name__ == '__main__':\n",
        "    n, m = map(int, input().split())\n",
        "    print(get_fibonacci_huge_pissano(n, m))"
      ],
      "execution_count": null,
      "outputs": [
        {
          "output_type": "stream",
          "text": [
            "2816213588 239\n",
            "151\n"
          ],
          "name": "stdout"
        }
      ]
    },
    {
      "cell_type": "code",
      "metadata": {
        "colab": {
          "base_uri": "https://localhost:8080/"
        },
        "id": "ezy79R8OOxUw",
        "outputId": "855be421-7fa5-44b4-dff8-b03cd1a06092"
      },
      "source": [
        "if __name__ == '__main__':\n",
        "    n, m = map(int, input().split())\n",
        "    print(get_fibonacci_huge_pissano(n, m))"
      ],
      "execution_count": null,
      "outputs": [
        {
          "output_type": "stream",
          "text": [
            "10 4\n",
            "3\n"
          ],
          "name": "stdout"
        }
      ]
    },
    {
      "cell_type": "code",
      "metadata": {
        "colab": {
          "base_uri": "https://localhost:8080/"
        },
        "id": "rXvoqT0XH_oo",
        "outputId": "dad2b705-8983-40d8-d0ca-469bf6a13c06"
      },
      "source": [
        "import sys\n",
        "\n",
        "# Fibonacci module fast matrix O(lg n) - https://stackoverflow.com/a/40117659 \n",
        "def Huge_Fib_Mod(n,m):\n",
        "\n",
        "    if n==0: return 0\n",
        "\n",
        "    # Initialize a matrix [[1,1],[1,0]]    \n",
        "    v1, v2, v3 = 1, 1, 0  \n",
        "    # Perform fast exponentiation of the matrix (quickly raise it to the nth power)\n",
        "    for rec in bin(n)[3:]:\n",
        "        calc = (v2*v2) % m\n",
        "        v1, v2, v3 = (v1*v1+calc)% m , ((v1+v3)*v2) % m, (calc+v3*v3) % m\n",
        "        if rec == '1': v1, v2, v3 = (v1+v2)% m, v1, v2\n",
        "    return v2;  \n",
        "\n",
        "# Pisano periods https://stackoverflow.com/a/51874771\n",
        "# 1. Pisano periods follows  follows a Fibonacci sequence and hence each repetition(pattern) \n",
        "#    begins with 0 and 1 appearing consecutively one after the other.\n",
        "# 2. fib(n) divides fib(m) only when n divides m which means if fib(4)%3==0,\n",
        "#    then fib(4+4)%3==0,fib(4+4+4)%3==0 and so on.This helps us in finding the Pisano period.\n",
        "def pisano_period(m):\n",
        "    i=2\n",
        "    while(Huge_Fib_Mod(i,m)!=0):\n",
        "        i+=1\n",
        "    \n",
        "    if(Huge_Fib_Mod(i+1,m)!=1):\n",
        "        while(Huge_Fib_Mod(i+1,m)!=1):\n",
        "            i+=i\n",
        "    return i\n",
        "\n",
        "def get_fibonacci_huge_pissano(n, m):\n",
        "\n",
        "    n = n % pisano_period(m) \n",
        "\n",
        "    return Huge_Fib_Mod(n,m)\n",
        "\n",
        "if __name__ == '__main__':\n",
        "    n, m = map(int, input().split())\n",
        "    print(get_fibonacci_huge_pissano(n, m))"
      ],
      "execution_count": null,
      "outputs": [
        {
          "output_type": "stream",
          "text": [
            "239 1000\n",
            "161\n"
          ],
          "name": "stdout"
        }
      ]
    },
    {
      "cell_type": "code",
      "metadata": {
        "colab": {
          "base_uri": "https://localhost:8080/"
        },
        "id": "q7rb88N0O8On",
        "outputId": "f6951b24-0c9c-41e5-bc2f-0724dc149d5c"
      },
      "source": [
        "if __name__ == '__main__':\n",
        "    n, m = map(int, input().split())\n",
        "    print(get_fibonacci_huge_pissano(n, m))"
      ],
      "execution_count": null,
      "outputs": [
        {
          "output_type": "stream",
          "text": [
            "2816213588 239\n",
            "151\n"
          ],
          "name": "stdout"
        }
      ]
    },
    {
      "cell_type": "code",
      "metadata": {
        "colab": {
          "base_uri": "https://localhost:8080/"
        },
        "id": "miEkyv-sO_9f",
        "outputId": "ea004fdf-86bd-4860-8562-e9a936b8bc72"
      },
      "source": [
        "if __name__ == '__main__':\n",
        "    n, m = map(int, input().split())\n",
        "    print(get_fibonacci_huge_pissano(n, m))"
      ],
      "execution_count": null,
      "outputs": [
        {
          "output_type": "stream",
          "text": [
            "10 4\n",
            "3\n"
          ],
          "name": "stdout"
        }
      ]
    },
    {
      "cell_type": "markdown",
      "metadata": {
        "id": "9LV_80AxxfeB"
      },
      "source": [
        "## Sum of Fibonacci numbers \n",
        "Sum of Fibonacci numbers | Lecture 9 | Fibonacci Numbers and the Golden Ratio https://youtu.be/Cspq_vvScV8"
      ]
    },
    {
      "cell_type": "markdown",
      "metadata": {
        "id": "aRzEAe_0zUoQ"
      },
      "source": [
        "## Sum of Fibonacci numbers squared \n",
        "Sum of Fibonacci numbers squared | Lecture 10 | Fibonacci Numbers and the Golden Ratio https://youtu.be/ruIwND9ytpE"
      ]
    },
    {
      "cell_type": "markdown",
      "metadata": {
        "id": "Cc6SWWbrRdMU"
      },
      "source": [
        "# Principle of invariance\n",
        "\n",
        "$$T_{RAM}(n) = \\alpha t_{A}(n) = \\beta t_{B}(n) = \\xi t_{C}(n)$$\n",
        "\n",
        "$T_{RAM}(n)$ computational steps in RAM\n",
        "\n",
        "$t_{A}(n)$ running time in $A$\n",
        "\n",
        "$t_{B}(n)$ running time in $B$\n",
        "\n",
        "$t_{C}(n)$ running time in $C$\n",
        "\n",
        "\n",
        "$ T_{RAM}(n)$  is the number of computational steps (simple/elementary RAM oprations) of the algorithm for the worst case input of size $n$.\n",
        "\n",
        "$t_{A}(n), t_{B}$ and $t_{C}$ is the execution time of the algorithm in the corresponding platfrom (processor + memory architecture , operating system, programming language, compiler) for the worst case input of size $n$\n"
      ]
    }
  ]
}