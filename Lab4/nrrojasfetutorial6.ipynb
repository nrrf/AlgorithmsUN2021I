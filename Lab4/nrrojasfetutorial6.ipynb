{
  "nbformat": 4,
  "nbformat_minor": 0,
  "metadata": {
    "kernelspec": {
      "display_name": "Python 3",
      "language": "python",
      "name": "python3"
    },
    "language_info": {
      "codemirror_mode": {
        "name": "ipython",
        "version": 3
      },
      "file_extension": ".py",
      "mimetype": "text/x-python",
      "name": "python",
      "nbconvert_exporter": "python",
      "pygments_lexer": "ipython3",
      "version": "3.6.4"
    },
    "colab": {
      "name": "nrrojasfelecture6.ipynb",
      "provenance": []
    }
  },
  "cells": [
    {
      "cell_type": "markdown",
      "metadata": {
        "id": "EQYZZcIetPXl"
      },
      "source": [
        "# Rate of return, Mean and Variance\n"
      ]
    },
    {
      "cell_type": "markdown",
      "metadata": {
        "id": "CQGALwJM4oZ5"
      },
      "source": [
        "Todos los md (en base al tutorial) y Examples por nrrojasfe "
      ]
    },
    {
      "cell_type": "markdown",
      "metadata": {
        "id": "48KB5zpEt-zb"
      },
      "source": [
        "## Rate of Return "
      ]
    },
    {
      "cell_type": "markdown",
      "metadata": {
        "id": "YgIAqclTuFB6"
      },
      "source": [
        "Single-Period Return \n",
        "\n",
        "\\begin{equation*}\n",
        "r=\\frac{p_t}{p_0}-1=\\frac{p_t-p_0}{p_0}\n",
        "\\end{equation*}"
      ]
    },
    {
      "cell_type": "code",
      "metadata": {
        "id": "rUGPB8dZKRi7",
        "colab": {
          "base_uri": "https://localhost:8080/"
        },
        "outputId": "79fdd608-787d-49c0-f700-16f9eac37ab6"
      },
      "source": [
        "import numpy as np\n",
        "rate_return = 102.0/100 - 1\n",
        "print(rate_return)"
      ],
      "execution_count": 7,
      "outputs": [
        {
          "output_type": "stream",
          "text": [
            "0.020000000000000018\n"
          ],
          "name": "stdout"
        }
      ]
    },
    {
      "cell_type": "markdown",
      "metadata": {
        "id": "57nmX8LpwbG9"
      },
      "source": [
        "Logarithm Return, Relevance Formulas\n",
        "- \\begin{equation*}\n",
        "r_{effective}=(1+\\frac{r_{nominal}}{n})^n-1\n",
        "\\end{equation*}\n",
        "\n",
        "- \\begin{equation*}\n",
        "r_{effective}=(1+\\frac{r_{nominal}}{n})^n-1\n",
        "\\end{equation*}\n",
        "\n",
        "- \\begin{equation*}\n",
        "\\lim_{n \\to \\infty}(1+\\frac{r}{n})^n=e^r\n",
        "\\end{equation*}\n",
        "\n",
        "- \\begin{equation*}\n",
        "e^{r_{nominal}}=1+r_{effective}=\\frac{p_i}{p_0}\n",
        "\\end{equation*}\n",
        "- \\begin{equation*}\n",
        "r_{nominal}=ln\\frac{p_t}{p_0}=lnp_i-lnp_0\n",
        "\\end{equation*}\n",
        "- \\begin{equation*}\n",
        "r_{effective}=e^{r_{nominal}}-1 \\approx r_{nominal}\n",
        "\\end{equation*}"
      ]
    },
    {
      "cell_type": "code",
      "metadata": {
        "colab": {
          "base_uri": "https://localhost:8080/"
        },
        "id": "uezg5xXgz4c6",
        "outputId": "9fecfc78-2732-4eb2-dfad-3059b5d60053"
      },
      "source": [
        "!pip install quandl"
      ],
      "execution_count": 2,
      "outputs": [
        {
          "output_type": "stream",
          "text": [
            "Collecting quandl\n",
            "  Downloading https://files.pythonhosted.org/packages/8b/2b/feefb36015beaecc5c0f9f2533e815b409621d9fa7b50b2aac621796f828/Quandl-3.6.1-py2.py3-none-any.whl\n",
            "Requirement already satisfied: six in /usr/local/lib/python3.7/dist-packages (from quandl) (1.15.0)\n",
            "Requirement already satisfied: pandas>=0.14 in /usr/local/lib/python3.7/dist-packages (from quandl) (1.1.5)\n",
            "Requirement already satisfied: python-dateutil in /usr/local/lib/python3.7/dist-packages (from quandl) (2.8.1)\n",
            "Collecting inflection>=0.3.1\n",
            "  Downloading https://files.pythonhosted.org/packages/59/91/aa6bde563e0085a02a435aa99b49ef75b0a4b062635e606dab23ce18d720/inflection-0.5.1-py2.py3-none-any.whl\n",
            "Requirement already satisfied: requests>=2.7.0 in /usr/local/lib/python3.7/dist-packages (from quandl) (2.23.0)\n",
            "Requirement already satisfied: more-itertools in /usr/local/lib/python3.7/dist-packages (from quandl) (8.7.0)\n",
            "Requirement already satisfied: numpy>=1.8 in /usr/local/lib/python3.7/dist-packages (from quandl) (1.19.5)\n",
            "Requirement already satisfied: pytz>=2017.2 in /usr/local/lib/python3.7/dist-packages (from pandas>=0.14->quandl) (2018.9)\n",
            "Requirement already satisfied: urllib3!=1.25.0,!=1.25.1,<1.26,>=1.21.1 in /usr/local/lib/python3.7/dist-packages (from requests>=2.7.0->quandl) (1.24.3)\n",
            "Requirement already satisfied: chardet<4,>=3.0.2 in /usr/local/lib/python3.7/dist-packages (from requests>=2.7.0->quandl) (3.0.4)\n",
            "Requirement already satisfied: certifi>=2017.4.17 in /usr/local/lib/python3.7/dist-packages (from requests>=2.7.0->quandl) (2020.12.5)\n",
            "Requirement already satisfied: idna<3,>=2.5 in /usr/local/lib/python3.7/dist-packages (from requests>=2.7.0->quandl) (2.10)\n",
            "Installing collected packages: inflection, quandl\n",
            "Successfully installed inflection-0.5.1 quandl-3.6.1\n"
          ],
          "name": "stdout"
        }
      ]
    },
    {
      "cell_type": "code",
      "metadata": {
        "id": "fu4yrPRxKRi9",
        "colab": {
          "base_uri": "https://localhost:8080/"
        },
        "outputId": "bbd03082-c476-4c74-ea41-4b4747494a4d"
      },
      "source": [
        "import numpy as np\n",
        "import quandl\n",
        "# la api_key es personal de mi cuenta\n",
        "quandl.ApiConfig.api_key = 'T4nFzWhXphWrB9MyDXGB'\n",
        "#get quandl data\n",
        "aapl_table = quandl.get('WIKI/AAPL')\n",
        "aapl = aapl_table.loc['2017-3',['Open','Close']]\n",
        "#take log return\n",
        "aapl['log_price'] = np.log(aapl.Close)\n",
        "aapl['log_return'] = aapl.log_price.diff()\n",
        "print(aapl)"
      ],
      "execution_count": 8,
      "outputs": [
        {
          "output_type": "stream",
          "text": [
            "               Open   Close  log_price  log_return\n",
            "Date                                              \n",
            "2017-03-01  137.890  139.79   4.940141         NaN\n",
            "2017-03-02  140.000  138.96   4.934186   -0.005955\n",
            "2017-03-03  138.780  139.78   4.940070    0.005884\n",
            "2017-03-06  139.365  139.34   4.936917   -0.003153\n",
            "2017-03-07  139.060  139.52   4.938208    0.001291\n",
            "2017-03-08  138.950  139.00   4.934474   -0.003734\n",
            "2017-03-09  138.740  138.68   4.932169   -0.002305\n",
            "2017-03-10  139.250  139.14   4.935481    0.003311\n",
            "2017-03-13  138.850  139.20   4.935912    0.000431\n",
            "2017-03-14  139.300  138.99   4.934402   -0.001510\n",
            "2017-03-15  139.410  140.46   4.944923    0.010521\n",
            "2017-03-16  140.720  140.69   4.946559    0.001636\n",
            "2017-03-17  141.000  139.99   4.941571   -0.004988\n",
            "2017-03-20  140.400  141.46   4.952017    0.010446\n",
            "2017-03-21  142.110  139.84   4.940499   -0.011518\n",
            "2017-03-22  139.845  141.42   4.951734    0.011235\n",
            "2017-03-23  141.260  140.92   4.948192   -0.003542\n",
            "2017-03-24  141.500  140.64   4.946203   -0.001989\n",
            "2017-03-27  139.390  140.88   4.947908    0.001705\n",
            "2017-03-28  140.910  143.80   4.968423    0.020515\n",
            "2017-03-29  143.680  144.12   4.970646    0.002223\n",
            "2017-03-30  144.190  143.93   4.969327   -0.001319\n",
            "2017-03-31  143.720  143.66   4.967449   -0.001878\n"
          ],
          "name": "stdout"
        }
      ]
    },
    {
      "cell_type": "code",
      "metadata": {
        "id": "QEzfdxr1KRi-",
        "colab": {
          "base_uri": "https://localhost:8080/"
        },
        "outputId": "3fc5daa5-84b7-4f8a-da9f-e11d8c24e3ee"
      },
      "source": [
        "month_return = aapl.log_return.sum()\n",
        "print(month_return)"
      ],
      "execution_count": 4,
      "outputs": [
        {
          "output_type": "stream",
          "text": [
            "0.0273081001636184\n"
          ],
          "name": "stdout"
        }
      ]
    },
    {
      "cell_type": "markdown",
      "metadata": {
        "id": "PV2KDZ-n0H58"
      },
      "source": [
        "## NRROJASFE Example"
      ]
    },
    {
      "cell_type": "code",
      "metadata": {
        "colab": {
          "base_uri": "https://localhost:8080/"
        },
        "id": "i0fLXwXt5nRV",
        "outputId": "42a97843-c6fc-416d-9084-bfbd42feba6d"
      },
      "source": [
        "# basic example \n",
        "my_rate_return = 12.0/10 - 1\n",
        "print(my_rate_return)\n",
        "\n",
        "#get quandl data\n",
        "fb_table = quandl.get('WIKI/FB')\n",
        "fb = fb_table.loc['2016-7',['Open','Close']]\n",
        "#take log return\n",
        "fb['log_price'] = np.log(fb.Close)\n",
        "fb['log_return'] = fb.log_price.diff()\n",
        "print(fb)"
      ],
      "execution_count": 11,
      "outputs": [
        {
          "output_type": "stream",
          "text": [
            "0.19999999999999996\n",
            "              Open   Close  log_price  log_return\n",
            "Date                                             \n",
            "2016-07-01  114.20  114.19   4.737864         NaN\n",
            "2016-07-05  113.94  114.00   4.736198   -0.001665\n",
            "2016-07-06  113.36  116.70   4.759607    0.023408\n",
            "2016-07-07  116.63  115.85   4.752296   -0.007310\n",
            "2016-07-08  116.43  117.24   4.764223    0.011927\n",
            "2016-07-11  117.71  117.87   4.769582    0.005359\n",
            "2016-07-12  118.63  117.93   4.770091    0.000509\n",
            "2016-07-13  118.39  116.78   4.760292   -0.009799\n",
            "2016-07-14  117.50  117.29   4.764650    0.004358\n",
            "2016-07-15  117.74  116.86   4.760977   -0.003673\n",
            "2016-07-18  117.32  119.37   4.782228    0.021251\n",
            "2016-07-19  118.99  120.61   4.792562    0.010334\n",
            "2016-07-20  121.25  121.92   4.803365    0.010803\n",
            "2016-07-21  121.92  120.61   4.792562   -0.010803\n",
            "2016-07-22  119.90  121.00   4.795791    0.003228\n",
            "2016-07-25  121.39  121.63   4.800984    0.005193\n",
            "2016-07-26  122.00  121.22   4.797607   -0.003377\n",
            "2016-07-27  122.42  123.34   4.814945    0.017338\n",
            "2016-07-28  127.52  125.00   4.828314    0.013369\n",
            "2016-07-29  124.65  123.94   4.819798   -0.008516\n"
          ],
          "name": "stdout"
        }
      ]
    },
    {
      "cell_type": "markdown",
      "metadata": {
        "id": "gdUJKVFD0El3"
      },
      "source": [
        "## Mean"
      ]
    },
    {
      "cell_type": "markdown",
      "metadata": {
        "id": "5aW2dhYv1oyq"
      },
      "source": [
        "Arithmetic Mean\n",
        "\\begin{equation*}\n",
        "\\mu = \\frac{\\sum_{i=1}^{n}x_i}{n}\n",
        "\\end{equation*}"
      ]
    },
    {
      "cell_type": "markdown",
      "metadata": {
        "id": "RFJPSdMu2s_X"
      },
      "source": [
        "Geometric Mean\n",
        "\\begin{equation*}\n",
        "(1+\\bar{r}) = \\frac{p_t}{p_0}\n",
        "\\end{equation*}\n"
      ]
    },
    {
      "cell_type": "code",
      "metadata": {
        "id": "A5Bp8XcuKRi-",
        "colab": {
          "base_uri": "https://localhost:8080/"
        },
        "outputId": "52b5ee05-0bcb-4eee-fb98-db4dee2f9626"
      },
      "source": [
        "print(np.mean(aapl.log_price))"
      ],
      "execution_count": 5,
      "outputs": [
        {
          "output_type": "stream",
          "text": [
            "4.94597446550658\n"
          ],
          "name": "stdout"
        }
      ]
    },
    {
      "cell_type": "markdown",
      "metadata": {
        "id": "5Ya1LfYa0gXs"
      },
      "source": [
        "## NRROJASFE Example"
      ]
    },
    {
      "cell_type": "markdown",
      "metadata": {
        "id": "QstdOAis_PJj"
      },
      "source": [
        "Arithmetic Mean"
      ]
    },
    {
      "cell_type": "code",
      "metadata": {
        "colab": {
          "base_uri": "https://localhost:8080/"
        },
        "id": "68TgtPFK6YA3",
        "outputId": "e7343e7a-96f4-4f96-ae2c-b62d358a79d1"
      },
      "source": [
        "print(np.mean(fb.log_price))"
      ],
      "execution_count": 12,
      "outputs": [
        {
          "output_type": "stream",
          "text": [
            "4.780196717668124\n"
          ],
          "name": "stdout"
        }
      ]
    },
    {
      "cell_type": "markdown",
      "metadata": {
        "id": "FjJlY1-t_NDW"
      },
      "source": [
        "Geometric Mean"
      ]
    },
    {
      "cell_type": "code",
      "metadata": {
        "colab": {
          "base_uri": "https://localhost:8080/"
        },
        "id": "58MfaOQ19-Gr",
        "outputId": "21bba1c2-4313-4083-cfdb-548404cb9125"
      },
      "source": [
        "from scipy.stats.mstats import gmean\n",
        "gmean(fb.log_price)"
      ],
      "execution_count": 17,
      "outputs": [
        {
          "output_type": "execute_result",
          "data": {
            "text/plain": [
              "4.780127059125959"
            ]
          },
          "metadata": {
            "tags": []
          },
          "execution_count": 17
        }
      ]
    },
    {
      "cell_type": "markdown",
      "metadata": {
        "id": "P3bQo3BU0QIK"
      },
      "source": [
        "## Variance and Standard Deviation"
      ]
    },
    {
      "cell_type": "markdown",
      "metadata": {
        "id": "xkvY1Kla35ZN"
      },
      "source": [
        "Variance\n",
        "\\begin{equation*}\n",
        "\\sigma^2=\\frac{\\sum_{i=1}^{n}(x_i-\\mu)^2}{n}\n",
        "\\end{equation*}"
      ]
    },
    {
      "cell_type": "code",
      "metadata": {
        "id": "n6p6WwVTKRi_",
        "colab": {
          "base_uri": "https://localhost:8080/"
        },
        "outputId": "ef84deb6-8deb-4175-aecc-615fb178fa8e"
      },
      "source": [
        "print(np.var(aapl.log_price))"
      ],
      "execution_count": 6,
      "outputs": [
        {
          "output_type": "stream",
          "text": [
            "0.00014203280448152512\n"
          ],
          "name": "stdout"
        }
      ]
    },
    {
      "cell_type": "markdown",
      "metadata": {
        "id": "W1CzOODq49Ul"
      },
      "source": [
        "Standard Deviation \n",
        "\n",
        "\\begin{equation*}\n",
        "\\sigma = \\sqrt{\\sigma^2} \n",
        "\\end{equation*} "
      ]
    },
    {
      "cell_type": "code",
      "metadata": {
        "id": "1YlDw7b45bcM"
      },
      "source": [
        "print(np.std(aapl.log_price))"
      ],
      "execution_count": null,
      "outputs": []
    },
    {
      "cell_type": "markdown",
      "metadata": {
        "id": "L2ogNGQv0jTS"
      },
      "source": [
        "## NRROJASFE Example"
      ]
    },
    {
      "cell_type": "code",
      "metadata": {
        "colab": {
          "base_uri": "https://localhost:8080/"
        },
        "id": "Wyz9Hlk8_TYQ",
        "outputId": "d7a8fa49-e744-4657-a734-b97b3f65927e"
      },
      "source": [
        "print(np.var(fb.log_price))"
      ],
      "execution_count": 19,
      "outputs": [
        {
          "output_type": "stream",
          "text": [
            "0.0006661796396799118\n"
          ],
          "name": "stdout"
        }
      ]
    },
    {
      "cell_type": "code",
      "metadata": {
        "colab": {
          "base_uri": "https://localhost:8080/"
        },
        "id": "cpYpnb3r_aYT",
        "outputId": "3e0995a1-0aec-4e7a-f124-f24e2fadf5e5"
      },
      "source": [
        "print(np.std(fb.log_price))"
      ],
      "execution_count": 18,
      "outputs": [
        {
          "output_type": "stream",
          "text": [
            "0.02581045601456727\n"
          ],
          "name": "stdout"
        }
      ]
    }
  ]
}